{
 "cells": [
  {
   "cell_type": "markdown",
   "source": [
    "## Setup\n",
    "Install accompanying pinon library. It is better to install in dev mode in the conda environment with `pip install -e .` Jupyter server must restart to see changes to conda environment.\n",
    "Auto reload the pinon module.  Other imports may be ignored for auto reload e.g.  `%aimport -simfin`. Note use of option 2 for auto reload and excluding other modules, rather than option 1 and including only reloadable modules.  This is because option 1 does not work correctly with aliased imports.\n"
   ],
   "metadata": {
    "collapsed": false
   }
  },
  {
   "cell_type": "code",
   "execution_count": 6,
   "outputs": [
    {
     "name": "stdout",
     "output_type": "stream",
     "text": [
      "The autoreload extension is already loaded. To reload it, use:\n",
      "  %reload_ext autoreload\n",
      "Config file found at: /Users/daved/Dev/pinon/config/master.xlsx\n",
      "Simfin data directory: /Users/daved/Dev/pinon/simfin_data\n"
     ]
    }
   ],
   "source": [
    "# !pip install -e ..\n",
    "\n",
    "%load_ext autoreload\n",
    "%autoreload 2\n",
    "%aimport -pandas\n",
    "%aimport -simfin\n",
    "%aimport -os\n",
    "\n",
    "%aimport pinon\n",
    "\n",
    "%matplotlib inline\n",
    "\n",
    "# imports\n",
    "import pandas as pd\n",
    "import os\n",
    "\n",
    "import pinon as pn\n",
    "import simfin as sf\n",
    "from simfin.names import *  # column name shortcuts\n",
    "\n",
    "config = pn.Config('master')"
   ],
   "metadata": {
    "collapsed": false
   }
  },
  {
   "cell_type": "code",
   "execution_count": 8,
   "outputs": [],
   "source": [
    "dp = pn.DailyPrices()"
   ],
   "metadata": {
    "collapsed": false
   }
  },
  {
   "cell_type": "code",
   "execution_count": null,
   "outputs": [],
   "source": [
    "down = dp.downsample_prices('XOM')"
   ],
   "metadata": {
    "collapsed": false
   }
  },
  {
   "cell_type": "code",
   "execution_count": null,
   "outputs": [],
   "source": [
    "down.mean()"
   ],
   "metadata": {
    "collapsed": false
   }
  },
  {
   "cell_type": "code",
   "execution_count": 9,
   "outputs": [],
   "source": [
    "dps = dp.get_daily_prices(['XOM', CVX'])"
   ],
   "metadata": {
    "collapsed": false
   }
  },
  {
   "cell_type": "code",
   "execution_count": 10,
   "outputs": [
    {
     "data": {
      "text/plain": "            SimFinId    Open     Low    High   Close  Adj. Close  Dividend   \nDate                                                                         \n2000-01-03    121214   39.75   38.94   40.38   39.16       18.96       NaN  \\\n2000-01-04    121214   38.69   38.25   39.09   38.41       18.59       NaN   \n2000-01-05    121214   39.00   38.91   40.62   40.31       19.52       NaN   \n2000-01-06    121214   40.31   40.09   42.91   42.59       20.62       NaN   \n2000-01-07    121214   42.97   42.00   43.12   42.47       20.56       NaN   \n...              ...     ...     ...     ...     ...         ...       ...   \n2023-02-23    121214  110.73  109.90  111.83  110.74      110.74       NaN   \n2023-02-24    121214  109.33  109.02  110.96  110.75      110.75       NaN   \n2023-02-27    121214  110.80  109.96  111.26  110.55      110.55       NaN   \n2023-02-28    121214  111.24  109.22  111.36  109.91      109.91       NaN   \n2023-03-01    121214  109.31  109.24  111.86  110.89      110.89       NaN   \n\n              Volume  Shares Outstanding  \nDate                                      \n2000-01-03  13458200                 NaN  \n2000-01-04  14510800                 NaN  \n2000-01-05  17485000                 NaN  \n2000-01-06  19461600                 NaN  \n2000-01-07  16603800                 NaN  \n...              ...                 ...  \n2023-02-23  11275840        4.126214e+09  \n2023-02-24  14327946        4.126214e+09  \n2023-02-27  11688406        4.126214e+09  \n2023-02-28  17965021        4.126214e+09  \n2023-03-01  13029189        4.126214e+09  \n\n[5827 rows x 9 columns]",
      "text/html": "<div>\n<style scoped>\n    .dataframe tbody tr th:only-of-type {\n        vertical-align: middle;\n    }\n\n    .dataframe tbody tr th {\n        vertical-align: top;\n    }\n\n    .dataframe thead th {\n        text-align: right;\n    }\n</style>\n<table border=\"1\" class=\"dataframe\">\n  <thead>\n    <tr style=\"text-align: right;\">\n      <th></th>\n      <th>SimFinId</th>\n      <th>Open</th>\n      <th>Low</th>\n      <th>High</th>\n      <th>Close</th>\n      <th>Adj. Close</th>\n      <th>Dividend</th>\n      <th>Volume</th>\n      <th>Shares Outstanding</th>\n    </tr>\n    <tr>\n      <th>Date</th>\n      <th></th>\n      <th></th>\n      <th></th>\n      <th></th>\n      <th></th>\n      <th></th>\n      <th></th>\n      <th></th>\n      <th></th>\n    </tr>\n  </thead>\n  <tbody>\n    <tr>\n      <th>2000-01-03</th>\n      <td>121214</td>\n      <td>39.75</td>\n      <td>38.94</td>\n      <td>40.38</td>\n      <td>39.16</td>\n      <td>18.96</td>\n      <td>NaN</td>\n      <td>13458200</td>\n      <td>NaN</td>\n    </tr>\n    <tr>\n      <th>2000-01-04</th>\n      <td>121214</td>\n      <td>38.69</td>\n      <td>38.25</td>\n      <td>39.09</td>\n      <td>38.41</td>\n      <td>18.59</td>\n      <td>NaN</td>\n      <td>14510800</td>\n      <td>NaN</td>\n    </tr>\n    <tr>\n      <th>2000-01-05</th>\n      <td>121214</td>\n      <td>39.00</td>\n      <td>38.91</td>\n      <td>40.62</td>\n      <td>40.31</td>\n      <td>19.52</td>\n      <td>NaN</td>\n      <td>17485000</td>\n      <td>NaN</td>\n    </tr>\n    <tr>\n      <th>2000-01-06</th>\n      <td>121214</td>\n      <td>40.31</td>\n      <td>40.09</td>\n      <td>42.91</td>\n      <td>42.59</td>\n      <td>20.62</td>\n      <td>NaN</td>\n      <td>19461600</td>\n      <td>NaN</td>\n    </tr>\n    <tr>\n      <th>2000-01-07</th>\n      <td>121214</td>\n      <td>42.97</td>\n      <td>42.00</td>\n      <td>43.12</td>\n      <td>42.47</td>\n      <td>20.56</td>\n      <td>NaN</td>\n      <td>16603800</td>\n      <td>NaN</td>\n    </tr>\n    <tr>\n      <th>...</th>\n      <td>...</td>\n      <td>...</td>\n      <td>...</td>\n      <td>...</td>\n      <td>...</td>\n      <td>...</td>\n      <td>...</td>\n      <td>...</td>\n      <td>...</td>\n    </tr>\n    <tr>\n      <th>2023-02-23</th>\n      <td>121214</td>\n      <td>110.73</td>\n      <td>109.90</td>\n      <td>111.83</td>\n      <td>110.74</td>\n      <td>110.74</td>\n      <td>NaN</td>\n      <td>11275840</td>\n      <td>4.126214e+09</td>\n    </tr>\n    <tr>\n      <th>2023-02-24</th>\n      <td>121214</td>\n      <td>109.33</td>\n      <td>109.02</td>\n      <td>110.96</td>\n      <td>110.75</td>\n      <td>110.75</td>\n      <td>NaN</td>\n      <td>14327946</td>\n      <td>4.126214e+09</td>\n    </tr>\n    <tr>\n      <th>2023-02-27</th>\n      <td>121214</td>\n      <td>110.80</td>\n      <td>109.96</td>\n      <td>111.26</td>\n      <td>110.55</td>\n      <td>110.55</td>\n      <td>NaN</td>\n      <td>11688406</td>\n      <td>4.126214e+09</td>\n    </tr>\n    <tr>\n      <th>2023-02-28</th>\n      <td>121214</td>\n      <td>111.24</td>\n      <td>109.22</td>\n      <td>111.36</td>\n      <td>109.91</td>\n      <td>109.91</td>\n      <td>NaN</td>\n      <td>17965021</td>\n      <td>4.126214e+09</td>\n    </tr>\n    <tr>\n      <th>2023-03-01</th>\n      <td>121214</td>\n      <td>109.31</td>\n      <td>109.24</td>\n      <td>111.86</td>\n      <td>110.89</td>\n      <td>110.89</td>\n      <td>NaN</td>\n      <td>13029189</td>\n      <td>4.126214e+09</td>\n    </tr>\n  </tbody>\n</table>\n<p>5827 rows × 9 columns</p>\n</div>"
     },
     "execution_count": 10,
     "metadata": {},
     "output_type": "execute_result"
    }
   ],
   "source": [
    "dps.loc['XOM']"
   ],
   "metadata": {
    "collapsed": false
   }
  },
  {
   "cell_type": "code",
   "execution_count": 48,
   "outputs": [
    {
     "name": "stdout",
     "output_type": "stream",
     "text": [
      "Dataset \"us-income-annual\" not on disk.\n",
      "- Downloading ... 100.0%\n",
      "- Extracting zip-file ... Done!\n",
      "- Loading from disk ... "
     ]
    },
    {
     "name": "stderr",
     "output_type": "stream",
     "text": [
      "/Users/daved/opt/anaconda3/envs/py3_10_8_pinon/lib/python3.10/site-packages/simfin/load.py:144: FutureWarning: The argument 'date_parser' is deprecated and will be removed in a future version. Please use 'date_format' instead, or read your data in as 'object' dtype and then call 'to_datetime'.\n",
      "  df = pd.read_csv(path, sep=';', header=0,\n"
     ]
    },
    {
     "name": "stdout",
     "output_type": "stream",
     "text": [
      "Done!\n"
     ]
    }
   ],
   "source": [
    "qf = pn.Fundamentals()"
   ],
   "metadata": {
    "collapsed": false
   }
  },
  {
   "cell_type": "code",
   "execution_count": 49,
   "outputs": [],
   "source": [
    "temp = qf.get_income_statements(['IBM','CVX', 'D', 'V', 'MA'])"
   ],
   "metadata": {
    "collapsed": false
   }
  },
  {
   "cell_type": "code",
   "execution_count": 50,
   "outputs": [
    {
     "data": {
      "text/plain": "                     SimFinId Currency  Fiscal Year Fiscal Period Report Date   \nTicker Publish Date                                                             \nIBM    2009-01-27       69543      USD         2008            FY  2008-12-31  \\\n       2010-02-23       69543      USD         2009            FY  2009-12-31   \n       2011-02-22       69543      USD         2010            FY  2010-12-31   \n       2012-02-28       69543      USD         2011            FY  2011-12-31   \n       2013-02-26       69543      USD         2012            FY  2012-12-31   \n...                       ...      ...          ...           ...         ...   \nMA     2019-02-13      331628      USD         2018            FY  2018-12-31   \n       2020-02-14      331628      USD         2019            FY  2019-12-31   \n       2021-02-12      331628      USD         2020            FY  2020-12-31   \n       2022-02-11      331628      USD         2021            FY  2021-12-31   \n       2023-02-14      331628      USD         2022            FY  2022-12-31   \n\n                    Restated Date  Shares (Basic)  Shares (Diluted)   \nTicker Publish Date                                                   \nIBM    2009-01-27      2011-02-22    1.432358e+09      1.451636e+09  \\\n       2010-02-23      2012-02-28    1.388207e+09      1.403055e+09   \n       2011-02-22      2013-02-26    1.327154e+09      1.346574e+09   \n       2012-02-28      2014-02-25    1.252011e+09      1.269601e+09   \n       2013-02-26      2015-02-24    1.195064e+09      1.208600e+09   \n...                           ...             ...               ...   \nMA     2019-02-13      2021-02-12    1.041000e+09      1.047000e+09   \n       2020-02-14      2022-02-11    1.005000e+09      1.010000e+09   \n       2021-02-12      2023-02-14    1.003000e+09      1.008000e+09   \n       2022-02-11      2023-02-14    9.820000e+08      9.860000e+08   \n       2023-02-14      2023-02-14    9.680000e+08      9.710000e+08   \n\n                          Revenue  Cost of Revenue  ...   \nTicker Publish Date                                 ...   \nIBM    2009-01-27    1.036300e+11    -5.796900e+10  ...  \\\n       2010-02-23    9.575900e+10    -5.197200e+10  ...   \n       2011-02-22    9.987100e+10    -5.385700e+10  ...   \n       2012-02-28    1.069160e+11    -5.677800e+10  ...   \n       2013-02-26    1.028740e+11    -5.251300e+10  ...   \n...                           ...              ...  ...   \nMA     2019-02-13    1.495000e+10              NaN  ...   \n       2020-02-14    1.688300e+10              NaN  ...   \n       2021-02-12    1.530100e+10              NaN  ...   \n       2022-02-11    1.888400e+10              NaN  ...   \n       2023-02-14    2.223700e+10              NaN  ...   \n\n                     Non-Operating Income (Loss)  Interest Expense, Net   \nTicker Publish Date                                                       \nIBM    2009-01-27                   -375000000.0           -673000000.0  \\\n       2010-02-23                    -51000000.0           -402000000.0   \n       2011-02-22                    419000000.0           -368000000.0   \n       2012-02-28                   -391000000.0           -411000000.0   \n       2013-02-26                    384000000.0           -459000000.0   \n...                                          ...                    ...   \nMA     2019-02-13                    -78000000.0           -186000000.0   \n       2020-02-14                   -100000000.0           -224000000.0   \n       2021-02-12                   -351000000.0           -380000000.0   \n       2022-02-11                   -420000000.0           -431000000.0   \n       2023-02-14                   -387000000.0           -471000000.0   \n\n                     Pretax Income (Loss), Adj.  Abnormal Gains (Losses)   \nTicker Publish Date                                                        \nIBM    2009-01-27                  1.556300e+10             1.153000e+09  \\\n       2010-02-23                  1.696400e+10             1.177000e+09   \n       2011-02-22                  1.857000e+10             1.154000e+09   \n       2012-02-28                  1.989500e+10             1.108000e+09   \n       2013-02-26                  2.146600e+10             1.074000e+09   \n...                                         ...                      ...   \nMA     2019-02-13                  8.332000e+09            -1.128000e+09   \n       2020-02-14                  9.564000e+09             1.670000e+08   \n       2021-02-12                  7.803000e+09            -4.300000e+07   \n       2022-02-11                  9.756000e+09             5.510000e+08   \n       2023-02-14                  1.223300e+10            -5.010000e+08   \n\n                     Pretax Income (Loss)  Income Tax (Expense) Benefit, Net   \nTicker Publish Date                                                            \nIBM    2009-01-27            1.671600e+10                      -4.381000e+09  \\\n       2010-02-23            1.814100e+10                      -4.713000e+09   \n       2011-02-22            1.972400e+10                      -4.890000e+09   \n       2012-02-28            2.100300e+10                      -5.148000e+09   \n       2013-02-26            2.254000e+10                      -5.541000e+09   \n...                                   ...                                ...   \nMA     2019-02-13            7.204000e+09                      -1.345000e+09   \n       2020-02-14            9.731000e+09                      -1.613000e+09   \n       2021-02-12            7.760000e+09                      -1.349000e+09   \n       2022-02-11            1.030700e+10                      -1.620000e+09   \n       2023-02-14            1.173200e+10                      -1.802000e+09   \n\n                     Income (Loss) from Continuing Operations   \nTicker Publish Date                                             \nIBM    2009-01-27                                1.233500e+10  \\\n       2010-02-23                                1.342800e+10   \n       2011-02-22                                1.483400e+10   \n       2012-02-28                                1.585500e+10   \n       2013-02-26                                1.699900e+10   \n...                                                       ...   \nMA     2019-02-13                                5.859000e+09   \n       2020-02-14                                8.118000e+09   \n       2021-02-12                                6.411000e+09   \n       2022-02-11                                8.687000e+09   \n       2023-02-14                                9.930000e+09   \n\n                     Net Extraordinary Gains (Losses)   Net Income   \nTicker Publish Date                                                  \nIBM    2009-01-27                                 NaN  12335000000  \\\n       2010-02-23                                 NaN  13428000000   \n       2011-02-22                                 NaN  14834000000   \n       2012-02-28                                 NaN  15855000000   \n       2013-02-26                        -395000000.0  16604000000   \n...                                               ...          ...   \nMA     2019-02-13                                 NaN   5859000000   \n       2020-02-14                                 NaN   8118000000   \n       2021-02-12                                 NaN   6411000000   \n       2022-02-11                                 NaN   8687000000   \n       2023-02-14                                 NaN   9930000000   \n\n                     Net Income (Common)  \nTicker Publish Date                       \nIBM    2009-01-27            12335000000  \n       2010-02-23            13428000000  \n       2011-02-22            14834000000  \n       2012-02-28            15855000000  \n       2013-02-26            16604000000  \n...                                  ...  \nMA     2019-02-13             5859000000  \n       2020-02-14             8118000000  \n       2021-02-12             6411000000  \n       2022-02-11             8687000000  \n       2023-02-14             9930000000  \n\n[84 rows x 26 columns]",
      "text/html": "<div>\n<style scoped>\n    .dataframe tbody tr th:only-of-type {\n        vertical-align: middle;\n    }\n\n    .dataframe tbody tr th {\n        vertical-align: top;\n    }\n\n    .dataframe thead th {\n        text-align: right;\n    }\n</style>\n<table border=\"1\" class=\"dataframe\">\n  <thead>\n    <tr style=\"text-align: right;\">\n      <th></th>\n      <th></th>\n      <th>SimFinId</th>\n      <th>Currency</th>\n      <th>Fiscal Year</th>\n      <th>Fiscal Period</th>\n      <th>Report Date</th>\n      <th>Restated Date</th>\n      <th>Shares (Basic)</th>\n      <th>Shares (Diluted)</th>\n      <th>Revenue</th>\n      <th>Cost of Revenue</th>\n      <th>...</th>\n      <th>Non-Operating Income (Loss)</th>\n      <th>Interest Expense, Net</th>\n      <th>Pretax Income (Loss), Adj.</th>\n      <th>Abnormal Gains (Losses)</th>\n      <th>Pretax Income (Loss)</th>\n      <th>Income Tax (Expense) Benefit, Net</th>\n      <th>Income (Loss) from Continuing Operations</th>\n      <th>Net Extraordinary Gains (Losses)</th>\n      <th>Net Income</th>\n      <th>Net Income (Common)</th>\n    </tr>\n    <tr>\n      <th>Ticker</th>\n      <th>Publish Date</th>\n      <th></th>\n      <th></th>\n      <th></th>\n      <th></th>\n      <th></th>\n      <th></th>\n      <th></th>\n      <th></th>\n      <th></th>\n      <th></th>\n      <th></th>\n      <th></th>\n      <th></th>\n      <th></th>\n      <th></th>\n      <th></th>\n      <th></th>\n      <th></th>\n      <th></th>\n      <th></th>\n      <th></th>\n    </tr>\n  </thead>\n  <tbody>\n    <tr>\n      <th rowspan=\"5\" valign=\"top\">IBM</th>\n      <th>2009-01-27</th>\n      <td>69543</td>\n      <td>USD</td>\n      <td>2008</td>\n      <td>FY</td>\n      <td>2008-12-31</td>\n      <td>2011-02-22</td>\n      <td>1.432358e+09</td>\n      <td>1.451636e+09</td>\n      <td>1.036300e+11</td>\n      <td>-5.796900e+10</td>\n      <td>...</td>\n      <td>-375000000.0</td>\n      <td>-673000000.0</td>\n      <td>1.556300e+10</td>\n      <td>1.153000e+09</td>\n      <td>1.671600e+10</td>\n      <td>-4.381000e+09</td>\n      <td>1.233500e+10</td>\n      <td>NaN</td>\n      <td>12335000000</td>\n      <td>12335000000</td>\n    </tr>\n    <tr>\n      <th>2010-02-23</th>\n      <td>69543</td>\n      <td>USD</td>\n      <td>2009</td>\n      <td>FY</td>\n      <td>2009-12-31</td>\n      <td>2012-02-28</td>\n      <td>1.388207e+09</td>\n      <td>1.403055e+09</td>\n      <td>9.575900e+10</td>\n      <td>-5.197200e+10</td>\n      <td>...</td>\n      <td>-51000000.0</td>\n      <td>-402000000.0</td>\n      <td>1.696400e+10</td>\n      <td>1.177000e+09</td>\n      <td>1.814100e+10</td>\n      <td>-4.713000e+09</td>\n      <td>1.342800e+10</td>\n      <td>NaN</td>\n      <td>13428000000</td>\n      <td>13428000000</td>\n    </tr>\n    <tr>\n      <th>2011-02-22</th>\n      <td>69543</td>\n      <td>USD</td>\n      <td>2010</td>\n      <td>FY</td>\n      <td>2010-12-31</td>\n      <td>2013-02-26</td>\n      <td>1.327154e+09</td>\n      <td>1.346574e+09</td>\n      <td>9.987100e+10</td>\n      <td>-5.385700e+10</td>\n      <td>...</td>\n      <td>419000000.0</td>\n      <td>-368000000.0</td>\n      <td>1.857000e+10</td>\n      <td>1.154000e+09</td>\n      <td>1.972400e+10</td>\n      <td>-4.890000e+09</td>\n      <td>1.483400e+10</td>\n      <td>NaN</td>\n      <td>14834000000</td>\n      <td>14834000000</td>\n    </tr>\n    <tr>\n      <th>2012-02-28</th>\n      <td>69543</td>\n      <td>USD</td>\n      <td>2011</td>\n      <td>FY</td>\n      <td>2011-12-31</td>\n      <td>2014-02-25</td>\n      <td>1.252011e+09</td>\n      <td>1.269601e+09</td>\n      <td>1.069160e+11</td>\n      <td>-5.677800e+10</td>\n      <td>...</td>\n      <td>-391000000.0</td>\n      <td>-411000000.0</td>\n      <td>1.989500e+10</td>\n      <td>1.108000e+09</td>\n      <td>2.100300e+10</td>\n      <td>-5.148000e+09</td>\n      <td>1.585500e+10</td>\n      <td>NaN</td>\n      <td>15855000000</td>\n      <td>15855000000</td>\n    </tr>\n    <tr>\n      <th>2013-02-26</th>\n      <td>69543</td>\n      <td>USD</td>\n      <td>2012</td>\n      <td>FY</td>\n      <td>2012-12-31</td>\n      <td>2015-02-24</td>\n      <td>1.195064e+09</td>\n      <td>1.208600e+09</td>\n      <td>1.028740e+11</td>\n      <td>-5.251300e+10</td>\n      <td>...</td>\n      <td>384000000.0</td>\n      <td>-459000000.0</td>\n      <td>2.146600e+10</td>\n      <td>1.074000e+09</td>\n      <td>2.254000e+10</td>\n      <td>-5.541000e+09</td>\n      <td>1.699900e+10</td>\n      <td>-395000000.0</td>\n      <td>16604000000</td>\n      <td>16604000000</td>\n    </tr>\n    <tr>\n      <th>...</th>\n      <th>...</th>\n      <td>...</td>\n      <td>...</td>\n      <td>...</td>\n      <td>...</td>\n      <td>...</td>\n      <td>...</td>\n      <td>...</td>\n      <td>...</td>\n      <td>...</td>\n      <td>...</td>\n      <td>...</td>\n      <td>...</td>\n      <td>...</td>\n      <td>...</td>\n      <td>...</td>\n      <td>...</td>\n      <td>...</td>\n      <td>...</td>\n      <td>...</td>\n      <td>...</td>\n      <td>...</td>\n    </tr>\n    <tr>\n      <th rowspan=\"5\" valign=\"top\">MA</th>\n      <th>2019-02-13</th>\n      <td>331628</td>\n      <td>USD</td>\n      <td>2018</td>\n      <td>FY</td>\n      <td>2018-12-31</td>\n      <td>2021-02-12</td>\n      <td>1.041000e+09</td>\n      <td>1.047000e+09</td>\n      <td>1.495000e+10</td>\n      <td>NaN</td>\n      <td>...</td>\n      <td>-78000000.0</td>\n      <td>-186000000.0</td>\n      <td>8.332000e+09</td>\n      <td>-1.128000e+09</td>\n      <td>7.204000e+09</td>\n      <td>-1.345000e+09</td>\n      <td>5.859000e+09</td>\n      <td>NaN</td>\n      <td>5859000000</td>\n      <td>5859000000</td>\n    </tr>\n    <tr>\n      <th>2020-02-14</th>\n      <td>331628</td>\n      <td>USD</td>\n      <td>2019</td>\n      <td>FY</td>\n      <td>2019-12-31</td>\n      <td>2022-02-11</td>\n      <td>1.005000e+09</td>\n      <td>1.010000e+09</td>\n      <td>1.688300e+10</td>\n      <td>NaN</td>\n      <td>...</td>\n      <td>-100000000.0</td>\n      <td>-224000000.0</td>\n      <td>9.564000e+09</td>\n      <td>1.670000e+08</td>\n      <td>9.731000e+09</td>\n      <td>-1.613000e+09</td>\n      <td>8.118000e+09</td>\n      <td>NaN</td>\n      <td>8118000000</td>\n      <td>8118000000</td>\n    </tr>\n    <tr>\n      <th>2021-02-12</th>\n      <td>331628</td>\n      <td>USD</td>\n      <td>2020</td>\n      <td>FY</td>\n      <td>2020-12-31</td>\n      <td>2023-02-14</td>\n      <td>1.003000e+09</td>\n      <td>1.008000e+09</td>\n      <td>1.530100e+10</td>\n      <td>NaN</td>\n      <td>...</td>\n      <td>-351000000.0</td>\n      <td>-380000000.0</td>\n      <td>7.803000e+09</td>\n      <td>-4.300000e+07</td>\n      <td>7.760000e+09</td>\n      <td>-1.349000e+09</td>\n      <td>6.411000e+09</td>\n      <td>NaN</td>\n      <td>6411000000</td>\n      <td>6411000000</td>\n    </tr>\n    <tr>\n      <th>2022-02-11</th>\n      <td>331628</td>\n      <td>USD</td>\n      <td>2021</td>\n      <td>FY</td>\n      <td>2021-12-31</td>\n      <td>2023-02-14</td>\n      <td>9.820000e+08</td>\n      <td>9.860000e+08</td>\n      <td>1.888400e+10</td>\n      <td>NaN</td>\n      <td>...</td>\n      <td>-420000000.0</td>\n      <td>-431000000.0</td>\n      <td>9.756000e+09</td>\n      <td>5.510000e+08</td>\n      <td>1.030700e+10</td>\n      <td>-1.620000e+09</td>\n      <td>8.687000e+09</td>\n      <td>NaN</td>\n      <td>8687000000</td>\n      <td>8687000000</td>\n    </tr>\n    <tr>\n      <th>2023-02-14</th>\n      <td>331628</td>\n      <td>USD</td>\n      <td>2022</td>\n      <td>FY</td>\n      <td>2022-12-31</td>\n      <td>2023-02-14</td>\n      <td>9.680000e+08</td>\n      <td>9.710000e+08</td>\n      <td>2.223700e+10</td>\n      <td>NaN</td>\n      <td>...</td>\n      <td>-387000000.0</td>\n      <td>-471000000.0</td>\n      <td>1.223300e+10</td>\n      <td>-5.010000e+08</td>\n      <td>1.173200e+10</td>\n      <td>-1.802000e+09</td>\n      <td>9.930000e+09</td>\n      <td>NaN</td>\n      <td>9930000000</td>\n      <td>9930000000</td>\n    </tr>\n  </tbody>\n</table>\n<p>84 rows × 26 columns</p>\n</div>"
     },
     "execution_count": 50,
     "metadata": {},
     "output_type": "execute_result"
    }
   ],
   "source": [
    "temp."
   ],
   "metadata": {
    "collapsed": false
   }
  }
 ],
 "metadata": {
  "kernelspec": {
   "display_name": "Python 3",
   "language": "python",
   "name": "python3"
  },
  "language_info": {
   "codemirror_mode": {
    "name": "ipython",
    "version": 2
   },
   "file_extension": ".py",
   "mimetype": "text/x-python",
   "name": "python",
   "nbconvert_exporter": "python",
   "pygments_lexer": "ipython2",
   "version": "2.7.6"
  }
 },
 "nbformat": 4,
 "nbformat_minor": 0
}
