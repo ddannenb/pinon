{
 "cells": [
  {
   "cell_type": "markdown",
   "source": [
    "## Setup\n",
    "Install accompanying pinon library. It is better to install in dev mode in the conda environment with `pip install -e .` Jupyter server must restart to see changes to conda environment.\n",
    "Auto reload the pinon module.  Other imports may be ignored for auto reload e.g.  `%aimport -simfin`. Note use of option 2 for auto reload and excluding other modules, rather than option 1 and including only reloadable modules.  This is because option 1 does not work correctly with aliased imports.\n"
   ],
   "metadata": {
    "collapsed": false
   }
  },
  {
   "cell_type": "code",
   "execution_count": null,
   "outputs": [],
   "source": [],
   "metadata": {
    "collapsed": false
   }
  },
  {
   "cell_type": "code",
   "execution_count": 1,
   "outputs": [
    {
     "name": "stdout",
     "output_type": "stream",
     "text": [
      "Config file found at: /Users/daved/Dev/pinon/config/master.xlsx\n",
      "Simfin data directory: /Users/daved/Dev/pinon/simfin_data\n"
     ]
    }
   ],
   "source": [
    "# !pip install -e ..\n",
    "\n",
    "%load_ext autoreload\n",
    "%autoreload 2\n",
    "%aimport -pandas\n",
    "%aimport -simfin\n",
    "%aimport -os\n",
    "\n",
    "%aimport pinon\n",
    "\n",
    "%matplotlib inline\n",
    "\n",
    "# imports\n",
    "import pandas as pd\n",
    "import os\n",
    "\n",
    "import pinon as pn\n",
    "import simfin as sf\n",
    "import simfin.names as sf_cols  # column name shortcuts\n",
    "\n",
    "config = pn.Config('master')"
   ],
   "metadata": {
    "collapsed": false
   }
  },
  {
   "cell_type": "code",
   "execution_count": 2,
   "outputs": [
    {
     "name": "stdout",
     "output_type": "stream",
     "text": [
      "Dataset \"us-shareprices-daily\" on disk (9 days old).\n",
      "- Loading from disk ... "
     ]
    },
    {
     "name": "stderr",
     "output_type": "stream",
     "text": [
      "/Users/daved/opt/anaconda3/envs/py3_10_8_pinon/lib/python3.10/site-packages/simfin/load.py:144: FutureWarning: The argument 'date_parser' is deprecated and will be removed in a future version. Please use 'date_format' instead, or read your data in as 'object' dtype and then call 'to_datetime'.\n",
      "  df = pd.read_csv(path, sep=';', header=0,\n"
     ]
    },
    {
     "name": "stdout",
     "output_type": "stream",
     "text": [
      "Done!\n"
     ]
    }
   ],
   "source": [
    "dp = pn.DailyPrices()"
   ],
   "metadata": {
    "collapsed": false
   }
  },
  {
   "cell_type": "code",
   "execution_count": 5,
   "outputs": [],
   "source": [
    "down = dp.downsample_prices('INTC')"
   ],
   "metadata": {
    "collapsed": false
   }
  },
  {
   "cell_type": "code",
   "execution_count": 6,
   "outputs": [
    {
     "data": {
      "text/plain": "            SimFinId       Open        Low       High      Close  Adj. Close   \nDate                                                                           \n2000-03-31   85652.0  54.812381  53.767460  56.295714  55.077937   32.060317  \\\n2000-06-30   85652.0  62.524603  61.128571  64.117460  62.569841   36.429365   \n2000-09-30   85652.0  65.697619  64.301746  66.987460  65.426825   38.104286   \n2000-12-31   85652.0  39.474444  38.025556  40.578730  38.953333   22.694286   \n2001-03-31   85652.0  31.775968  30.769839  32.816613  31.708226   18.483548   \n...              ...        ...        ...        ...        ...         ...   \n2022-03-31   85652.0  49.519839  48.785484  50.213710  49.564516   47.298065   \n2022-06-30   85652.0  43.398065  42.730806  43.900645  43.264677   41.612581   \n2022-09-30   85652.0  34.189062  33.652969  34.556094  34.094531   33.101250   \n2022-12-31   85652.0  27.772857  27.325556  28.207143  27.773968   27.295714   \n2023-03-31   85652.0  28.170000  27.751250  28.654750  28.262000   28.051250   \n\n            Dividend        Volume  Shares Outstanding  \nDate                                                    \n2000-03-31      0.01  5.561261e+07                 NaN  \n2000-06-30      0.01  5.090721e+07                 NaN  \n2000-09-30      0.02  4.714292e+07                 NaN  \n2000-12-31      0.02  5.622823e+07                 NaN  \n2001-03-31      0.02  5.713449e+07                 NaN  \n...              ...           ...                 ...  \n2022-03-31      0.36  4.021207e+07        4.067000e+09  \n2022-06-30      0.36  3.541272e+07        4.068968e+09  \n2022-09-30      0.36  4.032034e+07        4.099516e+09  \n2022-12-31      0.36  4.013613e+07        4.100000e+09  \n2023-03-31      0.36  4.416752e+07        4.100000e+09  \n\n[93 rows x 9 columns]",
      "text/html": "<div>\n<style scoped>\n    .dataframe tbody tr th:only-of-type {\n        vertical-align: middle;\n    }\n\n    .dataframe tbody tr th {\n        vertical-align: top;\n    }\n\n    .dataframe thead th {\n        text-align: right;\n    }\n</style>\n<table border=\"1\" class=\"dataframe\">\n  <thead>\n    <tr style=\"text-align: right;\">\n      <th></th>\n      <th>SimFinId</th>\n      <th>Open</th>\n      <th>Low</th>\n      <th>High</th>\n      <th>Close</th>\n      <th>Adj. Close</th>\n      <th>Dividend</th>\n      <th>Volume</th>\n      <th>Shares Outstanding</th>\n    </tr>\n    <tr>\n      <th>Date</th>\n      <th></th>\n      <th></th>\n      <th></th>\n      <th></th>\n      <th></th>\n      <th></th>\n      <th></th>\n      <th></th>\n      <th></th>\n    </tr>\n  </thead>\n  <tbody>\n    <tr>\n      <th>2000-03-31</th>\n      <td>85652.0</td>\n      <td>54.812381</td>\n      <td>53.767460</td>\n      <td>56.295714</td>\n      <td>55.077937</td>\n      <td>32.060317</td>\n      <td>0.01</td>\n      <td>5.561261e+07</td>\n      <td>NaN</td>\n    </tr>\n    <tr>\n      <th>2000-06-30</th>\n      <td>85652.0</td>\n      <td>62.524603</td>\n      <td>61.128571</td>\n      <td>64.117460</td>\n      <td>62.569841</td>\n      <td>36.429365</td>\n      <td>0.01</td>\n      <td>5.090721e+07</td>\n      <td>NaN</td>\n    </tr>\n    <tr>\n      <th>2000-09-30</th>\n      <td>85652.0</td>\n      <td>65.697619</td>\n      <td>64.301746</td>\n      <td>66.987460</td>\n      <td>65.426825</td>\n      <td>38.104286</td>\n      <td>0.02</td>\n      <td>4.714292e+07</td>\n      <td>NaN</td>\n    </tr>\n    <tr>\n      <th>2000-12-31</th>\n      <td>85652.0</td>\n      <td>39.474444</td>\n      <td>38.025556</td>\n      <td>40.578730</td>\n      <td>38.953333</td>\n      <td>22.694286</td>\n      <td>0.02</td>\n      <td>5.622823e+07</td>\n      <td>NaN</td>\n    </tr>\n    <tr>\n      <th>2001-03-31</th>\n      <td>85652.0</td>\n      <td>31.775968</td>\n      <td>30.769839</td>\n      <td>32.816613</td>\n      <td>31.708226</td>\n      <td>18.483548</td>\n      <td>0.02</td>\n      <td>5.713449e+07</td>\n      <td>NaN</td>\n    </tr>\n    <tr>\n      <th>...</th>\n      <td>...</td>\n      <td>...</td>\n      <td>...</td>\n      <td>...</td>\n      <td>...</td>\n      <td>...</td>\n      <td>...</td>\n      <td>...</td>\n      <td>...</td>\n    </tr>\n    <tr>\n      <th>2022-03-31</th>\n      <td>85652.0</td>\n      <td>49.519839</td>\n      <td>48.785484</td>\n      <td>50.213710</td>\n      <td>49.564516</td>\n      <td>47.298065</td>\n      <td>0.36</td>\n      <td>4.021207e+07</td>\n      <td>4.067000e+09</td>\n    </tr>\n    <tr>\n      <th>2022-06-30</th>\n      <td>85652.0</td>\n      <td>43.398065</td>\n      <td>42.730806</td>\n      <td>43.900645</td>\n      <td>43.264677</td>\n      <td>41.612581</td>\n      <td>0.36</td>\n      <td>3.541272e+07</td>\n      <td>4.068968e+09</td>\n    </tr>\n    <tr>\n      <th>2022-09-30</th>\n      <td>85652.0</td>\n      <td>34.189062</td>\n      <td>33.652969</td>\n      <td>34.556094</td>\n      <td>34.094531</td>\n      <td>33.101250</td>\n      <td>0.36</td>\n      <td>4.032034e+07</td>\n      <td>4.099516e+09</td>\n    </tr>\n    <tr>\n      <th>2022-12-31</th>\n      <td>85652.0</td>\n      <td>27.772857</td>\n      <td>27.325556</td>\n      <td>28.207143</td>\n      <td>27.773968</td>\n      <td>27.295714</td>\n      <td>0.36</td>\n      <td>4.013613e+07</td>\n      <td>4.100000e+09</td>\n    </tr>\n    <tr>\n      <th>2023-03-31</th>\n      <td>85652.0</td>\n      <td>28.170000</td>\n      <td>27.751250</td>\n      <td>28.654750</td>\n      <td>28.262000</td>\n      <td>28.051250</td>\n      <td>0.36</td>\n      <td>4.416752e+07</td>\n      <td>4.100000e+09</td>\n    </tr>\n  </tbody>\n</table>\n<p>93 rows × 9 columns</p>\n</div>"
     },
     "execution_count": 6,
     "metadata": {},
     "output_type": "execute_result"
    }
   ],
   "source": [
    "down"
   ],
   "metadata": {
    "collapsed": false
   }
  },
  {
   "cell_type": "code",
   "execution_count": null,
   "outputs": [],
   "source": [
    "dps = dp.get_daily_prices(['XOM', 'CVX', 'MSFT'])"
   ],
   "metadata": {
    "collapsed": false
   }
  },
  {
   "cell_type": "code",
   "execution_count": null,
   "outputs": [],
   "source": [
    "msft_qtrly_prices = dp.downsample_prices('MSFT')\n",
    "msft_qtrly_prices_ndx = msft_qtrly_prices.index\n",
    "msft_qtrly_prices"
   ],
   "metadata": {
    "collapsed": false
   }
  },
  {
   "cell_type": "code",
   "execution_count": null,
   "outputs": [],
   "source": [
    "qf = pn.Fundamentals()"
   ],
   "metadata": {
    "collapsed": false
   }
  },
  {
   "cell_type": "code",
   "execution_count": null,
   "outputs": [],
   "source": [
    "temp = qf.get_income_statements(['IBM','CVX', 'D', 'V', 'MA', 'MSFT'])\n",
    "msft_stmnts = temp.loc['MSFT']\n",
    "msft_stmnts_ndx = msft_stmnts.index\n",
    "msft_stmnts"
   ],
   "metadata": {
    "collapsed": false
   }
  },
  {
   "cell_type": "code",
   "execution_count": null,
   "outputs": [],
   "source": [
    "temp.index"
   ],
   "metadata": {
    "collapsed": false
   }
  },
  {
   "cell_type": "code",
   "execution_count": null,
   "outputs": [],
   "source": [
    "re_prices = msft_qtrly_prices.reindex(msft_stmnts_ndx)\n",
    "re_prices"
   ],
   "metadata": {
    "collapsed": false
   }
  },
  {
   "cell_type": "code",
   "execution_count": null,
   "outputs": [],
   "source": [
    "common_ndx = msft_stmnts_ndx.intersection(msft_qtrly_prices_ndx)\n",
    "common_ndx"
   ],
   "metadata": {
    "collapsed": false
   }
  },
  {
   "cell_type": "code",
   "execution_count": null,
   "outputs": [],
   "source": [
    "re_statements = msft_stmnts.reindex(common_ndx)\n",
    "re_prices = msft_qtrly_prices.reindex(common_ndx)"
   ],
   "metadata": {
    "collapsed": false
   }
  },
  {
   "cell_type": "code",
   "execution_count": null,
   "outputs": [],
   "source": [
    "msft_res = pd.DataFrame(index=common_ndx)\n",
    "msft_res['eps_qtr'] = msft_stmnts[sf_cols.NET_INCOME] / msft_stmnts[sf_cols.SHARES_DILUTED]\n",
    "msft_res['eps_ttm'] = msft_res['eps_qtr'].rolling(4).sum()\n",
    "msft_res['pe'] = msft_qtrly_prices[sf_cols.CLOSE] / msft_res['eps_ttm']\n",
    "msft_res"
   ],
   "metadata": {
    "collapsed": false
   }
  }
 ],
 "metadata": {
  "kernelspec": {
   "display_name": "Python 3",
   "language": "python",
   "name": "python3"
  },
  "language_info": {
   "codemirror_mode": {
    "name": "ipython",
    "version": 2
   },
   "file_extension": ".py",
   "mimetype": "text/x-python",
   "name": "python",
   "nbconvert_exporter": "python",
   "pygments_lexer": "ipython2",
   "version": "2.7.6"
  }
 },
 "nbformat": 4,
 "nbformat_minor": 0
}
