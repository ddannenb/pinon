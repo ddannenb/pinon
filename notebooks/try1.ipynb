{
 "cells": [
  {
   "cell_type": "markdown",
   "source": [
    "## Setup\n",
    "Install accompanying pinon library. It is better to install in dev mode in the conda environment with `pip install -e .` Jupyter server must restart to see changes to conda environment.\n",
    "Auto reload the pinon module.  Other imports may be ignored for auto reload e.g.  `%aimport -simfin`. Note use of option 2 for auto reload and excluding other modules, rather than option 1 and including only reloadable modules.  This is because option 1 does not work correctly with aliased imports.\n"
   ],
   "metadata": {
    "collapsed": false
   }
  },
  {
   "cell_type": "code",
   "execution_count": 1,
   "outputs": [
    {
     "name": "stdout",
     "output_type": "stream",
     "text": [
      "Config file found at: /Users/daved/Dev/pinon/config/master.xlsx\n",
      "Simfin data directory: /Users/daved/Dev/pinon/simfin_data\n"
     ]
    }
   ],
   "source": [
    "# !pip install -e ..\n",
    "\n",
    "%load_ext autoreload\n",
    "%autoreload 2\n",
    "%aimport -pandas\n",
    "%aimport -simfin\n",
    "%aimport -os\n",
    "\n",
    "%aimport pinon\n",
    "\n",
    "%matplotlib inline\n",
    "\n",
    "# imports\n",
    "import pandas as pd\n",
    "import os\n",
    "\n",
    "import pinon as pn\n",
    "import simfin as sf\n",
    "import simfin.names as sf_cols  # column name shortcuts\n",
    "\n",
    "config = pn.Config('master')"
   ],
   "metadata": {
    "collapsed": false
   }
  },
  {
   "cell_type": "code",
   "execution_count": 2,
   "outputs": [
    {
     "name": "stdout",
     "output_type": "stream",
     "text": [
      "Dataset \"us-shareprices-daily\" on disk (3 days old).\n",
      "- Loading from disk ... "
     ]
    },
    {
     "name": "stderr",
     "output_type": "stream",
     "text": [
      "/Users/daved/opt/anaconda3/envs/py3_10_8_pinon/lib/python3.10/site-packages/simfin/load.py:144: FutureWarning: The argument 'date_parser' is deprecated and will be removed in a future version. Please use 'date_format' instead, or read your data in as 'object' dtype and then call 'to_datetime'.\n",
      "  df = pd.read_csv(path, sep=';', header=0,\n"
     ]
    },
    {
     "name": "stdout",
     "output_type": "stream",
     "text": [
      "Done!\n"
     ]
    }
   ],
   "source": [
    "dp = pn.DailyPrices()"
   ],
   "metadata": {
    "collapsed": false
   }
  },
  {
   "cell_type": "code",
   "execution_count": 3,
   "outputs": [],
   "source": [
    "down = dp.downsample_prices('XOM')"
   ],
   "metadata": {
    "collapsed": false
   }
  },
  {
   "cell_type": "code",
   "execution_count": 5,
   "outputs": [
    {
     "data": {
      "text/plain": "            SimFinId        Open         Low        High       Close   \nDate                                                                   \n2000-03-31  121214.0   39.446190   38.776032   40.240952   39.577460  \\\n2000-06-30  121214.0   40.395238   39.947302   40.947302   40.465238   \n2000-09-30  121214.0   41.112063   40.745397   41.513492   41.113175   \n2000-12-31  121214.0   44.544762   44.050794   45.142063   44.529841   \n2001-03-31  121214.0   41.307742   40.847258   41.718871   41.243387   \n...              ...         ...         ...         ...         ...   \n2022-03-31  121214.0   77.377742   76.374839   78.661613   77.731935   \n2022-06-30  121214.0   90.254355   88.867581   91.658710   90.197581   \n2022-09-30  121214.0   91.141406   89.972344   92.415625   91.296875   \n2022-12-31  121214.0  106.886349  105.720794  108.333016  107.143333   \n2023-03-31  121214.0  112.189250  110.868250  113.836750  112.581000   \n\n            Adj. Close  Dividend        Volume  Shares Outstanding  \nDate                                                                \n2000-03-31   19.223968      0.22  1.192689e+07                 NaN  \n2000-06-30   19.764286      0.22  1.000656e+07                 NaN  \n2000-09-30   20.190159      0.22  1.055078e+07                 NaN  \n2000-12-31   21.976032      0.22  1.179094e+07                 NaN  \n2001-03-31   20.461774      0.22  1.278117e+07                 NaN  \n...                ...       ...           ...                 ...  \n2022-03-31   74.712419      0.88  3.363067e+07        4.264423e+09  \n2022-06-30   87.580000      0.88  2.944123e+07        4.264028e+09  \n2022-09-30   89.519844      0.88  1.973469e+07        4.240469e+09  \n2022-12-31  105.926032      0.91  1.866981e+07        4.276000e+09  \n2023-03-31  111.976750      0.91  1.632848e+07        4.126214e+09  \n\n[93 rows x 9 columns]",
      "text/html": "<div>\n<style scoped>\n    .dataframe tbody tr th:only-of-type {\n        vertical-align: middle;\n    }\n\n    .dataframe tbody tr th {\n        vertical-align: top;\n    }\n\n    .dataframe thead th {\n        text-align: right;\n    }\n</style>\n<table border=\"1\" class=\"dataframe\">\n  <thead>\n    <tr style=\"text-align: right;\">\n      <th></th>\n      <th>SimFinId</th>\n      <th>Open</th>\n      <th>Low</th>\n      <th>High</th>\n      <th>Close</th>\n      <th>Adj. Close</th>\n      <th>Dividend</th>\n      <th>Volume</th>\n      <th>Shares Outstanding</th>\n    </tr>\n    <tr>\n      <th>Date</th>\n      <th></th>\n      <th></th>\n      <th></th>\n      <th></th>\n      <th></th>\n      <th></th>\n      <th></th>\n      <th></th>\n      <th></th>\n    </tr>\n  </thead>\n  <tbody>\n    <tr>\n      <th>2000-03-31</th>\n      <td>121214.0</td>\n      <td>39.446190</td>\n      <td>38.776032</td>\n      <td>40.240952</td>\n      <td>39.577460</td>\n      <td>19.223968</td>\n      <td>0.22</td>\n      <td>1.192689e+07</td>\n      <td>NaN</td>\n    </tr>\n    <tr>\n      <th>2000-06-30</th>\n      <td>121214.0</td>\n      <td>40.395238</td>\n      <td>39.947302</td>\n      <td>40.947302</td>\n      <td>40.465238</td>\n      <td>19.764286</td>\n      <td>0.22</td>\n      <td>1.000656e+07</td>\n      <td>NaN</td>\n    </tr>\n    <tr>\n      <th>2000-09-30</th>\n      <td>121214.0</td>\n      <td>41.112063</td>\n      <td>40.745397</td>\n      <td>41.513492</td>\n      <td>41.113175</td>\n      <td>20.190159</td>\n      <td>0.22</td>\n      <td>1.055078e+07</td>\n      <td>NaN</td>\n    </tr>\n    <tr>\n      <th>2000-12-31</th>\n      <td>121214.0</td>\n      <td>44.544762</td>\n      <td>44.050794</td>\n      <td>45.142063</td>\n      <td>44.529841</td>\n      <td>21.976032</td>\n      <td>0.22</td>\n      <td>1.179094e+07</td>\n      <td>NaN</td>\n    </tr>\n    <tr>\n      <th>2001-03-31</th>\n      <td>121214.0</td>\n      <td>41.307742</td>\n      <td>40.847258</td>\n      <td>41.718871</td>\n      <td>41.243387</td>\n      <td>20.461774</td>\n      <td>0.22</td>\n      <td>1.278117e+07</td>\n      <td>NaN</td>\n    </tr>\n    <tr>\n      <th>...</th>\n      <td>...</td>\n      <td>...</td>\n      <td>...</td>\n      <td>...</td>\n      <td>...</td>\n      <td>...</td>\n      <td>...</td>\n      <td>...</td>\n      <td>...</td>\n    </tr>\n    <tr>\n      <th>2022-03-31</th>\n      <td>121214.0</td>\n      <td>77.377742</td>\n      <td>76.374839</td>\n      <td>78.661613</td>\n      <td>77.731935</td>\n      <td>74.712419</td>\n      <td>0.88</td>\n      <td>3.363067e+07</td>\n      <td>4.264423e+09</td>\n    </tr>\n    <tr>\n      <th>2022-06-30</th>\n      <td>121214.0</td>\n      <td>90.254355</td>\n      <td>88.867581</td>\n      <td>91.658710</td>\n      <td>90.197581</td>\n      <td>87.580000</td>\n      <td>0.88</td>\n      <td>2.944123e+07</td>\n      <td>4.264028e+09</td>\n    </tr>\n    <tr>\n      <th>2022-09-30</th>\n      <td>121214.0</td>\n      <td>91.141406</td>\n      <td>89.972344</td>\n      <td>92.415625</td>\n      <td>91.296875</td>\n      <td>89.519844</td>\n      <td>0.88</td>\n      <td>1.973469e+07</td>\n      <td>4.240469e+09</td>\n    </tr>\n    <tr>\n      <th>2022-12-31</th>\n      <td>121214.0</td>\n      <td>106.886349</td>\n      <td>105.720794</td>\n      <td>108.333016</td>\n      <td>107.143333</td>\n      <td>105.926032</td>\n      <td>0.91</td>\n      <td>1.866981e+07</td>\n      <td>4.276000e+09</td>\n    </tr>\n    <tr>\n      <th>2023-03-31</th>\n      <td>121214.0</td>\n      <td>112.189250</td>\n      <td>110.868250</td>\n      <td>113.836750</td>\n      <td>112.581000</td>\n      <td>111.976750</td>\n      <td>0.91</td>\n      <td>1.632848e+07</td>\n      <td>4.126214e+09</td>\n    </tr>\n  </tbody>\n</table>\n<p>93 rows × 9 columns</p>\n</div>"
     },
     "execution_count": 5,
     "metadata": {},
     "output_type": "execute_result"
    }
   ],
   "source": [
    "down"
   ],
   "metadata": {
    "collapsed": false
   }
  },
  {
   "cell_type": "code",
   "execution_count": 27,
   "outputs": [],
   "source": [
    "dps = dp.get_daily_prices(['XOM', 'CVX', 'MSFT'])"
   ],
   "metadata": {
    "collapsed": false
   }
  },
  {
   "cell_type": "code",
   "execution_count": 33,
   "outputs": [
    {
     "data": {
      "text/plain": "            SimFinId        Open         Low        High       Close   \nDate                                                                   \n2000-03-31   59265.0   51.030000   49.920952   52.169683   50.984921  \\\n2000-06-30   59265.0   36.556349   35.748413   37.115556   36.379206   \n2000-09-30   59265.0   35.440635   34.917778   35.968730   35.374603   \n2000-12-31   59265.0   29.832381   29.075873   30.579365   29.703175   \n2001-03-31   59265.0   28.302903   27.727258   29.052903   28.420000   \n...              ...         ...         ...         ...         ...   \n2022-03-31   59265.0  301.400806  296.457581  305.124032  300.853871   \n2022-06-30   59265.0  271.880645  267.694677  275.550484  271.403226   \n2022-09-30   59265.0  264.181250  261.012031  266.948438  264.049375   \n2022-12-31   59265.0  239.590159  236.594444  243.015873  239.985556   \n2023-03-31   59265.0  248.035750  245.246000  250.984000  248.153500   \n\n            Adj. Close  Dividend        Volume  Shares Outstanding  \nDate                                                                \n2000-03-31   31.873492       NaN  7.361191e+07                 NaN  \n2000-06-30   22.742698       NaN  8.047028e+07                 NaN  \n2000-09-30   22.114603       NaN  6.157332e+07                 NaN  \n2000-12-31   18.569841       NaN  1.033261e+08                 NaN  \n2001-03-31   17.767742       NaN  8.770607e+07                 NaN  \n...                ...       ...           ...                 ...  \n2022-03-31  297.577581      0.62  3.833126e+07        7.531146e+09  \n2022-06-30  269.035323      0.62  3.204698e+07        7.504500e+09  \n2022-09-30  262.359531      0.62  2.480253e+07        7.473734e+09  \n2022-12-31  239.046825      0.68  2.981050e+07        7.457000e+09  \n2023-03-31  247.689250      0.68  3.253864e+07        7.451000e+09  \n\n[93 rows x 9 columns]",
      "text/html": "<div>\n<style scoped>\n    .dataframe tbody tr th:only-of-type {\n        vertical-align: middle;\n    }\n\n    .dataframe tbody tr th {\n        vertical-align: top;\n    }\n\n    .dataframe thead th {\n        text-align: right;\n    }\n</style>\n<table border=\"1\" class=\"dataframe\">\n  <thead>\n    <tr style=\"text-align: right;\">\n      <th></th>\n      <th>SimFinId</th>\n      <th>Open</th>\n      <th>Low</th>\n      <th>High</th>\n      <th>Close</th>\n      <th>Adj. Close</th>\n      <th>Dividend</th>\n      <th>Volume</th>\n      <th>Shares Outstanding</th>\n    </tr>\n    <tr>\n      <th>Date</th>\n      <th></th>\n      <th></th>\n      <th></th>\n      <th></th>\n      <th></th>\n      <th></th>\n      <th></th>\n      <th></th>\n      <th></th>\n    </tr>\n  </thead>\n  <tbody>\n    <tr>\n      <th>2000-03-31</th>\n      <td>59265.0</td>\n      <td>51.030000</td>\n      <td>49.920952</td>\n      <td>52.169683</td>\n      <td>50.984921</td>\n      <td>31.873492</td>\n      <td>NaN</td>\n      <td>7.361191e+07</td>\n      <td>NaN</td>\n    </tr>\n    <tr>\n      <th>2000-06-30</th>\n      <td>59265.0</td>\n      <td>36.556349</td>\n      <td>35.748413</td>\n      <td>37.115556</td>\n      <td>36.379206</td>\n      <td>22.742698</td>\n      <td>NaN</td>\n      <td>8.047028e+07</td>\n      <td>NaN</td>\n    </tr>\n    <tr>\n      <th>2000-09-30</th>\n      <td>59265.0</td>\n      <td>35.440635</td>\n      <td>34.917778</td>\n      <td>35.968730</td>\n      <td>35.374603</td>\n      <td>22.114603</td>\n      <td>NaN</td>\n      <td>6.157332e+07</td>\n      <td>NaN</td>\n    </tr>\n    <tr>\n      <th>2000-12-31</th>\n      <td>59265.0</td>\n      <td>29.832381</td>\n      <td>29.075873</td>\n      <td>30.579365</td>\n      <td>29.703175</td>\n      <td>18.569841</td>\n      <td>NaN</td>\n      <td>1.033261e+08</td>\n      <td>NaN</td>\n    </tr>\n    <tr>\n      <th>2001-03-31</th>\n      <td>59265.0</td>\n      <td>28.302903</td>\n      <td>27.727258</td>\n      <td>29.052903</td>\n      <td>28.420000</td>\n      <td>17.767742</td>\n      <td>NaN</td>\n      <td>8.770607e+07</td>\n      <td>NaN</td>\n    </tr>\n    <tr>\n      <th>...</th>\n      <td>...</td>\n      <td>...</td>\n      <td>...</td>\n      <td>...</td>\n      <td>...</td>\n      <td>...</td>\n      <td>...</td>\n      <td>...</td>\n      <td>...</td>\n    </tr>\n    <tr>\n      <th>2022-03-31</th>\n      <td>59265.0</td>\n      <td>301.400806</td>\n      <td>296.457581</td>\n      <td>305.124032</td>\n      <td>300.853871</td>\n      <td>297.577581</td>\n      <td>0.62</td>\n      <td>3.833126e+07</td>\n      <td>7.531146e+09</td>\n    </tr>\n    <tr>\n      <th>2022-06-30</th>\n      <td>59265.0</td>\n      <td>271.880645</td>\n      <td>267.694677</td>\n      <td>275.550484</td>\n      <td>271.403226</td>\n      <td>269.035323</td>\n      <td>0.62</td>\n      <td>3.204698e+07</td>\n      <td>7.504500e+09</td>\n    </tr>\n    <tr>\n      <th>2022-09-30</th>\n      <td>59265.0</td>\n      <td>264.181250</td>\n      <td>261.012031</td>\n      <td>266.948438</td>\n      <td>264.049375</td>\n      <td>262.359531</td>\n      <td>0.62</td>\n      <td>2.480253e+07</td>\n      <td>7.473734e+09</td>\n    </tr>\n    <tr>\n      <th>2022-12-31</th>\n      <td>59265.0</td>\n      <td>239.590159</td>\n      <td>236.594444</td>\n      <td>243.015873</td>\n      <td>239.985556</td>\n      <td>239.046825</td>\n      <td>0.68</td>\n      <td>2.981050e+07</td>\n      <td>7.457000e+09</td>\n    </tr>\n    <tr>\n      <th>2023-03-31</th>\n      <td>59265.0</td>\n      <td>248.035750</td>\n      <td>245.246000</td>\n      <td>250.984000</td>\n      <td>248.153500</td>\n      <td>247.689250</td>\n      <td>0.68</td>\n      <td>3.253864e+07</td>\n      <td>7.451000e+09</td>\n    </tr>\n  </tbody>\n</table>\n<p>93 rows × 9 columns</p>\n</div>"
     },
     "execution_count": 33,
     "metadata": {},
     "output_type": "execute_result"
    }
   ],
   "source": [
    "msft_qtrly_prices = dp.downsample_prices('MSFT')\n",
    "msft_qtrly_prices_ndx = msft_qtrly_prices.index\n",
    "msft_qtrly_prices"
   ],
   "metadata": {
    "collapsed": false
   }
  },
  {
   "cell_type": "code",
   "execution_count": 29,
   "outputs": [],
   "source": [
    "qf = pn.Fundamentals()"
   ],
   "metadata": {
    "collapsed": false
   }
  },
  {
   "cell_type": "code",
   "execution_count": 32,
   "outputs": [
    {
     "data": {
      "text/plain": "             SimFinId Currency  Fiscal Year Fiscal Period Publish Date   \nReport Date                                                              \n2004-03-31      59265      USD         2004            Q3   2004-05-03  \\\n2004-06-30      59265      USD         2004            Q4   2004-09-01   \n2004-09-30      59265      USD         2005            Q1   2004-11-09   \n2004-12-31      59265      USD         2005            Q2   2005-01-27   \n2005-03-31      59265      USD         2005            Q3   2005-04-28   \n...               ...      ...          ...           ...          ...   \n2021-12-31      59265      USD         2022            Q2   2022-01-25   \n2022-03-31      59265      USD         2022            Q3   2022-04-26   \n2022-06-30      59265      USD         2022            Q4   2022-07-28   \n2022-09-30      59265      USD         2023            Q1   2022-10-25   \n2022-12-31      59265      USD         2023            Q2   2023-01-24   \n\n            Restated Date  Shares (Basic)  Shares (Diluted)       Revenue   \nReport Date                                                                 \n2004-03-31     2005-04-28    9.328000e+09      9.470000e+09  9.175000e+09  \\\n2004-06-30     2005-04-28    9.328000e+09      9.470000e+09  9.292000e+09   \n2004-09-30     2005-10-27    9.328000e+09      9.470000e+09  9.189000e+09   \n2004-12-31     2006-01-26    9.328000e+09      9.470000e+09  1.081800e+10   \n2005-03-31     2006-04-27    9.328000e+09      9.470000e+09  9.620000e+09   \n...                   ...             ...               ...           ...   \n2021-12-31     2023-01-24    7.505000e+09      7.555000e+09  5.172800e+10   \n2022-03-31     2022-10-25    7.505000e+09      7.555000e+09  4.936000e+10   \n2022-06-30     2022-07-28    7.496000e+09      7.540000e+09  5.186500e+10   \n2022-09-30     2022-10-25    7.457000e+09      7.485000e+09  5.012200e+10   \n2022-12-31     2023-01-24    7.451000e+09      7.473000e+09  5.274700e+10   \n\n             Cost of Revenue  ...  Non-Operating Income (Loss)   \nReport Date                   ...                                \n2004-03-31     -1.411000e+09  ...                 1.001000e+09  \\\n2004-06-30     -1.361000e+09  ...                 5.710000e+08   \n2004-09-30     -1.405000e+09  ...                 2.790000e+08   \n2004-12-31     -1.875000e+09  ...                 4.200000e+08   \n2005-03-31     -1.363000e+09  ...                 4.960000e+08   \n...                      ...  ...                          ...   \n2021-12-31     -1.696000e+10  ...                 2.680000e+08   \n2022-03-31     -1.561500e+10  ...                -1.740000e+08   \n2022-06-30     -1.642900e+10  ...                -4.700000e+07   \n2022-09-30     -1.545200e+10  ...                 5.400000e+07   \n2022-12-31     -1.748800e+10  ...                -6.000000e+07   \n\n             Interest Expense, Net  Pretax Income (Loss), Adj.   \nReport Date                                                      \n2004-03-31                     NaN                  2279000000  \\\n2004-06-30                     NaN                  3704000000   \n2004-09-30                     NaN                  3773000000   \n2004-12-31                     NaN                  5169000000   \n2005-03-31                     NaN                  3825000000   \n...                            ...                         ...   \n2021-12-31                     NaN                 22515000000   \n2022-03-31                     NaN                 20190000000   \n2022-06-30                     NaN                 20487000000   \n2022-09-30                     NaN                 21572000000   \n2022-12-31                     NaN                 20339000000   \n\n             Abnormal Gains (Losses)  Pretax Income (Loss)   \nReport Date                                                  \n2004-03-31                       NaN            2279000000  \\\n2004-06-30                       NaN            3704000000   \n2004-09-30                       NaN            3773000000   \n2004-12-31                       NaN            5169000000   \n2005-03-31                       NaN            3825000000   \n...                              ...                   ...   \n2021-12-31                       NaN           22515000000   \n2022-03-31                       NaN           20190000000   \n2022-06-30                       NaN           20487000000   \n2022-09-30                       NaN           21572000000   \n2022-12-31                       NaN           20339000000   \n\n             Income Tax (Expense) Benefit, Net   \nReport Date                                      \n2004-03-31                       -9.640000e+08  \\\n2004-06-30                       -1.014000e+09   \n2004-09-30                       -1.245000e+09   \n2004-12-31                       -1.706000e+09   \n2005-03-31                       -1.262000e+09   \n...                                        ...   \n2021-12-31                       -3.750000e+09   \n2022-03-31                       -3.462000e+09   \n2022-06-30                       -3.747000e+09   \n2022-09-30                       -4.016000e+09   \n2022-12-31                       -3.914000e+09   \n\n             Income (Loss) from Continuing Operations   \nReport Date                                             \n2004-03-31                                 1315000000  \\\n2004-06-30                                 2690000000   \n2004-09-30                                 2528000000   \n2004-12-31                                 3463000000   \n2005-03-31                                 2563000000   \n...                                               ...   \n2021-12-31                                18765000000   \n2022-03-31                                16728000000   \n2022-06-30                                16740000000   \n2022-09-30                                17556000000   \n2022-12-31                                16425000000   \n\n             Net Extraordinary Gains (Losses)   Net Income   \nReport Date                                                  \n2004-03-31                                NaN   1315000000  \\\n2004-06-30                                NaN   2690000000   \n2004-09-30                                NaN   2528000000   \n2004-12-31                                NaN   3463000000   \n2005-03-31                                NaN   2563000000   \n...                                       ...          ...   \n2021-12-31                                NaN  18765000000   \n2022-03-31                                NaN  16728000000   \n2022-06-30                                NaN  16740000000   \n2022-09-30                                NaN  17556000000   \n2022-12-31                                NaN  16425000000   \n\n             Net Income (Common)  \nReport Date                       \n2004-03-31            1315000000  \n2004-06-30            2690000000  \n2004-09-30            2528000000  \n2004-12-31            3463000000  \n2005-03-31            2563000000  \n...                          ...  \n2021-12-31           18765000000  \n2022-03-31           16728000000  \n2022-06-30           16740000000  \n2022-09-30           17556000000  \n2022-12-31           16425000000  \n\n[76 rows x 26 columns]",
      "text/html": "<div>\n<style scoped>\n    .dataframe tbody tr th:only-of-type {\n        vertical-align: middle;\n    }\n\n    .dataframe tbody tr th {\n        vertical-align: top;\n    }\n\n    .dataframe thead th {\n        text-align: right;\n    }\n</style>\n<table border=\"1\" class=\"dataframe\">\n  <thead>\n    <tr style=\"text-align: right;\">\n      <th></th>\n      <th>SimFinId</th>\n      <th>Currency</th>\n      <th>Fiscal Year</th>\n      <th>Fiscal Period</th>\n      <th>Publish Date</th>\n      <th>Restated Date</th>\n      <th>Shares (Basic)</th>\n      <th>Shares (Diluted)</th>\n      <th>Revenue</th>\n      <th>Cost of Revenue</th>\n      <th>...</th>\n      <th>Non-Operating Income (Loss)</th>\n      <th>Interest Expense, Net</th>\n      <th>Pretax Income (Loss), Adj.</th>\n      <th>Abnormal Gains (Losses)</th>\n      <th>Pretax Income (Loss)</th>\n      <th>Income Tax (Expense) Benefit, Net</th>\n      <th>Income (Loss) from Continuing Operations</th>\n      <th>Net Extraordinary Gains (Losses)</th>\n      <th>Net Income</th>\n      <th>Net Income (Common)</th>\n    </tr>\n    <tr>\n      <th>Report Date</th>\n      <th></th>\n      <th></th>\n      <th></th>\n      <th></th>\n      <th></th>\n      <th></th>\n      <th></th>\n      <th></th>\n      <th></th>\n      <th></th>\n      <th></th>\n      <th></th>\n      <th></th>\n      <th></th>\n      <th></th>\n      <th></th>\n      <th></th>\n      <th></th>\n      <th></th>\n      <th></th>\n      <th></th>\n    </tr>\n  </thead>\n  <tbody>\n    <tr>\n      <th>2004-03-31</th>\n      <td>59265</td>\n      <td>USD</td>\n      <td>2004</td>\n      <td>Q3</td>\n      <td>2004-05-03</td>\n      <td>2005-04-28</td>\n      <td>9.328000e+09</td>\n      <td>9.470000e+09</td>\n      <td>9.175000e+09</td>\n      <td>-1.411000e+09</td>\n      <td>...</td>\n      <td>1.001000e+09</td>\n      <td>NaN</td>\n      <td>2279000000</td>\n      <td>NaN</td>\n      <td>2279000000</td>\n      <td>-9.640000e+08</td>\n      <td>1315000000</td>\n      <td>NaN</td>\n      <td>1315000000</td>\n      <td>1315000000</td>\n    </tr>\n    <tr>\n      <th>2004-06-30</th>\n      <td>59265</td>\n      <td>USD</td>\n      <td>2004</td>\n      <td>Q4</td>\n      <td>2004-09-01</td>\n      <td>2005-04-28</td>\n      <td>9.328000e+09</td>\n      <td>9.470000e+09</td>\n      <td>9.292000e+09</td>\n      <td>-1.361000e+09</td>\n      <td>...</td>\n      <td>5.710000e+08</td>\n      <td>NaN</td>\n      <td>3704000000</td>\n      <td>NaN</td>\n      <td>3704000000</td>\n      <td>-1.014000e+09</td>\n      <td>2690000000</td>\n      <td>NaN</td>\n      <td>2690000000</td>\n      <td>2690000000</td>\n    </tr>\n    <tr>\n      <th>2004-09-30</th>\n      <td>59265</td>\n      <td>USD</td>\n      <td>2005</td>\n      <td>Q1</td>\n      <td>2004-11-09</td>\n      <td>2005-10-27</td>\n      <td>9.328000e+09</td>\n      <td>9.470000e+09</td>\n      <td>9.189000e+09</td>\n      <td>-1.405000e+09</td>\n      <td>...</td>\n      <td>2.790000e+08</td>\n      <td>NaN</td>\n      <td>3773000000</td>\n      <td>NaN</td>\n      <td>3773000000</td>\n      <td>-1.245000e+09</td>\n      <td>2528000000</td>\n      <td>NaN</td>\n      <td>2528000000</td>\n      <td>2528000000</td>\n    </tr>\n    <tr>\n      <th>2004-12-31</th>\n      <td>59265</td>\n      <td>USD</td>\n      <td>2005</td>\n      <td>Q2</td>\n      <td>2005-01-27</td>\n      <td>2006-01-26</td>\n      <td>9.328000e+09</td>\n      <td>9.470000e+09</td>\n      <td>1.081800e+10</td>\n      <td>-1.875000e+09</td>\n      <td>...</td>\n      <td>4.200000e+08</td>\n      <td>NaN</td>\n      <td>5169000000</td>\n      <td>NaN</td>\n      <td>5169000000</td>\n      <td>-1.706000e+09</td>\n      <td>3463000000</td>\n      <td>NaN</td>\n      <td>3463000000</td>\n      <td>3463000000</td>\n    </tr>\n    <tr>\n      <th>2005-03-31</th>\n      <td>59265</td>\n      <td>USD</td>\n      <td>2005</td>\n      <td>Q3</td>\n      <td>2005-04-28</td>\n      <td>2006-04-27</td>\n      <td>9.328000e+09</td>\n      <td>9.470000e+09</td>\n      <td>9.620000e+09</td>\n      <td>-1.363000e+09</td>\n      <td>...</td>\n      <td>4.960000e+08</td>\n      <td>NaN</td>\n      <td>3825000000</td>\n      <td>NaN</td>\n      <td>3825000000</td>\n      <td>-1.262000e+09</td>\n      <td>2563000000</td>\n      <td>NaN</td>\n      <td>2563000000</td>\n      <td>2563000000</td>\n    </tr>\n    <tr>\n      <th>...</th>\n      <td>...</td>\n      <td>...</td>\n      <td>...</td>\n      <td>...</td>\n      <td>...</td>\n      <td>...</td>\n      <td>...</td>\n      <td>...</td>\n      <td>...</td>\n      <td>...</td>\n      <td>...</td>\n      <td>...</td>\n      <td>...</td>\n      <td>...</td>\n      <td>...</td>\n      <td>...</td>\n      <td>...</td>\n      <td>...</td>\n      <td>...</td>\n      <td>...</td>\n      <td>...</td>\n    </tr>\n    <tr>\n      <th>2021-12-31</th>\n      <td>59265</td>\n      <td>USD</td>\n      <td>2022</td>\n      <td>Q2</td>\n      <td>2022-01-25</td>\n      <td>2023-01-24</td>\n      <td>7.505000e+09</td>\n      <td>7.555000e+09</td>\n      <td>5.172800e+10</td>\n      <td>-1.696000e+10</td>\n      <td>...</td>\n      <td>2.680000e+08</td>\n      <td>NaN</td>\n      <td>22515000000</td>\n      <td>NaN</td>\n      <td>22515000000</td>\n      <td>-3.750000e+09</td>\n      <td>18765000000</td>\n      <td>NaN</td>\n      <td>18765000000</td>\n      <td>18765000000</td>\n    </tr>\n    <tr>\n      <th>2022-03-31</th>\n      <td>59265</td>\n      <td>USD</td>\n      <td>2022</td>\n      <td>Q3</td>\n      <td>2022-04-26</td>\n      <td>2022-10-25</td>\n      <td>7.505000e+09</td>\n      <td>7.555000e+09</td>\n      <td>4.936000e+10</td>\n      <td>-1.561500e+10</td>\n      <td>...</td>\n      <td>-1.740000e+08</td>\n      <td>NaN</td>\n      <td>20190000000</td>\n      <td>NaN</td>\n      <td>20190000000</td>\n      <td>-3.462000e+09</td>\n      <td>16728000000</td>\n      <td>NaN</td>\n      <td>16728000000</td>\n      <td>16728000000</td>\n    </tr>\n    <tr>\n      <th>2022-06-30</th>\n      <td>59265</td>\n      <td>USD</td>\n      <td>2022</td>\n      <td>Q4</td>\n      <td>2022-07-28</td>\n      <td>2022-07-28</td>\n      <td>7.496000e+09</td>\n      <td>7.540000e+09</td>\n      <td>5.186500e+10</td>\n      <td>-1.642900e+10</td>\n      <td>...</td>\n      <td>-4.700000e+07</td>\n      <td>NaN</td>\n      <td>20487000000</td>\n      <td>NaN</td>\n      <td>20487000000</td>\n      <td>-3.747000e+09</td>\n      <td>16740000000</td>\n      <td>NaN</td>\n      <td>16740000000</td>\n      <td>16740000000</td>\n    </tr>\n    <tr>\n      <th>2022-09-30</th>\n      <td>59265</td>\n      <td>USD</td>\n      <td>2023</td>\n      <td>Q1</td>\n      <td>2022-10-25</td>\n      <td>2022-10-25</td>\n      <td>7.457000e+09</td>\n      <td>7.485000e+09</td>\n      <td>5.012200e+10</td>\n      <td>-1.545200e+10</td>\n      <td>...</td>\n      <td>5.400000e+07</td>\n      <td>NaN</td>\n      <td>21572000000</td>\n      <td>NaN</td>\n      <td>21572000000</td>\n      <td>-4.016000e+09</td>\n      <td>17556000000</td>\n      <td>NaN</td>\n      <td>17556000000</td>\n      <td>17556000000</td>\n    </tr>\n    <tr>\n      <th>2022-12-31</th>\n      <td>59265</td>\n      <td>USD</td>\n      <td>2023</td>\n      <td>Q2</td>\n      <td>2023-01-24</td>\n      <td>2023-01-24</td>\n      <td>7.451000e+09</td>\n      <td>7.473000e+09</td>\n      <td>5.274700e+10</td>\n      <td>-1.748800e+10</td>\n      <td>...</td>\n      <td>-6.000000e+07</td>\n      <td>NaN</td>\n      <td>20339000000</td>\n      <td>NaN</td>\n      <td>20339000000</td>\n      <td>-3.914000e+09</td>\n      <td>16425000000</td>\n      <td>NaN</td>\n      <td>16425000000</td>\n      <td>16425000000</td>\n    </tr>\n  </tbody>\n</table>\n<p>76 rows × 26 columns</p>\n</div>"
     },
     "execution_count": 32,
     "metadata": {},
     "output_type": "execute_result"
    }
   ],
   "source": [
    "temp = qf.get_income_statements(['IBM','CVX', 'D', 'V', 'MA', 'MSFT'])\n",
    "msft_stmnts = temp.loc['MSFT']\n",
    "msft_stmnts_ndx = msft_stmnts.index\n",
    "msft_stmnts"
   ],
   "metadata": {
    "collapsed": false
   }
  },
  {
   "cell_type": "code",
   "execution_count": 46,
   "outputs": [
    {
     "data": {
      "text/plain": "MultiIndex([( 'IBM', '2009-06-30'),\n            ( 'IBM', '2009-09-30'),\n            ( 'IBM', '2009-12-31'),\n            ( 'IBM', '2010-03-31'),\n            ( 'IBM', '2010-06-30'),\n            ( 'IBM', '2010-09-30'),\n            ( 'IBM', '2010-12-31'),\n            ( 'IBM', '2011-03-31'),\n            ( 'IBM', '2011-06-30'),\n            ( 'IBM', '2011-09-30'),\n            ...\n            ('MSFT', '2020-09-30'),\n            ('MSFT', '2020-12-31'),\n            ('MSFT', '2021-03-31'),\n            ('MSFT', '2021-06-30'),\n            ('MSFT', '2021-09-30'),\n            ('MSFT', '2021-12-31'),\n            ('MSFT', '2022-03-31'),\n            ('MSFT', '2022-06-30'),\n            ('MSFT', '2022-09-30'),\n            ('MSFT', '2022-12-31')],\n           names=['Ticker', 'Report Date'], length=357)"
     },
     "execution_count": 46,
     "metadata": {},
     "output_type": "execute_result"
    }
   ],
   "source": [
    "temp.index"
   ],
   "metadata": {
    "collapsed": false
   }
  },
  {
   "cell_type": "code",
   "execution_count": 31,
   "outputs": [
    {
     "data": {
      "text/plain": "             SimFinId        Open         Low        High       Close   \nReport Date                                                             \n2004-03-31    59265.0   26.721774   26.488548   26.897097   26.657419  \\\n2004-06-30    59265.0   26.391452   26.216452   26.643387   26.437742   \n2004-09-30    59265.0   27.672187   27.438750   27.887969   27.655625   \n2004-12-31    59265.0   27.698594   27.502344   27.896875   27.712031   \n2005-03-31    59265.0   25.653115   25.491967   25.804426   25.600984   \n...               ...         ...         ...         ...         ...   \n2021-12-31    59265.0  323.705781  320.910312  326.681719  324.210156   \n2022-03-31    59265.0  301.400806  296.457581  305.124032  300.853871   \n2022-06-30    59265.0  271.880645  267.694677  275.550484  271.403226   \n2022-09-30    59265.0  264.181250  261.012031  266.948438  264.049375   \n2022-12-31    59265.0  239.590159  236.594444  243.015873  239.985556   \n\n             Adj. Close  Dividend        Volume  Shares Outstanding  \nReport Date                                                          \n2004-03-31    16.811613       NaN  6.398864e+07                 NaN  \n2004-06-30    16.673871       NaN  6.831120e+07                 NaN  \n2004-09-30    17.463906      0.08  5.915085e+07                 NaN  \n2004-12-31    18.518594      3.08  7.568400e+07                 NaN  \n2005-03-31    18.041311      0.08  7.252380e+07                 NaN  \n...                 ...       ...           ...                 ...  \n2021-12-31   320.062500      0.62  2.577169e+07        7.531575e+09  \n2022-03-31   297.577581      0.62  3.833126e+07        7.531146e+09  \n2022-06-30   269.035323      0.62  3.204698e+07        7.504500e+09  \n2022-09-30   262.359531      0.62  2.480253e+07        7.473734e+09  \n2022-12-31   239.046825      0.68  2.981050e+07        7.457000e+09  \n\n[76 rows x 9 columns]",
      "text/html": "<div>\n<style scoped>\n    .dataframe tbody tr th:only-of-type {\n        vertical-align: middle;\n    }\n\n    .dataframe tbody tr th {\n        vertical-align: top;\n    }\n\n    .dataframe thead th {\n        text-align: right;\n    }\n</style>\n<table border=\"1\" class=\"dataframe\">\n  <thead>\n    <tr style=\"text-align: right;\">\n      <th></th>\n      <th>SimFinId</th>\n      <th>Open</th>\n      <th>Low</th>\n      <th>High</th>\n      <th>Close</th>\n      <th>Adj. Close</th>\n      <th>Dividend</th>\n      <th>Volume</th>\n      <th>Shares Outstanding</th>\n    </tr>\n    <tr>\n      <th>Report Date</th>\n      <th></th>\n      <th></th>\n      <th></th>\n      <th></th>\n      <th></th>\n      <th></th>\n      <th></th>\n      <th></th>\n      <th></th>\n    </tr>\n  </thead>\n  <tbody>\n    <tr>\n      <th>2004-03-31</th>\n      <td>59265.0</td>\n      <td>26.721774</td>\n      <td>26.488548</td>\n      <td>26.897097</td>\n      <td>26.657419</td>\n      <td>16.811613</td>\n      <td>NaN</td>\n      <td>6.398864e+07</td>\n      <td>NaN</td>\n    </tr>\n    <tr>\n      <th>2004-06-30</th>\n      <td>59265.0</td>\n      <td>26.391452</td>\n      <td>26.216452</td>\n      <td>26.643387</td>\n      <td>26.437742</td>\n      <td>16.673871</td>\n      <td>NaN</td>\n      <td>6.831120e+07</td>\n      <td>NaN</td>\n    </tr>\n    <tr>\n      <th>2004-09-30</th>\n      <td>59265.0</td>\n      <td>27.672187</td>\n      <td>27.438750</td>\n      <td>27.887969</td>\n      <td>27.655625</td>\n      <td>17.463906</td>\n      <td>0.08</td>\n      <td>5.915085e+07</td>\n      <td>NaN</td>\n    </tr>\n    <tr>\n      <th>2004-12-31</th>\n      <td>59265.0</td>\n      <td>27.698594</td>\n      <td>27.502344</td>\n      <td>27.896875</td>\n      <td>27.712031</td>\n      <td>18.518594</td>\n      <td>3.08</td>\n      <td>7.568400e+07</td>\n      <td>NaN</td>\n    </tr>\n    <tr>\n      <th>2005-03-31</th>\n      <td>59265.0</td>\n      <td>25.653115</td>\n      <td>25.491967</td>\n      <td>25.804426</td>\n      <td>25.600984</td>\n      <td>18.041311</td>\n      <td>0.08</td>\n      <td>7.252380e+07</td>\n      <td>NaN</td>\n    </tr>\n    <tr>\n      <th>...</th>\n      <td>...</td>\n      <td>...</td>\n      <td>...</td>\n      <td>...</td>\n      <td>...</td>\n      <td>...</td>\n      <td>...</td>\n      <td>...</td>\n      <td>...</td>\n    </tr>\n    <tr>\n      <th>2021-12-31</th>\n      <td>59265.0</td>\n      <td>323.705781</td>\n      <td>320.910312</td>\n      <td>326.681719</td>\n      <td>324.210156</td>\n      <td>320.062500</td>\n      <td>0.62</td>\n      <td>2.577169e+07</td>\n      <td>7.531575e+09</td>\n    </tr>\n    <tr>\n      <th>2022-03-31</th>\n      <td>59265.0</td>\n      <td>301.400806</td>\n      <td>296.457581</td>\n      <td>305.124032</td>\n      <td>300.853871</td>\n      <td>297.577581</td>\n      <td>0.62</td>\n      <td>3.833126e+07</td>\n      <td>7.531146e+09</td>\n    </tr>\n    <tr>\n      <th>2022-06-30</th>\n      <td>59265.0</td>\n      <td>271.880645</td>\n      <td>267.694677</td>\n      <td>275.550484</td>\n      <td>271.403226</td>\n      <td>269.035323</td>\n      <td>0.62</td>\n      <td>3.204698e+07</td>\n      <td>7.504500e+09</td>\n    </tr>\n    <tr>\n      <th>2022-09-30</th>\n      <td>59265.0</td>\n      <td>264.181250</td>\n      <td>261.012031</td>\n      <td>266.948438</td>\n      <td>264.049375</td>\n      <td>262.359531</td>\n      <td>0.62</td>\n      <td>2.480253e+07</td>\n      <td>7.473734e+09</td>\n    </tr>\n    <tr>\n      <th>2022-12-31</th>\n      <td>59265.0</td>\n      <td>239.590159</td>\n      <td>236.594444</td>\n      <td>243.015873</td>\n      <td>239.985556</td>\n      <td>239.046825</td>\n      <td>0.68</td>\n      <td>2.981050e+07</td>\n      <td>7.457000e+09</td>\n    </tr>\n  </tbody>\n</table>\n<p>76 rows × 9 columns</p>\n</div>"
     },
     "execution_count": 31,
     "metadata": {},
     "output_type": "execute_result"
    }
   ],
   "source": [
    "re_prices = msft_qtrly_prices.reindex(msft_stmnts_ndx)\n",
    "re_prices"
   ],
   "metadata": {
    "collapsed": false
   }
  },
  {
   "cell_type": "code",
   "execution_count": 35,
   "outputs": [
    {
     "data": {
      "text/plain": "DatetimeIndex(['2004-03-31', '2004-06-30', '2004-09-30', '2004-12-31',\n               '2005-03-31', '2005-06-30', '2005-09-30', '2005-12-31',\n               '2006-03-31', '2006-06-30', '2006-09-30', '2006-12-31',\n               '2007-03-31', '2007-06-30', '2007-09-30', '2007-12-31',\n               '2008-03-31', '2008-06-30', '2008-09-30', '2008-12-31',\n               '2009-03-31', '2009-06-30', '2009-09-30', '2009-12-31',\n               '2010-03-31', '2010-06-30', '2010-09-30', '2010-12-31',\n               '2011-03-31', '2011-06-30', '2011-09-30', '2011-12-31',\n               '2012-03-31', '2012-06-30', '2012-09-30', '2012-12-31',\n               '2013-03-31', '2013-06-30', '2013-09-30', '2013-12-31',\n               '2014-03-31', '2014-06-30', '2014-09-30', '2014-12-31',\n               '2015-03-31', '2015-06-30', '2015-09-30', '2015-12-31',\n               '2016-03-31', '2016-06-30', '2016-09-30', '2016-12-31',\n               '2017-03-31', '2017-06-30', '2017-09-30', '2017-12-31',\n               '2018-03-31', '2018-06-30', '2018-09-30', '2018-12-31',\n               '2019-03-31', '2019-06-30', '2019-09-30', '2019-12-31',\n               '2020-03-31', '2020-06-30', '2020-09-30', '2020-12-31',\n               '2021-03-31', '2021-06-30', '2021-09-30', '2021-12-31',\n               '2022-03-31', '2022-06-30', '2022-09-30', '2022-12-31'],\n              dtype='datetime64[ns]', freq='Q-DEC')"
     },
     "execution_count": 35,
     "metadata": {},
     "output_type": "execute_result"
    }
   ],
   "source": [
    "common_ndx = msft_stmnts_ndx.intersection(msft_qtrly_prices_ndx)\n",
    "common_ndx"
   ],
   "metadata": {
    "collapsed": false
   }
  },
  {
   "cell_type": "code",
   "execution_count": 37,
   "outputs": [],
   "source": [
    "re_statements = msft_stmnts.reindex(common_ndx)\n",
    "re_prices = msft_qtrly_prices.reindex(common_ndx)"
   ],
   "metadata": {
    "collapsed": false
   }
  },
  {
   "cell_type": "code",
   "execution_count": 40,
   "outputs": [
    {
     "data": {
      "text/plain": "                 eps          pe\n2004-03-31  0.138860  191.973963\n2004-06-30  0.284055   93.072645\n2004-09-30  0.266948  103.599196\n2004-12-31  0.365681   75.781962\n2005-03-31  0.270644   94.592788\n...              ...         ...\n2021-12-31  2.483786  130.530654\n2022-03-31  2.214163  135.877032\n2022-06-30  2.220159  122.244942\n2022-09-30  2.345491  112.577442\n2022-12-31  2.197912  109.187949\n\n[76 rows x 2 columns]",
      "text/html": "<div>\n<style scoped>\n    .dataframe tbody tr th:only-of-type {\n        vertical-align: middle;\n    }\n\n    .dataframe tbody tr th {\n        vertical-align: top;\n    }\n\n    .dataframe thead th {\n        text-align: right;\n    }\n</style>\n<table border=\"1\" class=\"dataframe\">\n  <thead>\n    <tr style=\"text-align: right;\">\n      <th></th>\n      <th>eps</th>\n      <th>pe</th>\n    </tr>\n  </thead>\n  <tbody>\n    <tr>\n      <th>2004-03-31</th>\n      <td>0.138860</td>\n      <td>191.973963</td>\n    </tr>\n    <tr>\n      <th>2004-06-30</th>\n      <td>0.284055</td>\n      <td>93.072645</td>\n    </tr>\n    <tr>\n      <th>2004-09-30</th>\n      <td>0.266948</td>\n      <td>103.599196</td>\n    </tr>\n    <tr>\n      <th>2004-12-31</th>\n      <td>0.365681</td>\n      <td>75.781962</td>\n    </tr>\n    <tr>\n      <th>2005-03-31</th>\n      <td>0.270644</td>\n      <td>94.592788</td>\n    </tr>\n    <tr>\n      <th>...</th>\n      <td>...</td>\n      <td>...</td>\n    </tr>\n    <tr>\n      <th>2021-12-31</th>\n      <td>2.483786</td>\n      <td>130.530654</td>\n    </tr>\n    <tr>\n      <th>2022-03-31</th>\n      <td>2.214163</td>\n      <td>135.877032</td>\n    </tr>\n    <tr>\n      <th>2022-06-30</th>\n      <td>2.220159</td>\n      <td>122.244942</td>\n    </tr>\n    <tr>\n      <th>2022-09-30</th>\n      <td>2.345491</td>\n      <td>112.577442</td>\n    </tr>\n    <tr>\n      <th>2022-12-31</th>\n      <td>2.197912</td>\n      <td>109.187949</td>\n    </tr>\n  </tbody>\n</table>\n<p>76 rows × 2 columns</p>\n</div>"
     },
     "execution_count": 40,
     "metadata": {},
     "output_type": "execute_result"
    }
   ],
   "source": [
    "msft_res = pd.DataFrame(index=common_ndx)\n",
    "msft_res['eps'] = msft_stmnts[sf_cols.NET_INCOME] / msft_stmnts[sf_cols.SHARES_DILUTED]\n",
    "msft_res['pe'] = msft_qtrly_prices[sf_cols.CLOSE] / msft_res['atr_eps']\n",
    "msft_res"
   ],
   "metadata": {
    "collapsed": false
   }
  },
  {
   "cell_type": "code",
   "execution_count": 47,
   "outputs": [
    {
     "name": "stdout",
     "output_type": "stream",
     "text": [
      "                eps          pe\n",
      "2004-03-31  0.13886  191.973963\n",
      "                 eps         pe\n",
      "2004-06-30  0.284055  93.072645\n",
      "                 eps          pe\n",
      "2004-09-30  0.266948  103.599196\n",
      "                 eps         pe\n",
      "2004-12-31  0.365681  75.781962\n",
      "                 eps         pe\n",
      "2005-03-31  0.270644  94.592788\n",
      "                 eps         pe\n",
      "2005-06-30  0.390707  64.439191\n",
      "                 eps         pe\n",
      "2005-09-30  0.331679  79.196493\n",
      "                 eps         pe\n",
      "2005-12-31  0.385744  68.528796\n",
      "                 eps         pe\n",
      "2006-03-31  0.314361  86.009051\n",
      "                 eps         pe\n",
      "2006-06-30  0.298627  80.909914\n",
      "                 eps         pe\n",
      "2006-09-30  0.367265  67.978241\n",
      "                 eps          pe\n",
      "2006-12-31  0.277297  104.614312\n",
      "                 eps         pe\n",
      "2007-03-31  0.520169  55.924768\n",
      "                 eps         pe\n",
      "2007-06-30  0.320486  93.252792\n",
      "                 eps        pe\n",
      "2007-09-30  0.452904  64.57868\n",
      "                 eps         pe\n",
      "2007-12-31  0.497043  67.334112\n",
      "                 eps         pe\n",
      "2008-03-31  0.463358  65.105985\n",
      "                 eps        pe\n",
      "2008-06-30  0.453749  63.56148\n",
      "                 eps         pe\n",
      "2008-09-30  0.476206  55.627183\n",
      "                 eps         pe\n",
      "2008-12-31  0.467885  45.431526\n",
      "                 eps         pe\n",
      "2009-03-31  0.333744  53.821006\n",
      "                 eps         pe\n",
      "2009-06-30  0.339844  61.301281\n",
      "                 eps         pe\n",
      "2009-09-30  0.397863  60.888242\n",
      "                 eps         pe\n",
      "2009-12-31  0.742946  38.518511\n",
      "                 eps         pe\n",
      "2010-03-31  0.449355  65.102783\n",
      "                 eps         pe\n",
      "2010-06-30  0.510913  54.759158\n",
      "                 eps         pe\n",
      "2010-09-30  0.622197  39.842959\n",
      "                 eps         pe\n",
      "2010-12-31  0.771665  34.120032\n",
      "                 eps         pe\n",
      "2011-03-31  0.613005  44.028985\n",
      "                eps         pe\n",
      "2011-06-30  0.68742  36.479652\n",
      "                 eps        pe\n",
      "2011-09-30  0.675854  38.58059\n",
      "                 eps         pe\n",
      "2011-12-31  0.780396  33.420768\n",
      "                 eps         pe\n",
      "2012-03-31  0.598968  51.031313\n",
      "                eps          pe\n",
      "2012-06-30 -0.05776 -527.175601\n",
      "                 eps         pe\n",
      "2012-09-30  0.525783  57.598158\n",
      "                 eps         pe\n",
      "2012-12-31  0.753248  37.123731\n",
      "                eps         pe\n",
      "2013-03-31  0.71606  38.664379\n",
      "                 eps         pe\n",
      "2013-06-30  0.586602  55.847856\n",
      "                 eps        pe\n",
      "2013-09-30  0.621769  52.90977\n",
      "                 eps         pe\n",
      "2013-12-31  0.779601  46.589964\n",
      "                 eps         pe\n",
      "2014-03-31  0.674854  55.619078\n",
      "                 eps         pe\n",
      "2014-06-30  0.551477  73.388235\n",
      "                 eps         pe\n",
      "2014-09-30  0.543647  82.050817\n",
      "                 eps         pe\n",
      "2014-12-31  0.707152  66.376699\n",
      "                 eps         pe\n",
      "2015-03-31  0.605196  71.934417\n",
      "                 eps          pe\n",
      "2015-06-30 -0.392651 -116.205262\n",
      "                 eps         pe\n",
      "2015-09-30  0.606383  74.051541\n",
      "                 eps         pe\n",
      "2015-12-31  0.623277  84.428555\n",
      "                 eps          pe\n",
      "2016-03-31  0.470205  111.486703\n",
      "                 eps         pe\n",
      "2016-06-30  0.865557  60.036137\n",
      "                 eps         pe\n",
      "2016-09-30  0.719528  78.450335\n",
      "                 eps        pe\n",
      "2016-12-31  0.800383  75.14774\n",
      "                 eps         pe\n",
      "2017-03-31  0.702163  91.269812\n",
      "                 eps         pe\n",
      "2017-06-30  1.033295  66.436264\n",
      "                 eps         pe\n",
      "2017-09-30  0.843185  86.630895\n",
      "                eps          pe\n",
      "2017-12-31 -0.81738 -100.357624\n",
      "                 eps         pe\n",
      "2018-03-31  0.952528  96.007718\n",
      "                 eps         pe\n",
      "2018-06-30  1.127016  85.997252\n",
      "                 eps         pe\n",
      "2018-09-30  1.136235  95.409376\n",
      "                 eps         pe\n",
      "2018-12-31  1.083934  98.824465\n",
      "                 eps         pe\n",
      "2019-03-31  1.137526  95.912504\n",
      "                 eps         pe\n",
      "2019-06-30  1.705069  74.457651\n",
      "                 eps         pe\n",
      "2019-09-30  1.384955  99.290822\n",
      "                 eps         pe\n",
      "2019-12-31  1.514431  97.003766\n",
      "                 eps         pe\n",
      "2020-03-31  1.400547  117.41771\n",
      "                eps          pe\n",
      "2020-06-30  1.46374  124.014481\n",
      "                eps          pe\n",
      "2020-09-30  1.81917  115.455651\n",
      "                 eps          pe\n",
      "2020-12-31  2.030064  105.919981\n",
      "                 eps          pe\n",
      "2021-03-31  2.034619  114.036821\n",
      "                 eps          pe\n",
      "2021-06-30  2.160693  117.639275\n",
      "                 eps          pe\n",
      "2021-09-30  2.714097  107.199688\n",
      "                 eps          pe\n",
      "2021-12-31  2.483786  130.530654\n",
      "                 eps          pe\n",
      "2022-03-31  2.214163  135.877032\n",
      "                 eps          pe\n",
      "2022-06-30  2.220159  122.244942\n",
      "                 eps          pe\n",
      "2022-09-30  2.345491  112.577442\n",
      "                 eps          pe\n",
      "2022-12-31  2.197912  109.187949\n"
     ]
    }
   ],
   "source": [
    "def calc(grp):\n",
    "    print(grp)\n",
    "\n",
    "temp = msft_res.groupby(level=0).apply(calc)"
   ],
   "metadata": {
    "collapsed": false
   }
  },
  {
   "cell_type": "code",
   "execution_count": 42,
   "outputs": [
    {
     "data": {
      "text/plain": "DatetimeIndex(['2004-03-31', '2004-06-30', '2004-09-30', '2004-12-31',\n               '2005-03-31', '2005-06-30', '2005-09-30', '2005-12-31',\n               '2006-03-31', '2006-06-30', '2006-09-30', '2006-12-31',\n               '2007-03-31', '2007-06-30', '2007-09-30', '2007-12-31',\n               '2008-03-31', '2008-06-30', '2008-09-30', '2008-12-31',\n               '2009-03-31', '2009-06-30', '2009-09-30', '2009-12-31',\n               '2010-03-31', '2010-06-30', '2010-09-30', '2010-12-31',\n               '2011-03-31', '2011-06-30', '2011-09-30', '2011-12-31',\n               '2012-03-31', '2012-06-30', '2012-09-30', '2012-12-31',\n               '2013-03-31', '2013-06-30', '2013-09-30', '2013-12-31',\n               '2014-03-31', '2014-06-30', '2014-09-30', '2014-12-31',\n               '2015-03-31', '2015-06-30', '2015-09-30', '2015-12-31',\n               '2016-03-31', '2016-06-30', '2016-09-30', '2016-12-31',\n               '2017-03-31', '2017-06-30', '2017-09-30', '2017-12-31',\n               '2018-03-31', '2018-06-30', '2018-09-30', '2018-12-31',\n               '2019-03-31', '2019-06-30', '2019-09-30', '2019-12-31',\n               '2020-03-31', '2020-06-30', '2020-09-30', '2020-12-31',\n               '2021-03-31', '2021-06-30', '2021-09-30', '2021-12-31',\n               '2022-03-31', '2022-06-30', '2022-09-30', '2022-12-31'],\n              dtype='datetime64[ns]', freq='Q-DEC')"
     },
     "execution_count": 42,
     "metadata": {},
     "output_type": "execute_result"
    }
   ],
   "source": [
    "msft_res.index"
   ],
   "metadata": {
    "collapsed": false
   }
  }
 ],
 "metadata": {
  "kernelspec": {
   "display_name": "Python 3",
   "language": "python",
   "name": "python3"
  },
  "language_info": {
   "codemirror_mode": {
    "name": "ipython",
    "version": 2
   },
   "file_extension": ".py",
   "mimetype": "text/x-python",
   "name": "python",
   "nbconvert_exporter": "python",
   "pygments_lexer": "ipython2",
   "version": "2.7.6"
  }
 },
 "nbformat": 4,
 "nbformat_minor": 0
}
