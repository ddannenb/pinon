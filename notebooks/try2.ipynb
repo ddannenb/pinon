{
 "cells": [
  {
   "cell_type": "markdown",
   "source": [
    "## Setup\n",
    "Install accompanying pinon library. It is better to install in dev mode in the conda environment with `pip install -e .` Jupyter server must restart to see changes to conda environment.\n",
    "Auto reload the pinon module.  Other imports may be ignored for auto reload e.g.  `%aimport -simfin`. Note use of option 2 for auto reload and excluding other modules, rather than option 1 and including only reloadable modules.  This is because option 1 does not work correctly with aliased imports."
   ],
   "metadata": {
    "collapsed": false
   }
  },
  {
   "cell_type": "code",
   "execution_count": 4,
   "outputs": [
    {
     "name": "stdout",
     "output_type": "stream",
     "text": [
      "The autoreload extension is already loaded. To reload it, use:\n",
      "  %reload_ext autoreload\n"
     ]
    }
   ],
   "source": [
    "# !pip install -e ..\n",
    "\n",
    "%load_ext autoreload\n",
    "%autoreload 2\n",
    "%aimport -pandas\n",
    "%aimport -simfin\n",
    "%aimport -os\n",
    "\n",
    "%aimport pinon\n",
    "\n",
    "%matplotlib inline\n",
    "\n",
    "# imports\n",
    "import pandas as pd\n",
    "import seaborn as sns\n",
    "import os\n",
    "\n",
    "import pinon as pn\n",
    "import pinon.names as pn_cols\n",
    "import simfin as sf\n",
    "import simfin.names as sf_cols  # column name shortcuts"
   ],
   "metadata": {
    "collapsed": false
   }
  },
  {
   "cell_type": "code",
   "execution_count": 9,
   "outputs": [
    {
     "name": "stdout",
     "output_type": "stream",
     "text": [
      "Config file found at: /Users/daved/Dev/pinon/config/master.xlsx\n",
      "Simfin data directory: /Users/daved/Dev/pinon/simfin_data\n",
      "There is an error in the supplied ticker symbol EEFT in Company List of sheet: V of config file: /Users/daved/Dev/pinon/config/master.xlsx. Company uses non stardard quarterly reporting date not currently supported. Company was dropped from the list.\n",
      "There is an error in the supplied ticker symbol PAGS in Company List of sheet: V of config file: /Users/daved/Dev/pinon/config/master.xlsx. Company was not found and was dropped from the list.\n",
      "Here\n"
     ]
    }
   ],
   "source": [
    "config = pn.Config('master', 'V', 10)"
   ],
   "metadata": {
    "collapsed": false
   }
  },
  {
   "cell_type": "code",
   "execution_count": 10,
   "outputs": [
    {
     "name": "stdout",
     "output_type": "stream",
     "text": [
      "Adding breaking report for ticker V for report date 2023-03-31\n"
     ]
    },
    {
     "data": {
      "text/plain": "                            Quarterly PE Ratio                                 \n                                    Unweighted   Weighted Weighted, Adjusted   \nTarget Ticker Time Averaged                                                    \nAXP           0 year                  16.70734  18.174986          17.405749  \\\n              1 year                 15.277391  16.857963          16.144468   \n              3 year                 26.100156  28.270239          27.073731   \n              5 year                 24.189109  26.035389          24.933469   \nDFS           0 year                 18.258323  20.113715           9.066579   \n              1 year                 16.697296  18.632845           8.399053   \n              3 year                  28.31759  31.042031          13.992693   \n              5 year                 26.818489  29.322114          13.217412   \nMA            0 year                 14.833867  15.833146          32.601698   \n              1 year                 12.994539  14.004398          28.836163   \n              3 year                 23.215676  24.664639           50.78644   \n              5 year                 21.617914  22.821395          46.991055   \nV             0 year                 15.269858  16.378134          45.306965   \n              1 year                  13.65894    14.8349          41.037904   \n              3 year                 23.486045    25.0026          69.164896   \n              5 year                 21.674883  22.892607          63.328004   \n\n                            TTM PE Ratio                                \n                              Unweighted   Weighted Weighted, Adjusted  \nTarget Ticker Time Averaged                                             \nAXP           0 year           18.675716  20.405311           19.94753  \n              1 year           19.875425   21.58938          21.105035  \n              3 year           27.560459  29.351698          28.693211  \n              5 year           25.580679   27.59304          26.974008  \nDFS           0 year           20.167727  22.270325          11.544715  \n              1 year           21.169683  23.207202          12.030383  \n              3 year            28.86472  30.982024          16.060773  \n              5 year           26.793174   29.10866           15.08964  \nMA            0 year           16.661761  17.887867            41.1748  \n              1 year           17.258238  18.317896          42.164653  \n              3 year           24.210937  25.164796          57.925042  \n              5 year           22.304176  23.497412          54.087009  \nV             0 year           16.893754  18.177858          44.875151  \n              1 year           17.917222  19.141626          47.254378  \n              3 year           24.412646  25.416932          62.746044  \n              5 year           22.484691  23.723056          58.564421  ",
      "text/html": "<div>\n<style scoped>\n    .dataframe tbody tr th:only-of-type {\n        vertical-align: middle;\n    }\n\n    .dataframe tbody tr th {\n        vertical-align: top;\n    }\n\n    .dataframe thead tr th {\n        text-align: left;\n    }\n\n    .dataframe thead tr:last-of-type th {\n        text-align: right;\n    }\n</style>\n<table border=\"1\" class=\"dataframe\">\n  <thead>\n    <tr>\n      <th></th>\n      <th></th>\n      <th colspan=\"3\" halign=\"left\">Quarterly PE Ratio</th>\n      <th colspan=\"3\" halign=\"left\">TTM PE Ratio</th>\n    </tr>\n    <tr>\n      <th></th>\n      <th></th>\n      <th>Unweighted</th>\n      <th>Weighted</th>\n      <th>Weighted, Adjusted</th>\n      <th>Unweighted</th>\n      <th>Weighted</th>\n      <th>Weighted, Adjusted</th>\n    </tr>\n    <tr>\n      <th>Target Ticker</th>\n      <th>Time Averaged</th>\n      <th></th>\n      <th></th>\n      <th></th>\n      <th></th>\n      <th></th>\n      <th></th>\n    </tr>\n  </thead>\n  <tbody>\n    <tr>\n      <th rowspan=\"4\" valign=\"top\">AXP</th>\n      <th>0 year</th>\n      <td>16.70734</td>\n      <td>18.174986</td>\n      <td>17.405749</td>\n      <td>18.675716</td>\n      <td>20.405311</td>\n      <td>19.94753</td>\n    </tr>\n    <tr>\n      <th>1 year</th>\n      <td>15.277391</td>\n      <td>16.857963</td>\n      <td>16.144468</td>\n      <td>19.875425</td>\n      <td>21.58938</td>\n      <td>21.105035</td>\n    </tr>\n    <tr>\n      <th>3 year</th>\n      <td>26.100156</td>\n      <td>28.270239</td>\n      <td>27.073731</td>\n      <td>27.560459</td>\n      <td>29.351698</td>\n      <td>28.693211</td>\n    </tr>\n    <tr>\n      <th>5 year</th>\n      <td>24.189109</td>\n      <td>26.035389</td>\n      <td>24.933469</td>\n      <td>25.580679</td>\n      <td>27.59304</td>\n      <td>26.974008</td>\n    </tr>\n    <tr>\n      <th rowspan=\"4\" valign=\"top\">DFS</th>\n      <th>0 year</th>\n      <td>18.258323</td>\n      <td>20.113715</td>\n      <td>9.066579</td>\n      <td>20.167727</td>\n      <td>22.270325</td>\n      <td>11.544715</td>\n    </tr>\n    <tr>\n      <th>1 year</th>\n      <td>16.697296</td>\n      <td>18.632845</td>\n      <td>8.399053</td>\n      <td>21.169683</td>\n      <td>23.207202</td>\n      <td>12.030383</td>\n    </tr>\n    <tr>\n      <th>3 year</th>\n      <td>28.31759</td>\n      <td>31.042031</td>\n      <td>13.992693</td>\n      <td>28.86472</td>\n      <td>30.982024</td>\n      <td>16.060773</td>\n    </tr>\n    <tr>\n      <th>5 year</th>\n      <td>26.818489</td>\n      <td>29.322114</td>\n      <td>13.217412</td>\n      <td>26.793174</td>\n      <td>29.10866</td>\n      <td>15.08964</td>\n    </tr>\n    <tr>\n      <th rowspan=\"4\" valign=\"top\">MA</th>\n      <th>0 year</th>\n      <td>14.833867</td>\n      <td>15.833146</td>\n      <td>32.601698</td>\n      <td>16.661761</td>\n      <td>17.887867</td>\n      <td>41.1748</td>\n    </tr>\n    <tr>\n      <th>1 year</th>\n      <td>12.994539</td>\n      <td>14.004398</td>\n      <td>28.836163</td>\n      <td>17.258238</td>\n      <td>18.317896</td>\n      <td>42.164653</td>\n    </tr>\n    <tr>\n      <th>3 year</th>\n      <td>23.215676</td>\n      <td>24.664639</td>\n      <td>50.78644</td>\n      <td>24.210937</td>\n      <td>25.164796</td>\n      <td>57.925042</td>\n    </tr>\n    <tr>\n      <th>5 year</th>\n      <td>21.617914</td>\n      <td>22.821395</td>\n      <td>46.991055</td>\n      <td>22.304176</td>\n      <td>23.497412</td>\n      <td>54.087009</td>\n    </tr>\n    <tr>\n      <th rowspan=\"4\" valign=\"top\">V</th>\n      <th>0 year</th>\n      <td>15.269858</td>\n      <td>16.378134</td>\n      <td>45.306965</td>\n      <td>16.893754</td>\n      <td>18.177858</td>\n      <td>44.875151</td>\n    </tr>\n    <tr>\n      <th>1 year</th>\n      <td>13.65894</td>\n      <td>14.8349</td>\n      <td>41.037904</td>\n      <td>17.917222</td>\n      <td>19.141626</td>\n      <td>47.254378</td>\n    </tr>\n    <tr>\n      <th>3 year</th>\n      <td>23.486045</td>\n      <td>25.0026</td>\n      <td>69.164896</td>\n      <td>24.412646</td>\n      <td>25.416932</td>\n      <td>62.746044</td>\n    </tr>\n    <tr>\n      <th>5 year</th>\n      <td>21.674883</td>\n      <td>22.892607</td>\n      <td>63.328004</td>\n      <td>22.484691</td>\n      <td>23.723056</td>\n      <td>58.564421</td>\n    </tr>\n  </tbody>\n</table>\n</div>"
     },
     "execution_count": 10,
     "metadata": {},
     "output_type": "execute_result"
    }
   ],
   "source": [
    "c = pn.Comps(config)\n",
    "c.run()\n",
    "c.comp_ratios"
   ],
   "metadata": {
    "collapsed": false
   }
  },
  {
   "cell_type": "code",
   "execution_count": null,
   "outputs": [],
   "source": [
    "c.calc_fair_value()"
   ],
   "metadata": {
    "collapsed": false
   }
  }
 ],
 "metadata": {
  "kernelspec": {
   "display_name": "Python 3",
   "language": "python",
   "name": "python3"
  },
  "language_info": {
   "codemirror_mode": {
    "name": "ipython",
    "version": 2
   },
   "file_extension": ".py",
   "mimetype": "text/x-python",
   "name": "python",
   "nbconvert_exporter": "python",
   "pygments_lexer": "ipython2",
   "version": "2.7.6"
  }
 },
 "nbformat": 4,
 "nbformat_minor": 0
}
