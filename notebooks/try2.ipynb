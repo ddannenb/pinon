{
 "cells": [
  {
   "cell_type": "markdown",
   "source": [
    "## Setup\n",
    "Install accompanying pinon library. It is better to install in dev mode in the conda environment with `pip install -e .` Jupyter server must restart to see changes to conda environment.\n",
    "Auto reload the pinon module.  Other imports may be ignored for auto reload e.g.  `%aimport -simfin`. Note use of option 2 for auto reload and excluding other modules, rather than option 1 and including only reloadable modules.  This is because option 1 does not work correctly with aliased imports."
   ],
   "metadata": {
    "collapsed": false
   }
  },
  {
   "cell_type": "code",
   "execution_count": null,
   "outputs": [],
   "source": [
    "# !pip install -e ..\n",
    "\n",
    "%load_ext autoreload\n",
    "%autoreload 2\n",
    "%aimport -pandas\n",
    "%aimport -simfin\n",
    "%aimport -os\n",
    "\n",
    "%aimport pinon\n",
    "\n",
    "%matplotlib inline\n",
    "\n",
    "# imports\n",
    "import pandas as pd\n",
    "import seaborn as sns\n",
    "import os\n",
    "\n",
    "import pinon as pn\n",
    "import pinon.names as pn_cols\n",
    "import simfin as sf\n",
    "import simfin.names as sf_cols  # column name shortcuts"
   ],
   "metadata": {
    "collapsed": false
   }
  },
  {
   "cell_type": "code",
   "execution_count": null,
   "outputs": [],
   "source": [
    "config = pn.Config('master', 'V', 15)"
   ],
   "metadata": {
    "collapsed": false
   }
  },
  {
   "cell_type": "code",
   "execution_count": null,
   "outputs": [],
   "source": [
    "c = pn.Comps(config)\n",
    "c.run()     \n",
    "c.comp_ratios"
   ],
   "metadata": {
    "collapsed": false
   }
  },
  {
   "cell_type": "code",
   "outputs": [
    {
     "name": "stdout",
     "output_type": "stream",
     "text": [
      "Break\n",
      "Unexpected exception formatting exception. Falling back to standard exception\n"
     ]
    },
    {
     "name": "stderr",
     "output_type": "stream",
     "text": [
      "Traceback (most recent call last):\n",
      "  File \"pandas/_libs/tslibs/offsets.pyx\", line 3878, in pandas._libs.tslibs.offsets._get_offset\n",
      "KeyError: 'QE'\n",
      "\n",
      "The above exception was the direct cause of the following exception:\n",
      "\n",
      "Traceback (most recent call last):\n",
      "  File \"pandas/_libs/tslibs/offsets.pyx\", line 3979, in pandas._libs.tslibs.offsets.to_offset\n",
      "  File \"pandas/_libs/tslibs/offsets.pyx\", line 3884, in pandas._libs.tslibs.offsets._get_offset\n",
      "ValueError: Invalid frequency: QE\n",
      "\n",
      "The above exception was the direct cause of the following exception:\n",
      "\n",
      "Traceback (most recent call last):\n",
      "  File \"/Users/daved/opt/anaconda3/envs/py3_10_8_pinon/lib/python3.10/site-packages/pandas/core/window/rolling.py\", line 1834, in _validate\n",
      "    freq = to_offset(self.window)\n",
      "  File \"pandas/_libs/tslibs/offsets.pyx\", line 3891, in pandas._libs.tslibs.offsets.to_offset\n",
      "  File \"pandas/_libs/tslibs/offsets.pyx\", line 3987, in pandas._libs.tslibs.offsets.to_offset\n",
      "ValueError: Invalid frequency: 4QE\n",
      "\n",
      "The above exception was the direct cause of the following exception:\n",
      "\n",
      "Traceback (most recent call last):\n",
      "  File \"/Users/daved/opt/anaconda3/envs/py3_10_8_pinon/lib/python3.10/site-packages/IPython/core/interactiveshell.py\", line 3553, in run_code\n",
      "    exec(code_obj, self.user_global_ns, self.user_ns)\n",
      "  File \"/var/folders/9p/f2tvcxd55k125ycs4hyyx6800000gn/T/ipykernel_39927/1397769758.py\", line 1, in <module>\n",
      "    c.run_validation()\n",
      "  File \"/Users/daved/Dev/pinon/pinon/comps.py\", line 66, in run_validation\n",
      "    val_k[pn_cols.ROI_1_YEAR] = self.multiples.price_ratios.loc[(peer_ticker,), pn_cols.MU_QTR_PRICE].rolling('4QE', min_periods=1).apply(self.calc_roi)\n",
      "  File \"/Users/daved/opt/anaconda3/envs/py3_10_8_pinon/lib/python3.10/site-packages/pandas/core/generic.py\", line 11999, in rolling\n",
      "    return Rolling(\n",
      "  File \"/Users/daved/opt/anaconda3/envs/py3_10_8_pinon/lib/python3.10/site-packages/pandas/core/window/rolling.py\", line 165, in __init__\n",
      "    self._validate()\n",
      "  File \"/Users/daved/opt/anaconda3/envs/py3_10_8_pinon/lib/python3.10/site-packages/pandas/core/window/rolling.py\", line 1836, in _validate\n",
      "    raise ValueError(\n",
      "ValueError: passed window 4QE is not compatible with a datetimelike index\n",
      "\n",
      "During handling of the above exception, another exception occurred:\n",
      "\n",
      "Traceback (most recent call last):\n",
      "  File \"/Users/daved/opt/anaconda3/envs/py3_10_8_pinon/lib/python3.10/site-packages/IPython/core/interactiveshell.py\", line 2144, in showtraceback\n",
      "    stb = self.InteractiveTB.structured_traceback(\n",
      "  File \"/Users/daved/opt/anaconda3/envs/py3_10_8_pinon/lib/python3.10/site-packages/IPython/core/ultratb.py\", line 1435, in structured_traceback\n",
      "    return FormattedTB.structured_traceback(\n",
      "  File \"/Users/daved/opt/anaconda3/envs/py3_10_8_pinon/lib/python3.10/site-packages/IPython/core/ultratb.py\", line 1326, in structured_traceback\n",
      "    return VerboseTB.structured_traceback(\n",
      "  File \"/Users/daved/opt/anaconda3/envs/py3_10_8_pinon/lib/python3.10/site-packages/IPython/core/ultratb.py\", line 1173, in structured_traceback\n",
      "    formatted_exception = self.format_exception_as_a_whole(etype, evalue, etb, number_of_lines_of_context,\n",
      "  File \"/Users/daved/opt/anaconda3/envs/py3_10_8_pinon/lib/python3.10/site-packages/IPython/core/ultratb.py\", line 1088, in format_exception_as_a_whole\n",
      "    frames.append(self.format_record(record))\n",
      "  File \"/Users/daved/opt/anaconda3/envs/py3_10_8_pinon/lib/python3.10/site-packages/IPython/core/ultratb.py\", line 970, in format_record\n",
      "    frame_info.lines, Colors, self.has_colors, lvals\n",
      "  File \"/Users/daved/opt/anaconda3/envs/py3_10_8_pinon/lib/python3.10/site-packages/IPython/core/ultratb.py\", line 792, in lines\n",
      "    return self._sd.lines\n",
      "  File \"/Users/daved/opt/anaconda3/envs/py3_10_8_pinon/lib/python3.10/site-packages/stack_data/utils.py\", line 145, in cached_property_wrapper\n",
      "    value = obj.__dict__[self.func.__name__] = self.func(obj)\n",
      "  File \"/Users/daved/opt/anaconda3/envs/py3_10_8_pinon/lib/python3.10/site-packages/stack_data/core.py\", line 698, in lines\n",
      "    pieces = self.included_pieces\n",
      "  File \"/Users/daved/opt/anaconda3/envs/py3_10_8_pinon/lib/python3.10/site-packages/stack_data/utils.py\", line 145, in cached_property_wrapper\n",
      "    value = obj.__dict__[self.func.__name__] = self.func(obj)\n",
      "  File \"/Users/daved/opt/anaconda3/envs/py3_10_8_pinon/lib/python3.10/site-packages/stack_data/core.py\", line 649, in included_pieces\n",
      "    pos = scope_pieces.index(self.executing_piece)\n",
      "  File \"/Users/daved/opt/anaconda3/envs/py3_10_8_pinon/lib/python3.10/site-packages/stack_data/utils.py\", line 145, in cached_property_wrapper\n",
      "    value = obj.__dict__[self.func.__name__] = self.func(obj)\n",
      "  File \"/Users/daved/opt/anaconda3/envs/py3_10_8_pinon/lib/python3.10/site-packages/stack_data/core.py\", line 628, in executing_piece\n",
      "    return only(\n",
      "  File \"/Users/daved/opt/anaconda3/envs/py3_10_8_pinon/lib/python3.10/site-packages/executing/executing.py\", line 164, in only\n",
      "    raise NotOneValueFound('Expected one value, found 0')\n",
      "executing.executing.NotOneValueFound: Expected one value, found 0\n"
     ]
    }
   ],
   "source": [
    "c.run_validation()"
   ],
   "metadata": {
    "collapsed": false,
    "ExecuteTime": {
     "end_time": "2024-04-26T17:07:28.658640Z",
     "start_time": "2024-04-26T17:07:16.582475Z"
    }
   },
   "execution_count": 21
  },
  {
   "cell_type": "code",
   "execution_count": null,
   "outputs": [],
   "source": [
    "c.extend_forecasts()"
   ],
   "metadata": {
    "collapsed": false
   }
  },
  {
   "cell_type": "code",
   "execution_count": null,
   "outputs": [],
   "source": [
    "c.calc_fair_value()\n",
    "c.fair_value.loc['V']\n",
    "\n",
    "\n",
    "c.fair_value"
   ],
   "metadata": {
    "collapsed": false
   }
  },
  {
   "cell_type": "code",
   "execution_count": null,
   "outputs": [],
   "source": [
    "config.companies"
   ],
   "metadata": {
    "collapsed": false
   }
  },
  {
   "cell_type": "code",
   "execution_count": null,
   "outputs": [],
   "source": [
    "industries = sf.load_industries()\n",
    "industries.tail()"
   ],
   "metadata": {
    "collapsed": false
   }
  },
  {
   "cell_type": "code",
   "execution_count": null,
   "outputs": [],
   "source": [
    "companies = sf.load_companies(index=[sf_cols.INDUSTRY_ID, sf_cols.TICKER])\n",
    "c_specific = companies.loc[104007]"
   ],
   "metadata": {
    "collapsed": false
   }
  }
 ],
 "metadata": {
  "kernelspec": {
   "display_name": "Python 3",
   "language": "python",
   "name": "python3"
  },
  "language_info": {
   "codemirror_mode": {
    "name": "ipython",
    "version": 2
   },
   "file_extension": ".py",
   "mimetype": "text/x-python",
   "name": "python",
   "nbconvert_exporter": "python",
   "pygments_lexer": "ipython2",
   "version": "2.7.6"
  }
 },
 "nbformat": 4,
 "nbformat_minor": 0
}
