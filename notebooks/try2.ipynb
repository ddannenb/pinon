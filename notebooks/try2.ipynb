{
 "cells": [
  {
   "cell_type": "markdown",
   "source": [
    "## Setup\n",
    "Install accompanying pinon library. It is better to install in dev mode in the conda environment with `pip install -e .` Jupyter server must restart to see changes to conda environment.\n",
    "Auto reload the pinon module.  Other imports may be ignored for auto reload e.g.  `%aimport -simfin`. Note use of option 2 for auto reload and excluding other modules, rather than option 1 and including only reloadable modules.  This is because option 1 does not work correctly with aliased imports."
   ],
   "metadata": {
    "collapsed": false
   }
  },
  {
   "cell_type": "code",
   "source": [
    "# Suppress future warning, mostly from SimFin library\n",
    "import warnings\n",
    "warnings.simplefilter(action='ignore', category=FutureWarning)\n",
    "\n",
    "# Auto reload pinon for debug. See README for functionality limitations\n",
    "%load_ext autoreload\n",
    "%autoreload 2\n",
    "%aimport -pandas\n",
    "%aimport -simfin\n",
    "%aimport -os\n",
    "\n",
    "%aimport pinon\n",
    "\n",
    "%matplotlib inline\n",
    "\n",
    "# imports\n",
    "import pandas as pd\n",
    "import seaborn as sns\n",
    "import os\n",
    "\n",
    "import pinon as pn\n",
    "import pinon.names as pn_cols\n",
    "import simfin as sf\n",
    "import simfin.names as sf_cols  # column name shortcuts"
   ],
   "metadata": {
    "collapsed": false,
    "ExecuteTime": {
     "end_time": "2024-09-27T20:27:23.033481Z",
     "start_time": "2024-09-27T20:27:22.857650Z"
    }
   },
   "outputs": [
    {
     "name": "stdout",
     "output_type": "stream",
     "text": [
      "Break\n"
     ]
    }
   ],
   "execution_count": 1
  },
  {
   "cell_type": "code",
   "source": [
    "config = pn.Config('master', 'V', 15)"
   ],
   "metadata": {
    "collapsed": false,
    "ExecuteTime": {
     "end_time": "2024-09-27T20:27:43.071483Z",
     "start_time": "2024-09-27T20:27:31.964966Z"
    }
   },
   "outputs": [
    {
     "name": "stdout",
     "output_type": "stream",
     "text": [
      "Config file found at: /Users/daved/Dev/pinon/config/master.xlsx\n",
      "Simfin data directory: /Users/daved/Dev/pinon/simfin_data\n",
      "Dataset \"us-companies\" on disk (126 days old).\n",
      "- Downloading ... 100.0%\n",
      "- Extracting zip-file ... Done!\n",
      "- Loading from disk ... Done!\n",
      "Dataset \"us-income-quarterly\" on disk (126 days old).\n",
      "- Downloading ... 100.0%\n",
      "- Extracting zip-file ... Done!\n",
      "- Loading from disk ... Done!\n",
      "Dataset \"us-income-banks-quarterly\" on disk (126 days old).\n",
      "- Downloading ... 100.0%\n",
      "- Extracting zip-file ... Done!\n",
      "- Loading from disk ... Done!\n",
      "Dataset \"us-income-insurance-quarterly\" on disk (126 days old).\n",
      "- Downloading ... 100.0%\n",
      "- Extracting zip-file ... Done!\n",
      "- Loading from disk ... Done!\n",
      "Dataset \"us-derived-quarterly\" on disk (163 days old).\n"
     ]
    },
    {
     "ename": "HTTPError",
     "evalue": "500 Server Error:  for url: https://prod.simfin.com/api/bulk-download/s3?dataset=derived&variant=quarterly&market=us",
     "output_type": "error",
     "traceback": [
      "\u001B[0;31m---------------------------------------------------------------------------\u001B[0m",
      "\u001B[0;31mHTTPError\u001B[0m                                 Traceback (most recent call last)",
      "Cell \u001B[0;32mIn[2], line 1\u001B[0m\n\u001B[0;32m----> 1\u001B[0m config \u001B[38;5;241m=\u001B[39m pn\u001B[38;5;241m.\u001B[39mConfig(\u001B[38;5;124m'\u001B[39m\u001B[38;5;124mmaster\u001B[39m\u001B[38;5;124m'\u001B[39m, \u001B[38;5;124m'\u001B[39m\u001B[38;5;124mV\u001B[39m\u001B[38;5;124m'\u001B[39m, \u001B[38;5;241m15\u001B[39m)\n",
      "File \u001B[0;32m~/Dev/pinon/pinon/config.py:36\u001B[0m, in \u001B[0;36mConfig.__init__\u001B[0;34m(self, master_config_name, target_sheet_name, past_years_requested)\u001B[0m\n\u001B[1;32m     32\u001B[0m \u001B[38;5;28mprint\u001B[39m(\u001B[38;5;124mf\u001B[39m\u001B[38;5;124m\"\u001B[39m\u001B[38;5;124mSimfin data directory: \u001B[39m\u001B[38;5;132;01m{\u001B[39;00m\u001B[38;5;28mself\u001B[39m\u001B[38;5;241m.\u001B[39msimfin_data_path\u001B[38;5;132;01m}\u001B[39;00m\u001B[38;5;124m\"\u001B[39m)\n\u001B[1;32m     34\u001B[0m sf\u001B[38;5;241m.\u001B[39mload_api_key(CONFIG_PATH \u001B[38;5;241m/\u001B[39m \u001B[38;5;124m'\u001B[39m\u001B[38;5;124msimfin_api_key.txt\u001B[39m\u001B[38;5;124m'\u001B[39m)\n\u001B[0;32m---> 36\u001B[0m \u001B[38;5;28mself\u001B[39m\u001B[38;5;241m.\u001B[39mcompanies \u001B[38;5;241m=\u001B[39m \u001B[38;5;28mself\u001B[39m\u001B[38;5;241m.\u001B[39mparse_target_sheet(\u001B[38;5;28mself\u001B[39m\u001B[38;5;241m.\u001B[39mtarget_sheet_name, \u001B[38;5;28mself\u001B[39m\u001B[38;5;241m.\u001B[39mpast_years_requested)\n\u001B[1;32m     37\u001B[0m \u001B[38;5;28mself\u001B[39m\u001B[38;5;241m.\u001B[39mbreaking_reports \u001B[38;5;241m=\u001B[39m \u001B[38;5;28mself\u001B[39m\u001B[38;5;241m.\u001B[39mparse_breaking_reports(\u001B[38;5;28mself\u001B[39m\u001B[38;5;241m.\u001B[39mtarget_sheet_name)\n\u001B[1;32m     38\u001B[0m \u001B[38;5;28mself\u001B[39m\u001B[38;5;241m.\u001B[39mforecasts \u001B[38;5;241m=\u001B[39m \u001B[38;5;28mself\u001B[39m\u001B[38;5;241m.\u001B[39mparse_forecasts(\u001B[38;5;28mself\u001B[39m\u001B[38;5;241m.\u001B[39mtarget_sheet_name)\n",
      "File \u001B[0;32m~/Dev/pinon/pinon/config.py:62\u001B[0m, in \u001B[0;36mConfig.parse_target_sheet\u001B[0;34m(self, sheet_name, past_years_requested)\u001B[0m\n\u001B[1;32m     60\u001B[0m all_peers \u001B[38;5;241m=\u001B[39m []\n\u001B[1;32m     61\u001B[0m comp \u001B[38;5;241m=\u001B[39m Companies()\n\u001B[0;32m---> 62\u001B[0m funds \u001B[38;5;241m=\u001B[39m Fundamentals()\n\u001B[1;32m     64\u001B[0m \u001B[38;5;28;01mfor\u001B[39;00m ndx, row \u001B[38;5;129;01min\u001B[39;00m companies_section\u001B[38;5;241m.\u001B[39miterrows():\n\u001B[1;32m     65\u001B[0m     ticker \u001B[38;5;241m=\u001B[39m row[pn_cols\u001B[38;5;241m.\u001B[39mTICKER]\n",
      "File \u001B[0;32m~/Dev/pinon/pinon/fundamentals.py:11\u001B[0m, in \u001B[0;36mFundamentals.__init__\u001B[0;34m(self)\u001B[0m\n\u001B[1;32m      8\u001B[0m \u001B[38;5;28mself\u001B[39m\u001B[38;5;241m.\u001B[39mquarterly_income_statements_bank \u001B[38;5;241m=\u001B[39m sfc\u001B[38;5;241m.\u001B[39m_load_quarterly_income_statements_bank()\n\u001B[1;32m      9\u001B[0m \u001B[38;5;28mself\u001B[39m\u001B[38;5;241m.\u001B[39mquarterly_income_statements_insurance \u001B[38;5;241m=\u001B[39m sfc\u001B[38;5;241m.\u001B[39m_load_quarterly_income_statements_insurance()\n\u001B[0;32m---> 11\u001B[0m \u001B[38;5;28mself\u001B[39m\u001B[38;5;241m.\u001B[39mquarterly_derived_ratios \u001B[38;5;241m=\u001B[39m sfc\u001B[38;5;241m.\u001B[39m_load_quarterly_derived_ratios()\n\u001B[1;32m     12\u001B[0m \u001B[38;5;28mself\u001B[39m\u001B[38;5;241m.\u001B[39mquarterly_derived_ratios_bank \u001B[38;5;241m=\u001B[39m sfc\u001B[38;5;241m.\u001B[39m_load_quarterly_derived_ratios_bank()\n\u001B[1;32m     13\u001B[0m \u001B[38;5;28mself\u001B[39m\u001B[38;5;241m.\u001B[39mquarterly_derived_ratios_insurance \u001B[38;5;241m=\u001B[39m sfc\u001B[38;5;241m.\u001B[39m_load_quarterly_derived_ratios_insurance()\n",
      "File \u001B[0;32m~/Dev/pinon/pinon/simfin_global_cache.py:78\u001B[0m, in \u001B[0;36m_load_quarterly_derived_ratios\u001B[0;34m()\u001B[0m\n\u001B[1;32m     75\u001B[0m \u001B[38;5;28;01mglobal\u001B[39;00m __quarterly_derived_ratios\n\u001B[1;32m     77\u001B[0m \u001B[38;5;28;01mif\u001B[39;00m __quarterly_derived_ratios \u001B[38;5;129;01mis\u001B[39;00m \u001B[38;5;28;01mNone\u001B[39;00m \u001B[38;5;129;01mor\u001B[39;00m __quarterly_derived_ratios_updated \u001B[38;5;241m!=\u001B[39m date\u001B[38;5;241m.\u001B[39mtoday():\n\u001B[0;32m---> 78\u001B[0m     __quarterly_derived_ratios \u001B[38;5;241m=\u001B[39m sf\u001B[38;5;241m.\u001B[39mload_derived(variant\u001B[38;5;241m=\u001B[39m\u001B[38;5;124m'\u001B[39m\u001B[38;5;124mquarterly\u001B[39m\u001B[38;5;124m'\u001B[39m, market\u001B[38;5;241m=\u001B[39m\u001B[38;5;124m'\u001B[39m\u001B[38;5;124mus\u001B[39m\u001B[38;5;124m'\u001B[39m, refresh_days\u001B[38;5;241m=\u001B[39m\u001B[38;5;241m30\u001B[39m, index\u001B[38;5;241m=\u001B[39m[sf_cols\u001B[38;5;241m.\u001B[39mTICKER, sf_cols\u001B[38;5;241m.\u001B[39mREPORT_DATE])\n\u001B[1;32m     79\u001B[0m     __quarterly_derived_ratios_updated \u001B[38;5;241m=\u001B[39m date\u001B[38;5;241m.\u001B[39mtoday()\n\u001B[1;32m     80\u001B[0m \u001B[38;5;28;01mreturn\u001B[39;00m __quarterly_derived_ratios\n",
      "File \u001B[0;32m/opt/anaconda3/envs/pinon-py3_11_9/lib/python3.11/site-packages/simfin/load.py:140\u001B[0m, in \u001B[0;36mload\u001B[0;34m(dataset, variant, market, start_date, end_date, parse_dates, index, refresh_days)\u001B[0m\n\u001B[1;32m    137\u001B[0m dataset_args \u001B[38;5;241m=\u001B[39m {\u001B[38;5;124m'\u001B[39m\u001B[38;5;124mdataset\u001B[39m\u001B[38;5;124m'\u001B[39m: dataset, \u001B[38;5;124m'\u001B[39m\u001B[38;5;124mvariant\u001B[39m\u001B[38;5;124m'\u001B[39m: variant, \u001B[38;5;124m'\u001B[39m\u001B[38;5;124mmarket\u001B[39m\u001B[38;5;124m'\u001B[39m: market}\n\u001B[1;32m    139\u001B[0m \u001B[38;5;66;03m# Download file if it does not exist on local disk, or if it is too old.\u001B[39;00m\n\u001B[0;32m--> 140\u001B[0m _maybe_download_dataset(\u001B[38;5;241m*\u001B[39m\u001B[38;5;241m*\u001B[39mdataset_args, refresh_days\u001B[38;5;241m=\u001B[39mrefresh_days)\n\u001B[1;32m    142\u001B[0m \u001B[38;5;66;03m# Lambda function for converting strings to dates. Format: YYYY-MM-DD\u001B[39;00m\n\u001B[1;32m    143\u001B[0m date_parser \u001B[38;5;241m=\u001B[39m \u001B[38;5;28;01mlambda\u001B[39;00m x: pd\u001B[38;5;241m.\u001B[39mto_datetime(x, yearfirst\u001B[38;5;241m=\u001B[39m\u001B[38;5;28;01mTrue\u001B[39;00m, dayfirst\u001B[38;5;241m=\u001B[39m\u001B[38;5;28;01mFalse\u001B[39;00m)\n",
      "File \u001B[0;32m/opt/anaconda3/envs/pinon-py3_11_9/lib/python3.11/site-packages/simfin/download.py:296\u001B[0m, in \u001B[0;36m_maybe_download_dataset\u001B[0;34m(refresh_days, **kwargs)\u001B[0m\n\u001B[1;32m    293\u001B[0m \u001B[38;5;66;03m# URL to SimFin's server where the file is located.\u001B[39;00m\n\u001B[1;32m    294\u001B[0m url \u001B[38;5;241m=\u001B[39m _url_dataset(\u001B[38;5;241m*\u001B[39m\u001B[38;5;241m*\u001B[39mkwargs)\n\u001B[0;32m--> 296\u001B[0m \u001B[38;5;28;01mreturn\u001B[39;00m _maybe_download(name\u001B[38;5;241m=\u001B[39mdataset_name, path\u001B[38;5;241m=\u001B[39mpath,\n\u001B[1;32m    297\u001B[0m                        download_path\u001B[38;5;241m=\u001B[39mdownload_path,\n\u001B[1;32m    298\u001B[0m                        url\u001B[38;5;241m=\u001B[39murl, headers\u001B[38;5;241m=\u001B[39mheaders, refresh_days\u001B[38;5;241m=\u001B[39mrefresh_days)\n",
      "File \u001B[0;32m/opt/anaconda3/envs/pinon-py3_11_9/lib/python3.11/site-packages/simfin/download.py:242\u001B[0m, in \u001B[0;36m_maybe_download\u001B[0;34m(name, url, headers, path, download_path, refresh_days)\u001B[0m\n\u001B[1;32m    237\u001B[0m \u001B[38;5;28mprint\u001B[39m(msg)\n\u001B[1;32m    239\u001B[0m \u001B[38;5;28;01mif\u001B[39;00m must_download:\n\u001B[1;32m    240\u001B[0m     \u001B[38;5;66;03m# Download the file from the SimFin server.\u001B[39;00m\n\u001B[1;32m    241\u001B[0m     \u001B[38;5;66;03m# This is assumed to succeed unless an exception is raised.\u001B[39;00m\n\u001B[0;32m--> 242\u001B[0m     _download(url\u001B[38;5;241m=\u001B[39murl, headers\u001B[38;5;241m=\u001B[39mheaders, download_path\u001B[38;5;241m=\u001B[39mdownload_path)\n\u001B[1;32m    244\u001B[0m     \u001B[38;5;28;01mif\u001B[39;00m download_path\u001B[38;5;241m.\u001B[39mendswith(\u001B[38;5;124m'\u001B[39m\u001B[38;5;124mzip\u001B[39m\u001B[38;5;124m'\u001B[39m):\n\u001B[1;32m    245\u001B[0m         \u001B[38;5;66;03m# Downloaded file must be unzipped into the data-dir.\u001B[39;00m\n\u001B[1;32m    246\u001B[0m \n\u001B[1;32m    247\u001B[0m         \u001B[38;5;66;03m# Print status message.\u001B[39;00m\n\u001B[1;32m    248\u001B[0m         \u001B[38;5;28mprint\u001B[39m(\u001B[38;5;124m'\u001B[39m\u001B[38;5;130;01m\\n\u001B[39;00m\u001B[38;5;124m- Extracting zip-file ... \u001B[39m\u001B[38;5;124m'\u001B[39m, end\u001B[38;5;241m=\u001B[39m\u001B[38;5;124m'\u001B[39m\u001B[38;5;124m'\u001B[39m)\n",
      "File \u001B[0;32m/opt/anaconda3/envs/pinon-py3_11_9/lib/python3.11/site-packages/simfin/download.py:175\u001B[0m, in \u001B[0;36m_download\u001B[0;34m(url, headers, download_path)\u001B[0m\n\u001B[1;32m    170\u001B[0m     \u001B[38;5;28;01mraise\u001B[39;00m ServerException(error)\n\u001B[1;32m    172\u001B[0m \u001B[38;5;66;03m# Or if another error occurred.\u001B[39;00m\n\u001B[1;32m    173\u001B[0m \u001B[38;5;28;01melse\u001B[39;00m:\n\u001B[1;32m    174\u001B[0m     \u001B[38;5;66;03m# Raise the error as an exception.\u001B[39;00m\n\u001B[0;32m--> 175\u001B[0m     response\u001B[38;5;241m.\u001B[39mraise_for_status()\n",
      "File \u001B[0;32m/opt/anaconda3/envs/pinon-py3_11_9/lib/python3.11/site-packages/requests/models.py:1021\u001B[0m, in \u001B[0;36mResponse.raise_for_status\u001B[0;34m(self)\u001B[0m\n\u001B[1;32m   1016\u001B[0m     http_error_msg \u001B[38;5;241m=\u001B[39m (\n\u001B[1;32m   1017\u001B[0m         \u001B[38;5;124mf\u001B[39m\u001B[38;5;124m\"\u001B[39m\u001B[38;5;132;01m{\u001B[39;00m\u001B[38;5;28mself\u001B[39m\u001B[38;5;241m.\u001B[39mstatus_code\u001B[38;5;132;01m}\u001B[39;00m\u001B[38;5;124m Server Error: \u001B[39m\u001B[38;5;132;01m{\u001B[39;00mreason\u001B[38;5;132;01m}\u001B[39;00m\u001B[38;5;124m for url: \u001B[39m\u001B[38;5;132;01m{\u001B[39;00m\u001B[38;5;28mself\u001B[39m\u001B[38;5;241m.\u001B[39murl\u001B[38;5;132;01m}\u001B[39;00m\u001B[38;5;124m\"\u001B[39m\n\u001B[1;32m   1018\u001B[0m     )\n\u001B[1;32m   1020\u001B[0m \u001B[38;5;28;01mif\u001B[39;00m http_error_msg:\n\u001B[0;32m-> 1021\u001B[0m     \u001B[38;5;28;01mraise\u001B[39;00m HTTPError(http_error_msg, response\u001B[38;5;241m=\u001B[39m\u001B[38;5;28mself\u001B[39m)\n",
      "\u001B[0;31mHTTPError\u001B[0m: 500 Server Error:  for url: https://prod.simfin.com/api/bulk-download/s3?dataset=derived&variant=quarterly&market=us"
     ]
    }
   ],
   "execution_count": 2
  },
  {
   "cell_type": "code",
   "source": [
    "m = pn.Multiples(config)\n",
    "m.run_qtr_derived()\n",
    "m.qtr_derived_bases\n",
    "qdb = m.qtr_derived_bases\n",
    "qdb"
   ],
   "metadata": {
    "collapsed": false,
    "ExecuteTime": {
     "end_time": "2024-09-27T20:27:47.190114Z",
     "start_time": "2024-09-27T20:27:47.131635Z"
    }
   },
   "outputs": [
    {
     "ename": "AttributeError",
     "evalue": "module 'pinon' has no attribute 'Multiples'",
     "output_type": "error",
     "traceback": [
      "\u001B[0;31m---------------------------------------------------------------------------\u001B[0m",
      "\u001B[0;31mAttributeError\u001B[0m                            Traceback (most recent call last)",
      "Cell \u001B[0;32mIn[3], line 1\u001B[0m\n\u001B[0;32m----> 1\u001B[0m m \u001B[38;5;241m=\u001B[39m pn\u001B[38;5;241m.\u001B[39mMultiples(config)\n\u001B[1;32m      2\u001B[0m m\u001B[38;5;241m.\u001B[39mrun_qtr_derived()\n\u001B[1;32m      3\u001B[0m m\u001B[38;5;241m.\u001B[39mqtr_derived_bases\n",
      "\u001B[0;31mAttributeError\u001B[0m: module 'pinon' has no attribute 'Multiples'"
     ]
    }
   ],
   "execution_count": 3
  },
  {
   "cell_type": "code",
   "source": [
    "c = pn.Comps(config)\n",
    "c.run()     \n",
    "c.comp_ratios"
   ],
   "metadata": {
    "collapsed": false
   },
   "outputs": [],
   "execution_count": null
  },
  {
   "cell_type": "code",
   "source": [
    "c.run_validation()"
   ],
   "metadata": {
    "collapsed": false
   },
   "outputs": [],
   "execution_count": null
  },
  {
   "cell_type": "code",
   "source": [
    "c.extend_forecasts()"
   ],
   "metadata": {
    "collapsed": false
   },
   "outputs": [],
   "execution_count": null
  },
  {
   "cell_type": "code",
   "source": [
    "c.calc_fair_value()\n",
    "c.fair_value.loc['V']\n",
    "\n",
    "\n",
    "c.fair_value"
   ],
   "metadata": {
    "collapsed": false
   },
   "outputs": [],
   "execution_count": null
  },
  {
   "cell_type": "code",
   "source": [
    "config.companies"
   ],
   "metadata": {
    "collapsed": false
   },
   "outputs": [],
   "execution_count": null
  },
  {
   "cell_type": "code",
   "source": [
    "industries = sf.load_industries()\n",
    "industries.tail()"
   ],
   "metadata": {
    "collapsed": false
   },
   "outputs": [],
   "execution_count": null
  },
  {
   "cell_type": "code",
   "source": [
    "companies = sf.load_companies(index=[sf_cols.INDUSTRY_ID, sf_cols.TICKER])\n",
    "c_specific = companies.loc[104007]"
   ],
   "metadata": {
    "collapsed": false
   },
   "outputs": [],
   "execution_count": null
  }
 ],
 "metadata": {
  "kernelspec": {
   "display_name": "Python 3",
   "language": "python",
   "name": "python3"
  },
  "language_info": {
   "codemirror_mode": {
    "name": "ipython",
    "version": 2
   },
   "file_extension": ".py",
   "mimetype": "text/x-python",
   "name": "python",
   "nbconvert_exporter": "python",
   "pygments_lexer": "ipython2",
   "version": "2.7.6"
  }
 },
 "nbformat": 4,
 "nbformat_minor": 0
}
