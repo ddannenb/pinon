{
 "cells": [
  {
   "cell_type": "markdown",
   "source": [
    "## Setup\n",
    "Install accompanying pinon library. It is better to install in dev mode in the conda environment with `pip install -e .` Jupyter server must restart to see changes to conda environment.\n",
    "Auto reload the pinon module.  Other imports may be ignored for auto reload e.g.  `%aimport -simfin`. Note use of option 2 for auto reload and excluding other modules, rather than option 1 and including only reloadable modules.  This is because option 1 does not work correctly with aliased imports."
   ],
   "metadata": {
    "collapsed": false
   }
  },
  {
   "cell_type": "code",
   "execution_count": 32,
   "outputs": [
    {
     "name": "stdout",
     "output_type": "stream",
     "text": [
      "The autoreload extension is already loaded. To reload it, use:\n",
      "  %reload_ext autoreload\n"
     ]
    }
   ],
   "source": [
    "# !pip install -e ..\n",
    "\n",
    "%load_ext autoreload\n",
    "%autoreload 2\n",
    "%aimport -pandas\n",
    "%aimport -simfin\n",
    "%aimport -os\n",
    "\n",
    "%aimport pinon\n",
    "\n",
    "%matplotlib inline\n",
    "\n",
    "# imports\n",
    "import pandas as pd\n",
    "import seaborn as sns\n",
    "import os\n",
    "\n",
    "import pinon as pn\n",
    "import pinon.names as pn_cols\n",
    "import simfin as sf\n",
    "import simfin.names as sf_cols  # column name shortcuts"
   ],
   "metadata": {
    "collapsed": false
   }
  },
  {
   "cell_type": "code",
   "execution_count": 33,
   "outputs": [
    {
     "name": "stdout",
     "output_type": "stream",
     "text": [
      "Config file found at: /Users/daved/Dev/pinon/config/master.xlsx\n",
      "Simfin data directory: /Users/daved/Dev/pinon/simfin_data\n",
      "Dataset \"us-companies\" on disk (1 days old).\n",
      "- Downloading ... 100.0%\n",
      "- Extracting zip-file ... Done!\n",
      "- Loading from disk ... Done!\n",
      "Dataset \"us-income-quarterly\" on disk (1 days old).\n"
     ]
    },
    {
     "name": "stderr",
     "output_type": "stream",
     "text": [
      "/Users/daved/opt/anaconda3/envs/py3_10_8_pinon/lib/python3.10/site-packages/simfin/load.py:144: FutureWarning: The argument 'date_parser' is deprecated and will be removed in a future version. Please use 'date_format' instead, or read your data in as 'object' dtype and then call 'to_datetime'.\n",
      "  df = pd.read_csv(path, sep=';', header=0,\n"
     ]
    },
    {
     "name": "stdout",
     "output_type": "stream",
     "text": [
      "- Downloading ... 100.0%\n",
      "- Extracting zip-file ... Done!\n",
      "- Loading from disk ... "
     ]
    },
    {
     "name": "stderr",
     "output_type": "stream",
     "text": [
      "/Users/daved/opt/anaconda3/envs/py3_10_8_pinon/lib/python3.10/site-packages/simfin/load.py:144: FutureWarning: The argument 'date_parser' is deprecated and will be removed in a future version. Please use 'date_format' instead, or read your data in as 'object' dtype and then call 'to_datetime'.\n",
      "  df = pd.read_csv(path, sep=';', header=0,\n"
     ]
    },
    {
     "name": "stdout",
     "output_type": "stream",
     "text": [
      "Done!\n",
      "Dataset \"us-income-banks-quarterly\" on disk (1 days old).\n",
      "- Downloading ... 100.0%\n",
      "- Extracting zip-file ... Done!\n",
      "- Loading from disk ... Done!\n",
      "Dataset \"us-income-insurance-quarterly\" on disk (1 days old).\n"
     ]
    },
    {
     "name": "stderr",
     "output_type": "stream",
     "text": [
      "/Users/daved/opt/anaconda3/envs/py3_10_8_pinon/lib/python3.10/site-packages/simfin/load.py:144: FutureWarning: The argument 'date_parser' is deprecated and will be removed in a future version. Please use 'date_format' instead, or read your data in as 'object' dtype and then call 'to_datetime'.\n",
      "  df = pd.read_csv(path, sep=';', header=0,\n"
     ]
    },
    {
     "name": "stdout",
     "output_type": "stream",
     "text": [
      "- Downloading ... 100.0%\n",
      "- Extracting zip-file ... Done!\n",
      "- Loading from disk ... Done!\n",
      "Dataset \"us-derived-quarterly\" on disk (1 days old).\n"
     ]
    },
    {
     "name": "stderr",
     "output_type": "stream",
     "text": [
      "/Users/daved/opt/anaconda3/envs/py3_10_8_pinon/lib/python3.10/site-packages/simfin/load.py:144: FutureWarning: The argument 'date_parser' is deprecated and will be removed in a future version. Please use 'date_format' instead, or read your data in as 'object' dtype and then call 'to_datetime'.\n",
      "  df = pd.read_csv(path, sep=';', header=0,\n"
     ]
    },
    {
     "name": "stdout",
     "output_type": "stream",
     "text": [
      "- Downloading ... 100.0%\n",
      "- Extracting zip-file ... Done!\n",
      "- Loading from disk ... "
     ]
    },
    {
     "name": "stderr",
     "output_type": "stream",
     "text": [
      "/Users/daved/opt/anaconda3/envs/py3_10_8_pinon/lib/python3.10/site-packages/simfin/load.py:144: FutureWarning: The argument 'date_parser' is deprecated and will be removed in a future version. Please use 'date_format' instead, or read your data in as 'object' dtype and then call 'to_datetime'.\n",
      "  df = pd.read_csv(path, sep=';', header=0,\n"
     ]
    },
    {
     "name": "stdout",
     "output_type": "stream",
     "text": [
      "Done!\n",
      "Dataset \"us-derived-banks-quarterly\" on disk (1 days old).\n",
      "- Downloading ... 100.0%\n",
      "- Extracting zip-file ... Done!\n",
      "- Loading from disk ... Done!\n",
      "Dataset \"us-derived-insurance-quarterly\" on disk (1 days old).\n"
     ]
    },
    {
     "name": "stderr",
     "output_type": "stream",
     "text": [
      "/Users/daved/opt/anaconda3/envs/py3_10_8_pinon/lib/python3.10/site-packages/simfin/load.py:144: FutureWarning: The argument 'date_parser' is deprecated and will be removed in a future version. Please use 'date_format' instead, or read your data in as 'object' dtype and then call 'to_datetime'.\n",
      "  df = pd.read_csv(path, sep=';', header=0,\n"
     ]
    },
    {
     "name": "stdout",
     "output_type": "stream",
     "text": [
      "- Downloading ... 100.0%\n",
      "- Extracting zip-file ... Done!\n",
      "- Loading from disk ... Done!\n",
      "There is an error in the supplied ticker symbol EEFT in Company List of sheet: V of config file: /Users/daved/Dev/pinon/config/master.xlsx. Company uses non stardard quarterly reporting date not currently supported. Company was dropped from the list.\n",
      "There is an error in the supplied ticker symbol PAGS in Company List of sheet: V of config file: /Users/daved/Dev/pinon/config/master.xlsx. Company was not found and was dropped from the list.\n"
     ]
    },
    {
     "name": "stderr",
     "output_type": "stream",
     "text": [
      "/Users/daved/opt/anaconda3/envs/py3_10_8_pinon/lib/python3.10/site-packages/simfin/load.py:144: FutureWarning: The argument 'date_parser' is deprecated and will be removed in a future version. Please use 'date_format' instead, or read your data in as 'object' dtype and then call 'to_datetime'.\n",
      "  df = pd.read_csv(path, sep=';', header=0,\n"
     ]
    }
   ],
   "source": [
    "config = pn.Config('master', 'V', 15)"
   ],
   "metadata": {
    "collapsed": false
   }
  },
  {
   "cell_type": "code",
   "execution_count": 71,
   "outputs": [
    {
     "data": {
      "text/plain": "                            Quarterly PE Ratio                                 \n                                    Unweighted   Weighted Weighted, Adjusted   \nTarget Ticker Time Averaged                                                    \nAXP           00 year                17.485194  19.147304          31.577018  \\\n              01 year                15.340713  16.937116           23.59165   \n              03 year                25.994344  28.137974          37.769344   \n              05 year                24.226123  26.081656          30.687139   \n              10 year                22.454428  24.658419          24.753036   \n              max year               22.978603  24.979571          24.867271   \nDFS           00 year                19.036177  21.086033          12.394545   \n              01 year                16.760618  18.711997           9.516482   \n              03 year                28.211778  30.909766          12.661274   \n              05 year                26.855503  29.368381           13.55669   \n              10 year                23.905716  26.472529          13.808193   \n              max year                24.39037   26.74428          13.306316   \nMA            00 year                14.727428  15.700097          47.715169   \n              01 year                12.926997  13.919971          40.080166   \n              03 year                23.193162  24.636496           80.37582   \n              05 year                21.604406  22.804509          66.841078   \n              10 year                19.646625  21.148665          49.797586   \n              max year               19.789062  20.992645          42.444991   \nV             00 year                16.154152  17.483501          40.129822   \n              01 year                13.789804   14.99848          35.879733   \n              03 year                23.402747  24.898478            79.4475   \n              05 year                21.725406   22.95576          66.978948   \n              10 year                19.201988  20.592868          52.797491   \n              max year               19.981178   21.23279          53.889269   \n\n                            TTM PE Ratio                                \n                              Unweighted   Weighted Weighted, Adjusted  \nTarget Ticker Time Averaged                                             \nAXP           00 year          19.189247  21.047224          29.851698  \n              01 year          19.800319  21.495497          29.351698  \n              03 year          27.528225  29.311405          35.845554  \n              05 year          25.532936  27.533362          31.676777  \n              10 year          24.616816   26.14301           26.47021  \n              max year         27.770395  29.368898          29.350684  \nDFS           00 year          20.681258  22.912238          11.847905  \n              01 year          21.094576  23.113319          11.633105  \n              03 year          28.832485  30.941731          15.592686  \n              05 year          26.745431  29.048981          14.890004  \n              10 year          25.596598  27.367737          14.615554  \n              max year         28.692807  30.521913          16.097081  \nMA            00 year          16.579066  17.784498          54.987126  \n              01 year           17.22495  18.276286          57.155822  \n              03 year          24.199841  25.150926          72.784673  \n              05 year          22.297518   23.48909          66.274905  \n              10 year          22.090586  22.985222          52.211333  \n              max year         25.918708   27.05429           56.80704  \nV             00 year           17.48998   18.92314          49.562352  \n              01 year          17.875404  19.089353          51.817934  \n              03 year          24.391507  25.390509          73.794397  \n              05 year          22.443606  23.671699          65.213745  \n              10 year          21.775237  22.591035          54.639783  \n              max year         22.222293  22.433771            63.1898  ",
      "text/html": "<div>\n<style scoped>\n    .dataframe tbody tr th:only-of-type {\n        vertical-align: middle;\n    }\n\n    .dataframe tbody tr th {\n        vertical-align: top;\n    }\n\n    .dataframe thead tr th {\n        text-align: left;\n    }\n\n    .dataframe thead tr:last-of-type th {\n        text-align: right;\n    }\n</style>\n<table border=\"1\" class=\"dataframe\">\n  <thead>\n    <tr>\n      <th></th>\n      <th></th>\n      <th colspan=\"3\" halign=\"left\">Quarterly PE Ratio</th>\n      <th colspan=\"3\" halign=\"left\">TTM PE Ratio</th>\n    </tr>\n    <tr>\n      <th></th>\n      <th></th>\n      <th>Unweighted</th>\n      <th>Weighted</th>\n      <th>Weighted, Adjusted</th>\n      <th>Unweighted</th>\n      <th>Weighted</th>\n      <th>Weighted, Adjusted</th>\n    </tr>\n    <tr>\n      <th>Target Ticker</th>\n      <th>Time Averaged</th>\n      <th></th>\n      <th></th>\n      <th></th>\n      <th></th>\n      <th></th>\n      <th></th>\n    </tr>\n  </thead>\n  <tbody>\n    <tr>\n      <th rowspan=\"6\" valign=\"top\">AXP</th>\n      <th>00 year</th>\n      <td>17.485194</td>\n      <td>19.147304</td>\n      <td>31.577018</td>\n      <td>19.189247</td>\n      <td>21.047224</td>\n      <td>29.851698</td>\n    </tr>\n    <tr>\n      <th>01 year</th>\n      <td>15.340713</td>\n      <td>16.937116</td>\n      <td>23.59165</td>\n      <td>19.800319</td>\n      <td>21.495497</td>\n      <td>29.351698</td>\n    </tr>\n    <tr>\n      <th>03 year</th>\n      <td>25.994344</td>\n      <td>28.137974</td>\n      <td>37.769344</td>\n      <td>27.528225</td>\n      <td>29.311405</td>\n      <td>35.845554</td>\n    </tr>\n    <tr>\n      <th>05 year</th>\n      <td>24.226123</td>\n      <td>26.081656</td>\n      <td>30.687139</td>\n      <td>25.532936</td>\n      <td>27.533362</td>\n      <td>31.676777</td>\n    </tr>\n    <tr>\n      <th>10 year</th>\n      <td>22.454428</td>\n      <td>24.658419</td>\n      <td>24.753036</td>\n      <td>24.616816</td>\n      <td>26.14301</td>\n      <td>26.47021</td>\n    </tr>\n    <tr>\n      <th>max year</th>\n      <td>22.978603</td>\n      <td>24.979571</td>\n      <td>24.867271</td>\n      <td>27.770395</td>\n      <td>29.368898</td>\n      <td>29.350684</td>\n    </tr>\n    <tr>\n      <th rowspan=\"6\" valign=\"top\">DFS</th>\n      <th>00 year</th>\n      <td>19.036177</td>\n      <td>21.086033</td>\n      <td>12.394545</td>\n      <td>20.681258</td>\n      <td>22.912238</td>\n      <td>11.847905</td>\n    </tr>\n    <tr>\n      <th>01 year</th>\n      <td>16.760618</td>\n      <td>18.711997</td>\n      <td>9.516482</td>\n      <td>21.094576</td>\n      <td>23.113319</td>\n      <td>11.633105</td>\n    </tr>\n    <tr>\n      <th>03 year</th>\n      <td>28.211778</td>\n      <td>30.909766</td>\n      <td>12.661274</td>\n      <td>28.832485</td>\n      <td>30.941731</td>\n      <td>15.592686</td>\n    </tr>\n    <tr>\n      <th>05 year</th>\n      <td>26.855503</td>\n      <td>29.368381</td>\n      <td>13.55669</td>\n      <td>26.745431</td>\n      <td>29.048981</td>\n      <td>14.890004</td>\n    </tr>\n    <tr>\n      <th>10 year</th>\n      <td>23.905716</td>\n      <td>26.472529</td>\n      <td>13.808193</td>\n      <td>25.596598</td>\n      <td>27.367737</td>\n      <td>14.615554</td>\n    </tr>\n    <tr>\n      <th>max year</th>\n      <td>24.39037</td>\n      <td>26.74428</td>\n      <td>13.306316</td>\n      <td>28.692807</td>\n      <td>30.521913</td>\n      <td>16.097081</td>\n    </tr>\n    <tr>\n      <th rowspan=\"6\" valign=\"top\">MA</th>\n      <th>00 year</th>\n      <td>14.727428</td>\n      <td>15.700097</td>\n      <td>47.715169</td>\n      <td>16.579066</td>\n      <td>17.784498</td>\n      <td>54.987126</td>\n    </tr>\n    <tr>\n      <th>01 year</th>\n      <td>12.926997</td>\n      <td>13.919971</td>\n      <td>40.080166</td>\n      <td>17.22495</td>\n      <td>18.276286</td>\n      <td>57.155822</td>\n    </tr>\n    <tr>\n      <th>03 year</th>\n      <td>23.193162</td>\n      <td>24.636496</td>\n      <td>80.37582</td>\n      <td>24.199841</td>\n      <td>25.150926</td>\n      <td>72.784673</td>\n    </tr>\n    <tr>\n      <th>05 year</th>\n      <td>21.604406</td>\n      <td>22.804509</td>\n      <td>66.841078</td>\n      <td>22.297518</td>\n      <td>23.48909</td>\n      <td>66.274905</td>\n    </tr>\n    <tr>\n      <th>10 year</th>\n      <td>19.646625</td>\n      <td>21.148665</td>\n      <td>49.797586</td>\n      <td>22.090586</td>\n      <td>22.985222</td>\n      <td>52.211333</td>\n    </tr>\n    <tr>\n      <th>max year</th>\n      <td>19.789062</td>\n      <td>20.992645</td>\n      <td>42.444991</td>\n      <td>25.918708</td>\n      <td>27.05429</td>\n      <td>56.80704</td>\n    </tr>\n    <tr>\n      <th rowspan=\"6\" valign=\"top\">V</th>\n      <th>00 year</th>\n      <td>16.154152</td>\n      <td>17.483501</td>\n      <td>40.129822</td>\n      <td>17.48998</td>\n      <td>18.92314</td>\n      <td>49.562352</td>\n    </tr>\n    <tr>\n      <th>01 year</th>\n      <td>13.789804</td>\n      <td>14.99848</td>\n      <td>35.879733</td>\n      <td>17.875404</td>\n      <td>19.089353</td>\n      <td>51.817934</td>\n    </tr>\n    <tr>\n      <th>03 year</th>\n      <td>23.402747</td>\n      <td>24.898478</td>\n      <td>79.4475</td>\n      <td>24.391507</td>\n      <td>25.390509</td>\n      <td>73.794397</td>\n    </tr>\n    <tr>\n      <th>05 year</th>\n      <td>21.725406</td>\n      <td>22.95576</td>\n      <td>66.978948</td>\n      <td>22.443606</td>\n      <td>23.671699</td>\n      <td>65.213745</td>\n    </tr>\n    <tr>\n      <th>10 year</th>\n      <td>19.201988</td>\n      <td>20.592868</td>\n      <td>52.797491</td>\n      <td>21.775237</td>\n      <td>22.591035</td>\n      <td>54.639783</td>\n    </tr>\n    <tr>\n      <th>max year</th>\n      <td>19.981178</td>\n      <td>21.23279</td>\n      <td>53.889269</td>\n      <td>22.222293</td>\n      <td>22.433771</td>\n      <td>63.1898</td>\n    </tr>\n  </tbody>\n</table>\n</div>"
     },
     "execution_count": 71,
     "metadata": {},
     "output_type": "execute_result"
    }
   ],
   "source": [
    "c = pn.Comps(config)\n",
    "c.run()\n",
    "c.comp_ratios"
   ],
   "metadata": {
    "collapsed": false
   }
  },
  {
   "cell_type": "code",
   "execution_count": null,
   "outputs": [],
   "source": [
    "c.calc_fair_value()"
   ],
   "metadata": {
    "collapsed": false
   }
  }
 ],
 "metadata": {
  "kernelspec": {
   "display_name": "Python 3",
   "language": "python",
   "name": "python3"
  },
  "language_info": {
   "codemirror_mode": {
    "name": "ipython",
    "version": 2
   },
   "file_extension": ".py",
   "mimetype": "text/x-python",
   "name": "python",
   "nbconvert_exporter": "python",
   "pygments_lexer": "ipython2",
   "version": "2.7.6"
  }
 },
 "nbformat": 4,
 "nbformat_minor": 0
}
