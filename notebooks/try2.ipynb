{
 "cells": [
  {
   "cell_type": "markdown",
   "source": [
    "## Setup\n",
    "Install accompanying pinon library. It is better to install in dev mode in the conda environment with `pip install -e .` Jupyter server must restart to see changes to conda environment.\n",
    "Auto reload the pinon module.  Other imports may be ignored for auto reload e.g.  `%aimport -simfin`. Note use of option 2 for auto reload and excluding other modules, rather than option 1 and including only reloadable modules.  This is because option 1 does not work correctly with aliased imports."
   ],
   "metadata": {
    "collapsed": false
   }
  },
  {
   "cell_type": "code",
   "execution_count": null,
   "metadata": {
    "collapsed": true
   },
   "outputs": [],
   "source": [
    "# !pip install -e ..\n",
    "\n",
    "%load_ext autoreload\n",
    "%autoreload 2\n",
    "%aimport -pandas\n",
    "%aimport -simfin\n",
    "%aimport -os\n",
    "\n",
    "%aimport pinon\n",
    "\n",
    "%matplotlib inline\n",
    "\n",
    "# imports\n",
    "import pandas as pd\n",
    "import os\n",
    "\n",
    "import pinon as pn\n",
    "import pinon.names as pn_cols\n",
    "import simfin as sf\n",
    "import simfin.names as sf_cols  # column name shortcuts\n"
   ]
  },
  {
   "cell_type": "code",
   "execution_count": null,
   "outputs": [],
   "source": [
    "config = pn.Config('master', 'V', 10)"
   ],
   "metadata": {
    "collapsed": false
   }
  },
  {
   "cell_type": "code",
   "execution_count": null,
   "outputs": [],
   "source": [],
   "metadata": {
    "collapsed": false
   }
  },
  {
   "cell_type": "code",
   "execution_count": null,
   "outputs": [],
   "source": [
    "tr = pn.Multiples('V', config)\n",
    "tr.init_dataframe()\n",
    "tr.calc_quarterly_pe()"
   ],
   "metadata": {
    "collapsed": false
   }
  },
  {
   "cell_type": "code",
   "execution_count": null,
   "outputs": [],
   "source": [
    "tr = pn.TradingRatios('V', config)\n",
    "ratios = tr.calc_quarterly_pe()\n",
    "pd.concat([ratios], keys=['V'], names=[sf_cols.TICKER])"
   ],
   "metadata": {
    "collapsed": false
   }
  },
  {
   "cell_type": "markdown",
   "source": [
    "Various experiments below"
   ],
   "metadata": {
    "collapsed": false
   }
  },
  {
   "cell_type": "code",
   "execution_count": null,
   "outputs": [],
   "source": [
    "dp = pn.DailyPrices()\n",
    "spr = dp.get_downsampled_share_price_ratios('V')\n",
    "pr = dp.get_downsampled_prices('V')\n",
    "p = dp.get_daily_prices('V')\n",
    "ratios = dp.get_daily_share_price_ratios('V')\n",
    "ratios.loc['2022-10-1':'2022-12-30', sf_cols.PE_QUARTERLY]"
   ],
   "metadata": {
    "collapsed": false
   }
  },
  {
   "cell_type": "code",
   "execution_count": null,
   "outputs": [],
   "source": [
    "fund = pn.Fundamentals()\n",
    "dr = fund.get_quarterly_derived_ratios('V')"
   ],
   "metadata": {
    "collapsed": false
   }
  },
  {
   "cell_type": "code",
   "execution_count": null,
   "outputs": [],
   "source": [
    "comp = pd.DataFrame(index = pe.index, columns=['Closing Price', 'Quarterly EPS', 'SimFin Quarterly EPS', 'PE TTM', 'SimFin PE TTM', 'Qtr PE', 'SimFin Qtr PE'])\n",
    "comp['Closing Price'] = pr.loc[:, sf_cols.CLOSE]\n",
    "comp['Quarterly EPS'] = pe.loc[:, 'Quarterly EPS']\n",
    "comp['SimFin Quarterly EPS'] = dr.loc[:, sf_cols.EPS_DILUTED]\n",
    "comp['PE TTM'] = pe.loc[:, 'TTM PE Ratio']\n",
    "comp['SimFin PE TTM'] = spr.loc[:, sf_cols.PE_TTM]\n",
    "comp['Qtr PE'] = pe.loc[:, pn_cols.QTR_PE_RATIO]\n",
    "comp['SimFin Qtr PE'] = spr.loc[:, sf_cols.PE_QUARTERLY]"
   ],
   "metadata": {
    "collapsed": false
   }
  },
  {
   "cell_type": "code",
   "execution_count": null,
   "outputs": [],
   "source": [
    "p = dp.get_daily_prices('V')\n",
    "inc1 = fund.get_quarterly_income_statement('V')\n",
    "re_inc1 = inc1.asfreq(freq='D', method='ffill')\n",
    "pe_x = pd.DataFrame(columns=['QTR_EPS', 'QTR_PE'])\n",
    "# pe = p.loc[:,sf_cols.CLOSE] / re_inc1.loc[:, sf_cols.NET_INCOME] / re_inc1.loc[:, sf_cols.SHARES_DILUTED]\n",
    "pe_x['QTR_EPS'] = re_inc1.loc[:, sf_cols.NET_INCOME] / re_inc1.loc[:, sf_cols.SHARES_DILUTED]\n",
    "pe_x['QTR_PE'] = p[sf_cols.CLOSE] / pe_x['QTR_EPS']\n",
    "pe_x.loc['2022-07-01':'2022-09-30', 'QTR_PE'].mean()\n",
    "# p.loc['2022-10-01':'2022-12-30', sf_cols.CLOSE].mean()"
   ],
   "metadata": {
    "collapsed": false
   }
  }
 ],
 "metadata": {
  "kernelspec": {
   "display_name": "Python 3",
   "language": "python",
   "name": "python3"
  },
  "language_info": {
   "codemirror_mode": {
    "name": "ipython",
    "version": 2
   },
   "file_extension": ".py",
   "mimetype": "text/x-python",
   "name": "python",
   "nbconvert_exporter": "python",
   "pygments_lexer": "ipython2",
   "version": "2.7.6"
  }
 },
 "nbformat": 4,
 "nbformat_minor": 0
}
