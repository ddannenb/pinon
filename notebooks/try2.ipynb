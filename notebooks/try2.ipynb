{
 "cells": [
  {
   "cell_type": "markdown",
   "source": [
    "## Setup\n",
    "Install accompanying pinon library. It is better to install in dev mode in the conda environment with `pip install -e .` Jupyter server must restart to see changes to conda environment.\n",
    "Auto reload the pinon module.  Other imports may be ignored for auto reload e.g.  `%aimport -simfin`. Note use of option 2 for auto reload and excluding other modules, rather than option 1 and including only reloadable modules.  This is because option 1 does not work correctly with aliased imports."
   ],
   "metadata": {
    "collapsed": false
   }
  },
  {
   "cell_type": "code",
   "execution_count": 125,
   "outputs": [
    {
     "name": "stdout",
     "output_type": "stream",
     "text": [
      "The autoreload extension is already loaded. To reload it, use:\n",
      "  %reload_ext autoreload\n"
     ]
    }
   ],
   "source": [
    "# !pip install -e ..\n",
    "\n",
    "%load_ext autoreload\n",
    "%autoreload 2\n",
    "%aimport -pandas\n",
    "%aimport -simfin\n",
    "%aimport -os\n",
    "\n",
    "%aimport pinon\n",
    "\n",
    "%matplotlib inline\n",
    "\n",
    "# imports\n",
    "import pandas as pd\n",
    "import seaborn as sns\n",
    "import os\n",
    "\n",
    "import pinon as pn\n",
    "import pinon.names as pn_cols\n",
    "import simfin as sf\n",
    "import simfin.names as sf_cols  # column name shortcuts"
   ],
   "metadata": {
    "collapsed": false
   }
  },
  {
   "cell_type": "code",
   "execution_count": 126,
   "outputs": [
    {
     "name": "stdout",
     "output_type": "stream",
     "text": [
      "Config file found at: /Users/daved/Dev/pinon/config/master.xlsx\n",
      "Simfin data directory: /Users/daved/Dev/pinon/simfin_data\n",
      "Dataset \"us-companies\" on disk (0 days old).\n",
      "- Downloading ... 100.0%\n",
      "- Extracting zip-file ... Done!\n",
      "- Loading from disk ... Done!\n",
      "Dataset \"us-income-quarterly\" on disk (0 days old).\n"
     ]
    },
    {
     "name": "stderr",
     "output_type": "stream",
     "text": [
      "/Users/daved/opt/anaconda3/envs/py3_10_8_pinon/lib/python3.10/site-packages/simfin/load.py:144: FutureWarning: The argument 'date_parser' is deprecated and will be removed in a future version. Please use 'date_format' instead, or read your data in as 'object' dtype and then call 'to_datetime'.\n",
      "  df = pd.read_csv(path, sep=';', header=0,\n"
     ]
    },
    {
     "name": "stdout",
     "output_type": "stream",
     "text": [
      "- Downloading ... 100.0%\n",
      "- Extracting zip-file ... Done!\n",
      "- Loading from disk ... "
     ]
    },
    {
     "name": "stderr",
     "output_type": "stream",
     "text": [
      "/Users/daved/opt/anaconda3/envs/py3_10_8_pinon/lib/python3.10/site-packages/simfin/load.py:144: FutureWarning: The argument 'date_parser' is deprecated and will be removed in a future version. Please use 'date_format' instead, or read your data in as 'object' dtype and then call 'to_datetime'.\n",
      "  df = pd.read_csv(path, sep=';', header=0,\n"
     ]
    },
    {
     "name": "stdout",
     "output_type": "stream",
     "text": [
      "Done!\n",
      "Dataset \"us-income-banks-quarterly\" on disk (0 days old).\n",
      "- Downloading ... 100.0%\n",
      "- Extracting zip-file ... Done!\n",
      "- Loading from disk ... Done!\n",
      "Dataset \"us-income-insurance-quarterly\" on disk (0 days old).\n"
     ]
    },
    {
     "name": "stderr",
     "output_type": "stream",
     "text": [
      "/Users/daved/opt/anaconda3/envs/py3_10_8_pinon/lib/python3.10/site-packages/simfin/load.py:144: FutureWarning: The argument 'date_parser' is deprecated and will be removed in a future version. Please use 'date_format' instead, or read your data in as 'object' dtype and then call 'to_datetime'.\n",
      "  df = pd.read_csv(path, sep=';', header=0,\n"
     ]
    },
    {
     "name": "stdout",
     "output_type": "stream",
     "text": [
      "- Downloading ... 100.0%\n",
      "- Extracting zip-file ... Done!\n",
      "- Loading from disk ... Done!\n",
      "Dataset \"us-derived-quarterly\" on disk (0 days old).\n"
     ]
    },
    {
     "name": "stderr",
     "output_type": "stream",
     "text": [
      "/Users/daved/opt/anaconda3/envs/py3_10_8_pinon/lib/python3.10/site-packages/simfin/load.py:144: FutureWarning: The argument 'date_parser' is deprecated and will be removed in a future version. Please use 'date_format' instead, or read your data in as 'object' dtype and then call 'to_datetime'.\n",
      "  df = pd.read_csv(path, sep=';', header=0,\n"
     ]
    },
    {
     "name": "stdout",
     "output_type": "stream",
     "text": [
      "- Downloading ... 100.0%\n",
      "- Extracting zip-file ... Done!\n",
      "- Loading from disk ... "
     ]
    },
    {
     "name": "stderr",
     "output_type": "stream",
     "text": [
      "/Users/daved/opt/anaconda3/envs/py3_10_8_pinon/lib/python3.10/site-packages/simfin/load.py:144: FutureWarning: The argument 'date_parser' is deprecated and will be removed in a future version. Please use 'date_format' instead, or read your data in as 'object' dtype and then call 'to_datetime'.\n",
      "  df = pd.read_csv(path, sep=';', header=0,\n"
     ]
    },
    {
     "name": "stdout",
     "output_type": "stream",
     "text": [
      "Done!\n",
      "Dataset \"us-derived-banks-quarterly\" on disk (0 days old).\n",
      "- Downloading ... 100.0%\n",
      "- Extracting zip-file ... Done!\n",
      "- Loading from disk ... Done!\n",
      "Dataset \"us-derived-insurance-quarterly\" on disk (0 days old).\n"
     ]
    },
    {
     "name": "stderr",
     "output_type": "stream",
     "text": [
      "/Users/daved/opt/anaconda3/envs/py3_10_8_pinon/lib/python3.10/site-packages/simfin/load.py:144: FutureWarning: The argument 'date_parser' is deprecated and will be removed in a future version. Please use 'date_format' instead, or read your data in as 'object' dtype and then call 'to_datetime'.\n",
      "  df = pd.read_csv(path, sep=';', header=0,\n"
     ]
    },
    {
     "name": "stdout",
     "output_type": "stream",
     "text": [
      "- Downloading ... 100.0%\n",
      "- Extracting zip-file ... Done!\n",
      "- Loading from disk ... Done!\n",
      "There is an error in the supplied ticker symbol EEFT in Company List of sheet: V of config file: /Users/daved/Dev/pinon/config/master.xlsx. Company uses non stardard quarterly reporting date not currently supported. Company was dropped from the list.\n",
      "There is an error in the supplied ticker symbol PAGS in Company List of sheet: V of config file: /Users/daved/Dev/pinon/config/master.xlsx. Company was not found and was dropped from the list.\n"
     ]
    },
    {
     "name": "stderr",
     "output_type": "stream",
     "text": [
      "/Users/daved/opt/anaconda3/envs/py3_10_8_pinon/lib/python3.10/site-packages/simfin/load.py:144: FutureWarning: The argument 'date_parser' is deprecated and will be removed in a future version. Please use 'date_format' instead, or read your data in as 'object' dtype and then call 'to_datetime'.\n",
      "  df = pd.read_csv(path, sep=';', header=0,\n"
     ]
    }
   ],
   "source": [
    "config = pn.Config('master', 'V', 15)"
   ],
   "metadata": {
    "collapsed": false
   }
  },
  {
   "cell_type": "code",
   "execution_count": 128,
   "outputs": [
    {
     "name": "stdout",
     "output_type": "stream",
     "text": [
      "Break\n",
      "Dataset \"us-derived-shareprices-daily\" on disk (1 days old).\n",
      "- Downloading ... 100.0%\n",
      "- Extracting zip-file ... Done!\n",
      "- Loading from disk ... "
     ]
    },
    {
     "name": "stderr",
     "output_type": "stream",
     "text": [
      "/Users/daved/opt/anaconda3/envs/py3_10_8_pinon/lib/python3.10/site-packages/simfin/load.py:144: FutureWarning: The argument 'date_parser' is deprecated and will be removed in a future version. Please use 'date_format' instead, or read your data in as 'object' dtype and then call 'to_datetime'.\n",
      "  df = pd.read_csv(path, sep=';', header=0,\n"
     ]
    },
    {
     "name": "stdout",
     "output_type": "stream",
     "text": [
      "Done!\n"
     ]
    },
    {
     "data": {
      "text/plain": "                            Quarterly PE Ratio                    \n                                        Target Unweighted Peers   \nTarget Ticker Time Averaged                                       \nAXP           00 year                18.041346        17.729871  \\\n              01 year                17.469983        15.390178   \n              03 year                21.125843        26.035923   \n              05 year                20.612976        24.191899   \n              10 year                16.768213        22.409743   \n              max year                16.04441        22.964108   \nDFS           00 year                 7.184466        19.280854   \n              01 year                 7.530645        16.810084   \n              03 year                 5.603806        28.253357   \n              05 year                 2.207315        26.821279   \n              10 year                 6.609198        23.861031   \n              max year                6.162042        24.375875   \nMA            00 year                 37.34571        14.972105   \n              01 year                34.365992        12.976463   \n              03 year                40.734118        23.234741   \n              05 year                38.964997        21.570182   \n              10 year                36.422838        19.601939   \n              max year               38.371198        19.774567   \nV             00 year                27.358643        16.398828   \n              01 year                28.326344         13.83927   \n              03 year                 39.26702        23.444326   \n              05 year                38.117995        21.691182   \n              10 year                39.535299        19.157302   \n              max year               37.026387        19.966683   \n\n                                                                      \n                            Weighted Peers Weighted, Adjusted Peers   \nTarget Ticker Time Averaged                                           \nAXP           00 year            19.330812                 19.20489  \\\n              01 year            16.974215                16.863644   \n              03 year            28.169158                27.985663   \n              05 year            26.055988                25.886258   \n              10 year            24.624905                24.464497   \n              max year             24.9687                24.806053   \nDFS           00 year             21.26954                10.582934   \n              01 year            18.749096                 9.328855   \n              03 year            30.940951                15.395069   \n              05 year            29.342713                14.599845   \n              10 year            26.439015                13.155073   \n              max year           26.733408                13.301552   \nMA            00 year            15.883604                32.259779   \n              01 year             13.95707                28.346966   \n              03 year            24.667681                50.100337   \n              05 year            22.778841                46.264083   \n              10 year             21.11515                42.885108   \n              max year           20.981773                42.614218   \nV             00 year            17.667009                44.817105   \n              01 year            15.035579                38.141777   \n              03 year            24.929662                63.240773   \n              05 year            22.930092                58.168326   \n              10 year            20.559354                52.154313   \n              max year           21.221918                53.835086   \n\n                            TTM PE Ratio                                   \n                                  Target Unweighted Peers Weighted Peers   \nTarget Ticker Time Averaged                                                \nAXP           00 year           18.08749        19.386473      21.195144  \\\n              01 year          16.124483        19.714278      21.430966   \n              03 year          18.771925        27.373368      29.195263   \n              05 year          18.057823         25.56656       27.55858   \n              10 year          17.137244        24.535713      26.082182   \n              max year         16.278721        26.018436      28.054929   \nDFS           00 year           7.643412        20.878484      23.060158   \n              01 year           7.064678        21.008536      23.048789   \n              03 year           9.642101        28.677628      30.825588   \n              05 year           9.570356        26.779055      29.074199   \n              10 year          10.278772        25.515495       27.30691   \n              max year          9.821838        26.940848      29.207944   \nMA            00 year          36.358757        16.776292      17.932417   \n              01 year          34.152063        17.138909      18.211756   \n              03 year          42.070607        24.044985      25.034784   \n              05 year          40.705747        22.331142      23.514308   \n              10 year          34.820859        22.009483      22.924394   \n              max year         29.240527         24.16675      25.740321   \nV             00 year          29.982362        17.687205      19.071059   \n              01 year          29.598888        17.789363      19.024823   \n              03 year          40.728946        24.236651      25.274366   \n              05 year          39.683133         22.47723      23.696917   \n              10 year          37.028304        21.694133      22.530208   \n              max year         55.115433        20.470334      21.119802   \n\n                                                      \n                            Weighted, Adjusted Peers  \nTarget Ticker Time Averaged                           \nAXP           00 year                      21.308974  \n              01 year                      21.546063  \n              03 year                      29.352059  \n              05 year                      27.706586  \n              10 year                      26.222259  \n              max year                     28.205601  \nDFS           00 year                      12.183397  \n              01 year                       12.17739  \n              03 year                      16.286115  \n              05 year                      15.360801  \n              10 year                      14.427087  \n              max year                     15.431463  \nMA            00 year                      37.869509  \n              01 year                      38.459413  \n              03 year                      52.868219  \n              05 year                      49.657291  \n              10 year                      48.411518  \n              max year                     54.358165  \nV             00 year                      53.759153  \n              01 year                      53.628816  \n              03 year                      71.245571  \n              05 year                      66.798921  \n              10 year                      63.510099  \n              max year                     59.534325  ",
      "text/html": "<div>\n<style scoped>\n    .dataframe tbody tr th:only-of-type {\n        vertical-align: middle;\n    }\n\n    .dataframe tbody tr th {\n        vertical-align: top;\n    }\n\n    .dataframe thead tr th {\n        text-align: left;\n    }\n\n    .dataframe thead tr:last-of-type th {\n        text-align: right;\n    }\n</style>\n<table border=\"1\" class=\"dataframe\">\n  <thead>\n    <tr>\n      <th></th>\n      <th></th>\n      <th colspan=\"4\" halign=\"left\">Quarterly PE Ratio</th>\n      <th colspan=\"4\" halign=\"left\">TTM PE Ratio</th>\n    </tr>\n    <tr>\n      <th></th>\n      <th></th>\n      <th>Target</th>\n      <th>Unweighted Peers</th>\n      <th>Weighted Peers</th>\n      <th>Weighted, Adjusted Peers</th>\n      <th>Target</th>\n      <th>Unweighted Peers</th>\n      <th>Weighted Peers</th>\n      <th>Weighted, Adjusted Peers</th>\n    </tr>\n    <tr>\n      <th>Target Ticker</th>\n      <th>Time Averaged</th>\n      <th></th>\n      <th></th>\n      <th></th>\n      <th></th>\n      <th></th>\n      <th></th>\n      <th></th>\n      <th></th>\n    </tr>\n  </thead>\n  <tbody>\n    <tr>\n      <th rowspan=\"6\" valign=\"top\">AXP</th>\n      <th>00 year</th>\n      <td>18.041346</td>\n      <td>17.729871</td>\n      <td>19.330812</td>\n      <td>19.20489</td>\n      <td>18.08749</td>\n      <td>19.386473</td>\n      <td>21.195144</td>\n      <td>21.308974</td>\n    </tr>\n    <tr>\n      <th>01 year</th>\n      <td>17.469983</td>\n      <td>15.390178</td>\n      <td>16.974215</td>\n      <td>16.863644</td>\n      <td>16.124483</td>\n      <td>19.714278</td>\n      <td>21.430966</td>\n      <td>21.546063</td>\n    </tr>\n    <tr>\n      <th>03 year</th>\n      <td>21.125843</td>\n      <td>26.035923</td>\n      <td>28.169158</td>\n      <td>27.985663</td>\n      <td>18.771925</td>\n      <td>27.373368</td>\n      <td>29.195263</td>\n      <td>29.352059</td>\n    </tr>\n    <tr>\n      <th>05 year</th>\n      <td>20.612976</td>\n      <td>24.191899</td>\n      <td>26.055988</td>\n      <td>25.886258</td>\n      <td>18.057823</td>\n      <td>25.56656</td>\n      <td>27.55858</td>\n      <td>27.706586</td>\n    </tr>\n    <tr>\n      <th>10 year</th>\n      <td>16.768213</td>\n      <td>22.409743</td>\n      <td>24.624905</td>\n      <td>24.464497</td>\n      <td>17.137244</td>\n      <td>24.535713</td>\n      <td>26.082182</td>\n      <td>26.222259</td>\n    </tr>\n    <tr>\n      <th>max year</th>\n      <td>16.04441</td>\n      <td>22.964108</td>\n      <td>24.9687</td>\n      <td>24.806053</td>\n      <td>16.278721</td>\n      <td>26.018436</td>\n      <td>28.054929</td>\n      <td>28.205601</td>\n    </tr>\n    <tr>\n      <th rowspan=\"6\" valign=\"top\">DFS</th>\n      <th>00 year</th>\n      <td>7.184466</td>\n      <td>19.280854</td>\n      <td>21.26954</td>\n      <td>10.582934</td>\n      <td>7.643412</td>\n      <td>20.878484</td>\n      <td>23.060158</td>\n      <td>12.183397</td>\n    </tr>\n    <tr>\n      <th>01 year</th>\n      <td>7.530645</td>\n      <td>16.810084</td>\n      <td>18.749096</td>\n      <td>9.328855</td>\n      <td>7.064678</td>\n      <td>21.008536</td>\n      <td>23.048789</td>\n      <td>12.17739</td>\n    </tr>\n    <tr>\n      <th>03 year</th>\n      <td>5.603806</td>\n      <td>28.253357</td>\n      <td>30.940951</td>\n      <td>15.395069</td>\n      <td>9.642101</td>\n      <td>28.677628</td>\n      <td>30.825588</td>\n      <td>16.286115</td>\n    </tr>\n    <tr>\n      <th>05 year</th>\n      <td>2.207315</td>\n      <td>26.821279</td>\n      <td>29.342713</td>\n      <td>14.599845</td>\n      <td>9.570356</td>\n      <td>26.779055</td>\n      <td>29.074199</td>\n      <td>15.360801</td>\n    </tr>\n    <tr>\n      <th>10 year</th>\n      <td>6.609198</td>\n      <td>23.861031</td>\n      <td>26.439015</td>\n      <td>13.155073</td>\n      <td>10.278772</td>\n      <td>25.515495</td>\n      <td>27.30691</td>\n      <td>14.427087</td>\n    </tr>\n    <tr>\n      <th>max year</th>\n      <td>6.162042</td>\n      <td>24.375875</td>\n      <td>26.733408</td>\n      <td>13.301552</td>\n      <td>9.821838</td>\n      <td>26.940848</td>\n      <td>29.207944</td>\n      <td>15.431463</td>\n    </tr>\n    <tr>\n      <th rowspan=\"6\" valign=\"top\">MA</th>\n      <th>00 year</th>\n      <td>37.34571</td>\n      <td>14.972105</td>\n      <td>15.883604</td>\n      <td>32.259779</td>\n      <td>36.358757</td>\n      <td>16.776292</td>\n      <td>17.932417</td>\n      <td>37.869509</td>\n    </tr>\n    <tr>\n      <th>01 year</th>\n      <td>34.365992</td>\n      <td>12.976463</td>\n      <td>13.95707</td>\n      <td>28.346966</td>\n      <td>34.152063</td>\n      <td>17.138909</td>\n      <td>18.211756</td>\n      <td>38.459413</td>\n    </tr>\n    <tr>\n      <th>03 year</th>\n      <td>40.734118</td>\n      <td>23.234741</td>\n      <td>24.667681</td>\n      <td>50.100337</td>\n      <td>42.070607</td>\n      <td>24.044985</td>\n      <td>25.034784</td>\n      <td>52.868219</td>\n    </tr>\n    <tr>\n      <th>05 year</th>\n      <td>38.964997</td>\n      <td>21.570182</td>\n      <td>22.778841</td>\n      <td>46.264083</td>\n      <td>40.705747</td>\n      <td>22.331142</td>\n      <td>23.514308</td>\n      <td>49.657291</td>\n    </tr>\n    <tr>\n      <th>10 year</th>\n      <td>36.422838</td>\n      <td>19.601939</td>\n      <td>21.11515</td>\n      <td>42.885108</td>\n      <td>34.820859</td>\n      <td>22.009483</td>\n      <td>22.924394</td>\n      <td>48.411518</td>\n    </tr>\n    <tr>\n      <th>max year</th>\n      <td>38.371198</td>\n      <td>19.774567</td>\n      <td>20.981773</td>\n      <td>42.614218</td>\n      <td>29.240527</td>\n      <td>24.16675</td>\n      <td>25.740321</td>\n      <td>54.358165</td>\n    </tr>\n    <tr>\n      <th rowspan=\"6\" valign=\"top\">V</th>\n      <th>00 year</th>\n      <td>27.358643</td>\n      <td>16.398828</td>\n      <td>17.667009</td>\n      <td>44.817105</td>\n      <td>29.982362</td>\n      <td>17.687205</td>\n      <td>19.071059</td>\n      <td>53.759153</td>\n    </tr>\n    <tr>\n      <th>01 year</th>\n      <td>28.326344</td>\n      <td>13.83927</td>\n      <td>15.035579</td>\n      <td>38.141777</td>\n      <td>29.598888</td>\n      <td>17.789363</td>\n      <td>19.024823</td>\n      <td>53.628816</td>\n    </tr>\n    <tr>\n      <th>03 year</th>\n      <td>39.26702</td>\n      <td>23.444326</td>\n      <td>24.929662</td>\n      <td>63.240773</td>\n      <td>40.728946</td>\n      <td>24.236651</td>\n      <td>25.274366</td>\n      <td>71.245571</td>\n    </tr>\n    <tr>\n      <th>05 year</th>\n      <td>38.117995</td>\n      <td>21.691182</td>\n      <td>22.930092</td>\n      <td>58.168326</td>\n      <td>39.683133</td>\n      <td>22.47723</td>\n      <td>23.696917</td>\n      <td>66.798921</td>\n    </tr>\n    <tr>\n      <th>10 year</th>\n      <td>39.535299</td>\n      <td>19.157302</td>\n      <td>20.559354</td>\n      <td>52.154313</td>\n      <td>37.028304</td>\n      <td>21.694133</td>\n      <td>22.530208</td>\n      <td>63.510099</td>\n    </tr>\n    <tr>\n      <th>max year</th>\n      <td>37.026387</td>\n      <td>19.966683</td>\n      <td>21.221918</td>\n      <td>53.835086</td>\n      <td>55.115433</td>\n      <td>20.470334</td>\n      <td>21.119802</td>\n      <td>59.534325</td>\n    </tr>\n  </tbody>\n</table>\n</div>"
     },
     "execution_count": 128,
     "metadata": {},
     "output_type": "execute_result"
    }
   ],
   "source": [
    "c = pn.Comps(config)\n",
    "c.run()\n",
    "c.comp_ratios"
   ],
   "metadata": {
    "collapsed": false
   }
  },
  {
   "cell_type": "code",
   "execution_count": null,
   "outputs": [],
   "source": [
    "c.target_ks.loc['AXP']"
   ],
   "metadata": {
    "collapsed": false
   }
  },
  {
   "cell_type": "code",
   "execution_count": null,
   "outputs": [],
   "source": [
    "c.multiples.price_ratios.loc['AXP']"
   ],
   "metadata": {
    "collapsed": false
   }
  },
  {
   "cell_type": "code",
   "execution_count": 136,
   "outputs": [
    {
     "name": "stdout",
     "output_type": "stream",
     "text": [
      "Break\n",
      "2023-03-31 00:00:00\n",
      "2023-06-30 00:00:00\n",
      "2023-09-30 00:00:00\n",
      "2023-12-31 00:00:00\n",
      "2024-03-31 00:00:00\n",
      "2024-06-30 00:00:00\n",
      "2024-09-30 00:00:00\n",
      "2024-12-31 00:00:00\n",
      "2023-03-31 00:00:00\n",
      "2023-06-30 00:00:00\n",
      "2023-09-30 00:00:00\n",
      "2023-12-31 00:00:00\n",
      "2024-03-31 00:00:00\n",
      "2024-06-30 00:00:00\n",
      "2024-09-30 00:00:00\n",
      "2024-12-31 00:00:00\n",
      "2023-03-31 00:00:00\n",
      "2023-06-30 00:00:00\n",
      "2023-09-30 00:00:00\n",
      "2023-12-31 00:00:00\n",
      "2024-03-31 00:00:00\n",
      "2024-06-30 00:00:00\n",
      "2024-09-30 00:00:00\n",
      "2024-12-31 00:00:00\n",
      "2023-03-31 00:00:00\n",
      "2023-06-30 00:00:00\n",
      "2023-09-30 00:00:00\n",
      "2023-12-31 00:00:00\n",
      "2024-03-31 00:00:00\n",
      "2024-06-30 00:00:00\n",
      "2024-09-30 00:00:00\n",
      "2024-12-31 00:00:00\n"
     ]
    },
    {
     "data": {
      "text/plain": "                            FV on Quarterly PE Ratio                         \n                                          2023-03-31 2023-06-30 2023-09-30   \nTarget Ticker Time Averaged                                                  \nAXP           00 year                      176.58775        NaN        NaN  \\\n              01 year                     155.060137        NaN        NaN   \n              03 year                       257.3264        NaN        NaN   \n              05 year                     238.022506        NaN        NaN   \n              10 year                     224.949502        NaN        NaN   \n              max year                    228.090083        NaN        NaN   \nDFS           00 year                     157.693798        NaN        NaN   \n              01 year                     139.007056        NaN        NaN   \n              03 year                     229.398281        NaN        NaN   \n              05 year                     217.548842        NaN        NaN   \n              10 year                     196.020626        NaN        NaN   \n              max year                    198.203281        NaN        NaN   \nMA            00 year                     313.760401        NaN        NaN   \n              01 year                     275.704172        NaN        NaN   \n              03 year                     487.278662        NaN        NaN   \n              05 year                     449.967048        NaN        NaN   \n              10 year                     417.102946        NaN        NaN   \n              max year                    414.468254        NaN        NaN   \nV             00 year                     364.618091        NaN        NaN   \n              01 year                     310.309687        NaN        NaN   \n              03 year                     514.507348        NaN        NaN   \n              05 year                     473.239493        NaN        NaN   \n              10 year                     424.311347        NaN        NaN   \n              max year                    437.985591        NaN        NaN   \n\n                                                                          \n                            2023-12-31 2024-03-31 2024-06-30 2024-09-30   \nTarget Ticker Time Averaged                                               \nAXP           00 year              NaN        NaN        NaN        NaN  \\\n              01 year              NaN        NaN        NaN        NaN   \n              03 year              NaN        NaN        NaN        NaN   \n              05 year              NaN        NaN        NaN        NaN   \n              10 year              NaN        NaN        NaN        NaN   \n              max year             NaN        NaN        NaN        NaN   \nDFS           00 year              NaN        NaN        NaN        NaN   \n              01 year              NaN        NaN        NaN        NaN   \n              03 year              NaN        NaN        NaN        NaN   \n              05 year              NaN        NaN        NaN        NaN   \n              10 year              NaN        NaN        NaN        NaN   \n              max year             NaN        NaN        NaN        NaN   \nMA            00 year              NaN        NaN        NaN        NaN   \n              01 year              NaN        NaN        NaN        NaN   \n              03 year              NaN        NaN        NaN        NaN   \n              05 year              NaN        NaN        NaN        NaN   \n              10 year              NaN        NaN        NaN        NaN   \n              max year             NaN        NaN        NaN        NaN   \nV             00 year              NaN        NaN        NaN        NaN   \n              01 year              NaN        NaN        NaN        NaN   \n              03 year              NaN        NaN        NaN        NaN   \n              05 year              NaN        NaN        NaN        NaN   \n              10 year              NaN        NaN        NaN        NaN   \n              max year             NaN        NaN        NaN        NaN   \n\n                                       FV on TTM PE Ratio              \n                            2024-12-31         2023-03-31 2023-06-30   \nTarget Ticker Time Averaged                                            \nAXP           00 year              NaN         195.434805        NaN  \\\n              01 year              NaN         197.609263        NaN   \n              03 year              NaN         269.201784        NaN   \n              05 year              NaN         254.110362        NaN   \n              10 year              NaN         240.496894        NaN   \n              max year             NaN         258.687068        NaN   \nDFS           00 year              NaN         170.641298        NaN   \n              01 year              NaN          170.55717        NaN   \n              03 year              NaN         228.104184        NaN   \n              05 year              NaN         215.144194        NaN   \n              10 year              NaN          202.06655        NaN   \n              max year             NaN         216.133886        NaN   \nMA            00 year              NaN          378.31896        NaN   \n              01 year              NaN         384.212141        NaN   \n              03 year              NaN         528.157092        NaN   \n              05 year              NaN         496.079709        NaN   \n              10 year              NaN         483.634347        NaN   \n              max year             NaN         543.041755        NaN   \nV             00 year              NaN         399.094313        NaN   \n              01 year              NaN         398.126731        NaN   \n              03 year              NaN         528.909045        NaN   \n              05 year              NaN         495.898245        NaN   \n              10 year              NaN         471.482865        NaN   \n              max year             NaN         441.967732        NaN   \n\n                                                                          \n                            2023-09-30 2023-12-31 2024-03-31 2024-06-30   \nTarget Ticker Time Averaged                                               \nAXP           00 year              NaN        NaN        NaN        NaN  \\\n              01 year              NaN        NaN        NaN        NaN   \n              03 year              NaN        NaN        NaN        NaN   \n              05 year              NaN        NaN        NaN        NaN   \n              10 year              NaN        NaN        NaN        NaN   \n              max year             NaN        NaN        NaN        NaN   \nDFS           00 year              NaN        NaN        NaN        NaN   \n              01 year              NaN        NaN        NaN        NaN   \n              03 year              NaN        NaN        NaN        NaN   \n              05 year              NaN        NaN        NaN        NaN   \n              10 year              NaN        NaN        NaN        NaN   \n              max year             NaN        NaN        NaN        NaN   \nMA            00 year              NaN        NaN        NaN        NaN   \n              01 year              NaN        NaN        NaN        NaN   \n              03 year              NaN        NaN        NaN        NaN   \n              05 year              NaN        NaN        NaN        NaN   \n              10 year              NaN        NaN        NaN        NaN   \n              max year             NaN        NaN        NaN        NaN   \nV             00 year              NaN        NaN        NaN        NaN   \n              01 year              NaN        NaN        NaN        NaN   \n              03 year              NaN        NaN        NaN        NaN   \n              05 year              NaN        NaN        NaN        NaN   \n              10 year              NaN        NaN        NaN        NaN   \n              max year             NaN        NaN        NaN        NaN   \n\n                                                   \n                            2024-09-30 2024-12-31  \nTarget Ticker Time Averaged                        \nAXP           00 year              NaN        NaN  \n              01 year              NaN        NaN  \n              03 year              NaN        NaN  \n              05 year              NaN        NaN  \n              10 year              NaN        NaN  \n              max year             NaN        NaN  \nDFS           00 year              NaN        NaN  \n              01 year              NaN        NaN  \n              03 year              NaN        NaN  \n              05 year              NaN        NaN  \n              10 year              NaN        NaN  \n              max year             NaN        NaN  \nMA            00 year              NaN        NaN  \n              01 year              NaN        NaN  \n              03 year              NaN        NaN  \n              05 year              NaN        NaN  \n              10 year              NaN        NaN  \n              max year             NaN        NaN  \nV             00 year              NaN        NaN  \n              01 year              NaN        NaN  \n              03 year              NaN        NaN  \n              05 year              NaN        NaN  \n              10 year              NaN        NaN  \n              max year             NaN        NaN  ",
      "text/html": "<div>\n<style scoped>\n    .dataframe tbody tr th:only-of-type {\n        vertical-align: middle;\n    }\n\n    .dataframe tbody tr th {\n        vertical-align: top;\n    }\n\n    .dataframe thead tr th {\n        text-align: left;\n    }\n\n    .dataframe thead tr:last-of-type th {\n        text-align: right;\n    }\n</style>\n<table border=\"1\" class=\"dataframe\">\n  <thead>\n    <tr>\n      <th></th>\n      <th></th>\n      <th colspan=\"8\" halign=\"left\">FV on Quarterly PE Ratio</th>\n      <th colspan=\"8\" halign=\"left\">FV on TTM PE Ratio</th>\n    </tr>\n    <tr>\n      <th></th>\n      <th></th>\n      <th>2023-03-31</th>\n      <th>2023-06-30</th>\n      <th>2023-09-30</th>\n      <th>2023-12-31</th>\n      <th>2024-03-31</th>\n      <th>2024-06-30</th>\n      <th>2024-09-30</th>\n      <th>2024-12-31</th>\n      <th>2023-03-31</th>\n      <th>2023-06-30</th>\n      <th>2023-09-30</th>\n      <th>2023-12-31</th>\n      <th>2024-03-31</th>\n      <th>2024-06-30</th>\n      <th>2024-09-30</th>\n      <th>2024-12-31</th>\n    </tr>\n    <tr>\n      <th>Target Ticker</th>\n      <th>Time Averaged</th>\n      <th></th>\n      <th></th>\n      <th></th>\n      <th></th>\n      <th></th>\n      <th></th>\n      <th></th>\n      <th></th>\n      <th></th>\n      <th></th>\n      <th></th>\n      <th></th>\n      <th></th>\n      <th></th>\n      <th></th>\n      <th></th>\n    </tr>\n  </thead>\n  <tbody>\n    <tr>\n      <th rowspan=\"6\" valign=\"top\">AXP</th>\n      <th>00 year</th>\n      <td>176.58775</td>\n      <td>NaN</td>\n      <td>NaN</td>\n      <td>NaN</td>\n      <td>NaN</td>\n      <td>NaN</td>\n      <td>NaN</td>\n      <td>NaN</td>\n      <td>195.434805</td>\n      <td>NaN</td>\n      <td>NaN</td>\n      <td>NaN</td>\n      <td>NaN</td>\n      <td>NaN</td>\n      <td>NaN</td>\n      <td>NaN</td>\n    </tr>\n    <tr>\n      <th>01 year</th>\n      <td>155.060137</td>\n      <td>NaN</td>\n      <td>NaN</td>\n      <td>NaN</td>\n      <td>NaN</td>\n      <td>NaN</td>\n      <td>NaN</td>\n      <td>NaN</td>\n      <td>197.609263</td>\n      <td>NaN</td>\n      <td>NaN</td>\n      <td>NaN</td>\n      <td>NaN</td>\n      <td>NaN</td>\n      <td>NaN</td>\n      <td>NaN</td>\n    </tr>\n    <tr>\n      <th>03 year</th>\n      <td>257.3264</td>\n      <td>NaN</td>\n      <td>NaN</td>\n      <td>NaN</td>\n      <td>NaN</td>\n      <td>NaN</td>\n      <td>NaN</td>\n      <td>NaN</td>\n      <td>269.201784</td>\n      <td>NaN</td>\n      <td>NaN</td>\n      <td>NaN</td>\n      <td>NaN</td>\n      <td>NaN</td>\n      <td>NaN</td>\n      <td>NaN</td>\n    </tr>\n    <tr>\n      <th>05 year</th>\n      <td>238.022506</td>\n      <td>NaN</td>\n      <td>NaN</td>\n      <td>NaN</td>\n      <td>NaN</td>\n      <td>NaN</td>\n      <td>NaN</td>\n      <td>NaN</td>\n      <td>254.110362</td>\n      <td>NaN</td>\n      <td>NaN</td>\n      <td>NaN</td>\n      <td>NaN</td>\n      <td>NaN</td>\n      <td>NaN</td>\n      <td>NaN</td>\n    </tr>\n    <tr>\n      <th>10 year</th>\n      <td>224.949502</td>\n      <td>NaN</td>\n      <td>NaN</td>\n      <td>NaN</td>\n      <td>NaN</td>\n      <td>NaN</td>\n      <td>NaN</td>\n      <td>NaN</td>\n      <td>240.496894</td>\n      <td>NaN</td>\n      <td>NaN</td>\n      <td>NaN</td>\n      <td>NaN</td>\n      <td>NaN</td>\n      <td>NaN</td>\n      <td>NaN</td>\n    </tr>\n    <tr>\n      <th>max year</th>\n      <td>228.090083</td>\n      <td>NaN</td>\n      <td>NaN</td>\n      <td>NaN</td>\n      <td>NaN</td>\n      <td>NaN</td>\n      <td>NaN</td>\n      <td>NaN</td>\n      <td>258.687068</td>\n      <td>NaN</td>\n      <td>NaN</td>\n      <td>NaN</td>\n      <td>NaN</td>\n      <td>NaN</td>\n      <td>NaN</td>\n      <td>NaN</td>\n    </tr>\n    <tr>\n      <th rowspan=\"6\" valign=\"top\">DFS</th>\n      <th>00 year</th>\n      <td>157.693798</td>\n      <td>NaN</td>\n      <td>NaN</td>\n      <td>NaN</td>\n      <td>NaN</td>\n      <td>NaN</td>\n      <td>NaN</td>\n      <td>NaN</td>\n      <td>170.641298</td>\n      <td>NaN</td>\n      <td>NaN</td>\n      <td>NaN</td>\n      <td>NaN</td>\n      <td>NaN</td>\n      <td>NaN</td>\n      <td>NaN</td>\n    </tr>\n    <tr>\n      <th>01 year</th>\n      <td>139.007056</td>\n      <td>NaN</td>\n      <td>NaN</td>\n      <td>NaN</td>\n      <td>NaN</td>\n      <td>NaN</td>\n      <td>NaN</td>\n      <td>NaN</td>\n      <td>170.55717</td>\n      <td>NaN</td>\n      <td>NaN</td>\n      <td>NaN</td>\n      <td>NaN</td>\n      <td>NaN</td>\n      <td>NaN</td>\n      <td>NaN</td>\n    </tr>\n    <tr>\n      <th>03 year</th>\n      <td>229.398281</td>\n      <td>NaN</td>\n      <td>NaN</td>\n      <td>NaN</td>\n      <td>NaN</td>\n      <td>NaN</td>\n      <td>NaN</td>\n      <td>NaN</td>\n      <td>228.104184</td>\n      <td>NaN</td>\n      <td>NaN</td>\n      <td>NaN</td>\n      <td>NaN</td>\n      <td>NaN</td>\n      <td>NaN</td>\n      <td>NaN</td>\n    </tr>\n    <tr>\n      <th>05 year</th>\n      <td>217.548842</td>\n      <td>NaN</td>\n      <td>NaN</td>\n      <td>NaN</td>\n      <td>NaN</td>\n      <td>NaN</td>\n      <td>NaN</td>\n      <td>NaN</td>\n      <td>215.144194</td>\n      <td>NaN</td>\n      <td>NaN</td>\n      <td>NaN</td>\n      <td>NaN</td>\n      <td>NaN</td>\n      <td>NaN</td>\n      <td>NaN</td>\n    </tr>\n    <tr>\n      <th>10 year</th>\n      <td>196.020626</td>\n      <td>NaN</td>\n      <td>NaN</td>\n      <td>NaN</td>\n      <td>NaN</td>\n      <td>NaN</td>\n      <td>NaN</td>\n      <td>NaN</td>\n      <td>202.06655</td>\n      <td>NaN</td>\n      <td>NaN</td>\n      <td>NaN</td>\n      <td>NaN</td>\n      <td>NaN</td>\n      <td>NaN</td>\n      <td>NaN</td>\n    </tr>\n    <tr>\n      <th>max year</th>\n      <td>198.203281</td>\n      <td>NaN</td>\n      <td>NaN</td>\n      <td>NaN</td>\n      <td>NaN</td>\n      <td>NaN</td>\n      <td>NaN</td>\n      <td>NaN</td>\n      <td>216.133886</td>\n      <td>NaN</td>\n      <td>NaN</td>\n      <td>NaN</td>\n      <td>NaN</td>\n      <td>NaN</td>\n      <td>NaN</td>\n      <td>NaN</td>\n    </tr>\n    <tr>\n      <th rowspan=\"6\" valign=\"top\">MA</th>\n      <th>00 year</th>\n      <td>313.760401</td>\n      <td>NaN</td>\n      <td>NaN</td>\n      <td>NaN</td>\n      <td>NaN</td>\n      <td>NaN</td>\n      <td>NaN</td>\n      <td>NaN</td>\n      <td>378.31896</td>\n      <td>NaN</td>\n      <td>NaN</td>\n      <td>NaN</td>\n      <td>NaN</td>\n      <td>NaN</td>\n      <td>NaN</td>\n      <td>NaN</td>\n    </tr>\n    <tr>\n      <th>01 year</th>\n      <td>275.704172</td>\n      <td>NaN</td>\n      <td>NaN</td>\n      <td>NaN</td>\n      <td>NaN</td>\n      <td>NaN</td>\n      <td>NaN</td>\n      <td>NaN</td>\n      <td>384.212141</td>\n      <td>NaN</td>\n      <td>NaN</td>\n      <td>NaN</td>\n      <td>NaN</td>\n      <td>NaN</td>\n      <td>NaN</td>\n      <td>NaN</td>\n    </tr>\n    <tr>\n      <th>03 year</th>\n      <td>487.278662</td>\n      <td>NaN</td>\n      <td>NaN</td>\n      <td>NaN</td>\n      <td>NaN</td>\n      <td>NaN</td>\n      <td>NaN</td>\n      <td>NaN</td>\n      <td>528.157092</td>\n      <td>NaN</td>\n      <td>NaN</td>\n      <td>NaN</td>\n      <td>NaN</td>\n      <td>NaN</td>\n      <td>NaN</td>\n      <td>NaN</td>\n    </tr>\n    <tr>\n      <th>05 year</th>\n      <td>449.967048</td>\n      <td>NaN</td>\n      <td>NaN</td>\n      <td>NaN</td>\n      <td>NaN</td>\n      <td>NaN</td>\n      <td>NaN</td>\n      <td>NaN</td>\n      <td>496.079709</td>\n      <td>NaN</td>\n      <td>NaN</td>\n      <td>NaN</td>\n      <td>NaN</td>\n      <td>NaN</td>\n      <td>NaN</td>\n      <td>NaN</td>\n    </tr>\n    <tr>\n      <th>10 year</th>\n      <td>417.102946</td>\n      <td>NaN</td>\n      <td>NaN</td>\n      <td>NaN</td>\n      <td>NaN</td>\n      <td>NaN</td>\n      <td>NaN</td>\n      <td>NaN</td>\n      <td>483.634347</td>\n      <td>NaN</td>\n      <td>NaN</td>\n      <td>NaN</td>\n      <td>NaN</td>\n      <td>NaN</td>\n      <td>NaN</td>\n      <td>NaN</td>\n    </tr>\n    <tr>\n      <th>max year</th>\n      <td>414.468254</td>\n      <td>NaN</td>\n      <td>NaN</td>\n      <td>NaN</td>\n      <td>NaN</td>\n      <td>NaN</td>\n      <td>NaN</td>\n      <td>NaN</td>\n      <td>543.041755</td>\n      <td>NaN</td>\n      <td>NaN</td>\n      <td>NaN</td>\n      <td>NaN</td>\n      <td>NaN</td>\n      <td>NaN</td>\n      <td>NaN</td>\n    </tr>\n    <tr>\n      <th rowspan=\"6\" valign=\"top\">V</th>\n      <th>00 year</th>\n      <td>364.618091</td>\n      <td>NaN</td>\n      <td>NaN</td>\n      <td>NaN</td>\n      <td>NaN</td>\n      <td>NaN</td>\n      <td>NaN</td>\n      <td>NaN</td>\n      <td>399.094313</td>\n      <td>NaN</td>\n      <td>NaN</td>\n      <td>NaN</td>\n      <td>NaN</td>\n      <td>NaN</td>\n      <td>NaN</td>\n      <td>NaN</td>\n    </tr>\n    <tr>\n      <th>01 year</th>\n      <td>310.309687</td>\n      <td>NaN</td>\n      <td>NaN</td>\n      <td>NaN</td>\n      <td>NaN</td>\n      <td>NaN</td>\n      <td>NaN</td>\n      <td>NaN</td>\n      <td>398.126731</td>\n      <td>NaN</td>\n      <td>NaN</td>\n      <td>NaN</td>\n      <td>NaN</td>\n      <td>NaN</td>\n      <td>NaN</td>\n      <td>NaN</td>\n    </tr>\n    <tr>\n      <th>03 year</th>\n      <td>514.507348</td>\n      <td>NaN</td>\n      <td>NaN</td>\n      <td>NaN</td>\n      <td>NaN</td>\n      <td>NaN</td>\n      <td>NaN</td>\n      <td>NaN</td>\n      <td>528.909045</td>\n      <td>NaN</td>\n      <td>NaN</td>\n      <td>NaN</td>\n      <td>NaN</td>\n      <td>NaN</td>\n      <td>NaN</td>\n      <td>NaN</td>\n    </tr>\n    <tr>\n      <th>05 year</th>\n      <td>473.239493</td>\n      <td>NaN</td>\n      <td>NaN</td>\n      <td>NaN</td>\n      <td>NaN</td>\n      <td>NaN</td>\n      <td>NaN</td>\n      <td>NaN</td>\n      <td>495.898245</td>\n      <td>NaN</td>\n      <td>NaN</td>\n      <td>NaN</td>\n      <td>NaN</td>\n      <td>NaN</td>\n      <td>NaN</td>\n      <td>NaN</td>\n    </tr>\n    <tr>\n      <th>10 year</th>\n      <td>424.311347</td>\n      <td>NaN</td>\n      <td>NaN</td>\n      <td>NaN</td>\n      <td>NaN</td>\n      <td>NaN</td>\n      <td>NaN</td>\n      <td>NaN</td>\n      <td>471.482865</td>\n      <td>NaN</td>\n      <td>NaN</td>\n      <td>NaN</td>\n      <td>NaN</td>\n      <td>NaN</td>\n      <td>NaN</td>\n      <td>NaN</td>\n    </tr>\n    <tr>\n      <th>max year</th>\n      <td>437.985591</td>\n      <td>NaN</td>\n      <td>NaN</td>\n      <td>NaN</td>\n      <td>NaN</td>\n      <td>NaN</td>\n      <td>NaN</td>\n      <td>NaN</td>\n      <td>441.967732</td>\n      <td>NaN</td>\n      <td>NaN</td>\n      <td>NaN</td>\n      <td>NaN</td>\n      <td>NaN</td>\n      <td>NaN</td>\n      <td>NaN</td>\n    </tr>\n  </tbody>\n</table>\n</div>"
     },
     "execution_count": 136,
     "metadata": {},
     "output_type": "execute_result"
    }
   ],
   "source": [
    "c.calc_fair_value()\n",
    "c.fair_value.loc['V']\n",
    "c.fair_value"
   ],
   "metadata": {
    "collapsed": false
   }
  },
  {
   "cell_type": "code",
   "execution_count": null,
   "outputs": [],
   "source": [
    "c.target_ks.loc[('V',), :].plot()"
   ],
   "metadata": {
    "collapsed": false
   }
  }
 ],
 "metadata": {
  "kernelspec": {
   "display_name": "Python 3",
   "language": "python",
   "name": "python3"
  },
  "language_info": {
   "codemirror_mode": {
    "name": "ipython",
    "version": 2
   },
   "file_extension": ".py",
   "mimetype": "text/x-python",
   "name": "python",
   "nbconvert_exporter": "python",
   "pygments_lexer": "ipython2",
   "version": "2.7.6"
  }
 },
 "nbformat": 4,
 "nbformat_minor": 0
}
