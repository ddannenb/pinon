{
 "cells": [
  {
   "cell_type": "markdown",
   "source": [
    "## Setup\n",
    "Install accompanying pinon library. It is better to install in dev mode in the conda environment with `pip install -e .` Jupyter server must restart to see changes to conda environment.\n",
    "Auto reload the pinon module.  Other imports may be ignored for auto reload e.g.  `%aimport -simfin`. Note use of option 2 for auto reload and excluding other modules, rather than option 1 and including only reloadable modules.  This is because option 1 does not work correctly with aliased imports."
   ],
   "metadata": {
    "collapsed": false
   }
  },
  {
   "cell_type": "code",
   "execution_count": 17,
   "metadata": {
    "collapsed": true
   },
   "outputs": [
    {
     "name": "stdout",
     "output_type": "stream",
     "text": [
      "The autoreload extension is already loaded. To reload it, use:\n",
      "  %reload_ext autoreload\n",
      "Config file found at: /Users/daved/Dev/pinon/config/master.xlsx\n",
      "Simfin data directory: /Users/daved/Dev/pinon/simfin_data\n"
     ]
    }
   ],
   "source": [
    "# !pip install -e ..\n",
    "\n",
    "%load_ext autoreload\n",
    "%autoreload 2\n",
    "%aimport -pandas\n",
    "%aimport -simfin\n",
    "%aimport -os\n",
    "\n",
    "%aimport pinon\n",
    "\n",
    "%matplotlib inline\n",
    "\n",
    "# imports\n",
    "import pandas as pd\n",
    "import os\n",
    "\n",
    "import pinon as pn\n",
    "import simfin as sf\n",
    "import simfin.names as sf_cols  # column name shortcuts\n",
    "\n",
    "config = pn.Config('master')"
   ]
  },
  {
   "cell_type": "code",
   "execution_count": 18,
   "outputs": [
    {
     "name": "stdout",
     "output_type": "stream",
     "text": [
      "Dataset \"us-companies\" on disk (2 days old).\n",
      "- Loading from disk ... Done!\n"
     ]
    },
    {
     "name": "stderr",
     "output_type": "stream",
     "text": [
      "/Users/daved/opt/anaconda3/envs/py3_10_8_pinon/lib/python3.10/site-packages/simfin/load.py:144: FutureWarning: The argument 'date_parser' is deprecated and will be removed in a future version. Please use 'date_format' instead, or read your data in as 'object' dtype and then call 'to_datetime'.\n",
      "  df = pd.read_csv(path, sep=';', header=0,\n"
     ]
    },
    {
     "data": {
      "text/plain": "                       Company Name IndustryId Past Years Requested Peer List\nTicker                                                                       \nAXP             AMERICAN EXPRESS CO   104007.0                   10        []\nDFS     Discover Financial Services   104007.0                   10        []\nMA                   Mastercard Inc   104007.0                   10        []",
      "text/html": "<div>\n<style scoped>\n    .dataframe tbody tr th:only-of-type {\n        vertical-align: middle;\n    }\n\n    .dataframe tbody tr th {\n        vertical-align: top;\n    }\n\n    .dataframe thead th {\n        text-align: right;\n    }\n</style>\n<table border=\"1\" class=\"dataframe\">\n  <thead>\n    <tr style=\"text-align: right;\">\n      <th></th>\n      <th>Company Name</th>\n      <th>IndustryId</th>\n      <th>Past Years Requested</th>\n      <th>Peer List</th>\n    </tr>\n    <tr>\n      <th>Ticker</th>\n      <th></th>\n      <th></th>\n      <th></th>\n      <th></th>\n    </tr>\n  </thead>\n  <tbody>\n    <tr>\n      <th>AXP</th>\n      <td>AMERICAN EXPRESS CO</td>\n      <td>104007.0</td>\n      <td>10</td>\n      <td>[]</td>\n    </tr>\n    <tr>\n      <th>DFS</th>\n      <td>Discover Financial Services</td>\n      <td>104007.0</td>\n      <td>10</td>\n      <td>[]</td>\n    </tr>\n    <tr>\n      <th>MA</th>\n      <td>Mastercard Inc</td>\n      <td>104007.0</td>\n      <td>10</td>\n      <td>[]</td>\n    </tr>\n  </tbody>\n</table>\n</div>"
     },
     "execution_count": 18,
     "metadata": {},
     "output_type": "execute_result"
    }
   ],
   "source": [
    "ts = config.parse_target_sheet('V', 10)\n",
    "ts"
   ],
   "metadata": {
    "collapsed": false
   }
  },
  {
   "cell_type": "code",
   "execution_count": 5,
   "outputs": [],
   "source": [
    "c = pn.Companies()"
   ],
   "metadata": {
    "collapsed": false
   }
  },
  {
   "cell_type": "code",
   "execution_count": 7,
   "outputs": [
    {
     "data": {
      "text/plain": "SimFinId                 59265\nCompany Name    MICROSOFT CORP\nIndustryId            101003.0\nName: MSFT, dtype: object"
     },
     "execution_count": 7,
     "metadata": {},
     "output_type": "execute_result"
    }
   ],
   "source": [
    "res = c.get_company('MSFT')\n",
    "res"
   ],
   "metadata": {
    "collapsed": false
   }
  }
 ],
 "metadata": {
  "kernelspec": {
   "display_name": "Python 3",
   "language": "python",
   "name": "python3"
  },
  "language_info": {
   "codemirror_mode": {
    "name": "ipython",
    "version": 2
   },
   "file_extension": ".py",
   "mimetype": "text/x-python",
   "name": "python",
   "nbconvert_exporter": "python",
   "pygments_lexer": "ipython2",
   "version": "2.7.6"
  }
 },
 "nbformat": 4,
 "nbformat_minor": 0
}
