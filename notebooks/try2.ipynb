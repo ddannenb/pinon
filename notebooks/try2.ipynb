{
 "cells": [
  {
   "cell_type": "markdown",
   "source": [
    "## Setup\n",
    "Install accompanying pinon library. It is better to install in dev mode in the conda environment with `pip install -e .` Jupyter server must restart to see changes to conda environment.\n",
    "Auto reload the pinon module.  Other imports may be ignored for auto reload e.g.  `%aimport -simfin`. Note use of option 2 for auto reload and excluding other modules, rather than option 1 and including only reloadable modules.  This is because option 1 does not work correctly with aliased imports."
   ],
   "metadata": {
    "collapsed": false
   }
  },
  {
   "cell_type": "code",
   "execution_count": null,
   "metadata": {
    "collapsed": true
   },
   "outputs": [],
   "source": [
    "# !pip install -e ..\n",
    "\n",
    "%load_ext autoreload\n",
    "%autoreload 2\n",
    "%aimport -pandas\n",
    "%aimport -simfin\n",
    "%aimport -os\n",
    "\n",
    "%aimport pinon\n",
    "\n",
    "%matplotlib inline\n",
    "\n",
    "# imports\n",
    "import pandas as pd\n",
    "import os\n",
    "\n",
    "import pinon as pn\n",
    "import simfin as sf\n",
    "import simfin.names as sf_cols  # column name shortcuts\n",
    "\n",
    "config = pn.Config('master')"
   ]
  },
  {
   "cell_type": "code",
   "execution_count": 37,
   "outputs": [
    {
     "name": "stdout",
     "output_type": "stream",
     "text": [
      "There is an error in the supplied ticker symbol EEFT in Company List of sheet: V of config file: /Users/daved/Dev/pinon/config/master.xlsx. Compnay uses non stardard quarterly reporting date not currently supported. Company was dropped from the list.\n",
      "There is an error in the supplied ticker symbol PAGS in Company List of sheet: V of config file: /Users/daved/Dev/pinon/config/master.xlsx. Company was not found and was dropped from the list.\n",
      "There is an error in the supplied ticker symbol INTC in Company List of sheet: V of config file: /Users/daved/Dev/pinon/config/master.xlsx. Financials are not available, company was dropped from the list.\n"
     ]
    },
    {
     "data": {
      "text/plain": "                       Company Name IndustryId Simfin Schema   \nTicker                                                         \nAXP             AMERICAN EXPRESS CO   104007.0          bank  \\\nDFS     Discover Financial Services   104007.0          bank   \nMA                   Mastercard Inc   104007.0        normal   \nPYPL          PayPal Holdings, Inc.   104007.0        normal   \nCOF           Capital One Financial   104007.0          bank   \nWU                 Western Union Co   104007.0        normal   \nBAC       BANK OF AMERICA CORP /DE/   104002.0          bank   \n\n       Past Years Requested Peer Weight Evaluate   \nTicker                                             \nAXP                      10         100     True  \\\nDFS                      10         100     True   \nMA                       10         100     True   \nPYPL                     10          80    False   \nCOF                      10          60    False   \nWU                       10          60    False   \nBAC                      10          60    False   \n\n                             Peer List First Report Date Last Report Date  \nTicker                                                                     \nAXP      [DFS, MA, PYPL, COF, WU, BAC]        2009-06-30       2022-12-31  \nDFS      [AXP, MA, PYPL, COF, WU, BAC]        2009-09-30       2022-12-31  \nMA      [AXP, DFS, PYPL, COF, WU, BAC]        2009-06-30       2022-12-31  \nPYPL                              None        2015-06-30       2022-12-31  \nCOF                               None        2009-06-30       2022-12-31  \nWU                                None        2008-12-31       2022-12-31  \nBAC                               None        2011-09-30       2022-12-31  ",
      "text/html": "<div>\n<style scoped>\n    .dataframe tbody tr th:only-of-type {\n        vertical-align: middle;\n    }\n\n    .dataframe tbody tr th {\n        vertical-align: top;\n    }\n\n    .dataframe thead th {\n        text-align: right;\n    }\n</style>\n<table border=\"1\" class=\"dataframe\">\n  <thead>\n    <tr style=\"text-align: right;\">\n      <th></th>\n      <th>Company Name</th>\n      <th>IndustryId</th>\n      <th>Simfin Schema</th>\n      <th>Past Years Requested</th>\n      <th>Peer Weight</th>\n      <th>Evaluate</th>\n      <th>Peer List</th>\n      <th>First Report Date</th>\n      <th>Last Report Date</th>\n    </tr>\n    <tr>\n      <th>Ticker</th>\n      <th></th>\n      <th></th>\n      <th></th>\n      <th></th>\n      <th></th>\n      <th></th>\n      <th></th>\n      <th></th>\n      <th></th>\n    </tr>\n  </thead>\n  <tbody>\n    <tr>\n      <th>AXP</th>\n      <td>AMERICAN EXPRESS CO</td>\n      <td>104007.0</td>\n      <td>bank</td>\n      <td>10</td>\n      <td>100</td>\n      <td>True</td>\n      <td>[DFS, MA, PYPL, COF, WU, BAC]</td>\n      <td>2009-06-30</td>\n      <td>2022-12-31</td>\n    </tr>\n    <tr>\n      <th>DFS</th>\n      <td>Discover Financial Services</td>\n      <td>104007.0</td>\n      <td>bank</td>\n      <td>10</td>\n      <td>100</td>\n      <td>True</td>\n      <td>[AXP, MA, PYPL, COF, WU, BAC]</td>\n      <td>2009-09-30</td>\n      <td>2022-12-31</td>\n    </tr>\n    <tr>\n      <th>MA</th>\n      <td>Mastercard Inc</td>\n      <td>104007.0</td>\n      <td>normal</td>\n      <td>10</td>\n      <td>100</td>\n      <td>True</td>\n      <td>[AXP, DFS, PYPL, COF, WU, BAC]</td>\n      <td>2009-06-30</td>\n      <td>2022-12-31</td>\n    </tr>\n    <tr>\n      <th>PYPL</th>\n      <td>PayPal Holdings, Inc.</td>\n      <td>104007.0</td>\n      <td>normal</td>\n      <td>10</td>\n      <td>80</td>\n      <td>False</td>\n      <td>None</td>\n      <td>2015-06-30</td>\n      <td>2022-12-31</td>\n    </tr>\n    <tr>\n      <th>COF</th>\n      <td>Capital One Financial</td>\n      <td>104007.0</td>\n      <td>bank</td>\n      <td>10</td>\n      <td>60</td>\n      <td>False</td>\n      <td>None</td>\n      <td>2009-06-30</td>\n      <td>2022-12-31</td>\n    </tr>\n    <tr>\n      <th>WU</th>\n      <td>Western Union Co</td>\n      <td>104007.0</td>\n      <td>normal</td>\n      <td>10</td>\n      <td>60</td>\n      <td>False</td>\n      <td>None</td>\n      <td>2008-12-31</td>\n      <td>2022-12-31</td>\n    </tr>\n    <tr>\n      <th>BAC</th>\n      <td>BANK OF AMERICA CORP /DE/</td>\n      <td>104002.0</td>\n      <td>bank</td>\n      <td>10</td>\n      <td>60</td>\n      <td>False</td>\n      <td>None</td>\n      <td>2011-09-30</td>\n      <td>2022-12-31</td>\n    </tr>\n  </tbody>\n</table>\n</div>"
     },
     "execution_count": 37,
     "metadata": {},
     "output_type": "execute_result"
    }
   ],
   "source": [
    "ts = config.parse_target_sheet('V', 10)\n",
    "ts"
   ],
   "metadata": {
    "collapsed": false
   }
  },
  {
   "cell_type": "code",
   "execution_count": 35,
   "outputs": [
    {
     "data": {
      "text/plain": "False"
     },
     "execution_count": 35,
     "metadata": {},
     "output_type": "execute_result"
    }
   ],
   "source": [
    "funds = pn.Fundamentals()\n",
    "funds.is_standard_reporting_dates('EEFT')"
   ],
   "metadata": {
    "collapsed": false
   }
  }
 ],
 "metadata": {
  "kernelspec": {
   "display_name": "Python 3",
   "language": "python",
   "name": "python3"
  },
  "language_info": {
   "codemirror_mode": {
    "name": "ipython",
    "version": 2
   },
   "file_extension": ".py",
   "mimetype": "text/x-python",
   "name": "python",
   "nbconvert_exporter": "python",
   "pygments_lexer": "ipython2",
   "version": "2.7.6"
  }
 },
 "nbformat": 4,
 "nbformat_minor": 0
}
