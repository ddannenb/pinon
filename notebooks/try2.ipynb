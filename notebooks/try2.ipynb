{
 "cells": [
  {
   "cell_type": "markdown",
   "source": [
    "## Setup\n",
    "Install accompanying pinon library. It is better to install in dev mode in the conda environment with `pip install -e .` Jupyter server must restart to see changes to conda environment.\n",
    "Auto reload the pinon module.  Other imports may be ignored for auto reload e.g.  `%aimport -simfin`. Note use of option 2 for auto reload and excluding other modules, rather than option 1 and including only reloadable modules.  This is because option 1 does not work correctly with aliased imports."
   ],
   "metadata": {
    "collapsed": false
   }
  },
  {
   "cell_type": "code",
   "execution_count": null,
   "outputs": [],
   "source": [
    "# !pip install -e ..\n",
    "\n",
    "%load_ext autoreload\n",
    "%autoreload 2\n",
    "%aimport -pandas\n",
    "%aimport -simfin\n",
    "%aimport -os\n",
    "\n",
    "%aimport pinon\n",
    "\n",
    "%matplotlib inline\n",
    "\n",
    "# imports\n",
    "import pandas as pd\n",
    "import seaborn as sns\n",
    "import os\n",
    "\n",
    "import pinon as pn\n",
    "import pinon.names as pn_cols\n",
    "import simfin as sf\n",
    "import simfin.names as sf_cols  # column name shortcuts"
   ],
   "metadata": {
    "collapsed": false
   }
  },
  {
   "cell_type": "code",
   "execution_count": null,
   "outputs": [],
   "source": [
    "config = pn.Config('master', 'V', 10)"
   ],
   "metadata": {
    "collapsed": false
   }
  },
  {
   "cell_type": "code",
   "execution_count": 5,
   "outputs": [
    {
     "name": "stdout",
     "output_type": "stream",
     "text": [
      "Adding breaking report for ticker V for report date 2023-03-31\n",
      "Adding breaking report for ticker DFS for report date 2023-03-31\n",
      "Here\n"
     ]
    },
    {
     "data": {
      "text/plain": "                            Quarterly PE Ratio                                 \n                                    Unweighted   Weighted Weighted, Adjusted   \nTarget Ticker Time Averaged                                                    \nAXP           0 year                  9.163213  12.159421          12.120083  \\\n              1 year                  10.22503  12.785269          12.743907   \n              3 year                 22.776285  25.484168          25.401722   \n              5 year                 21.694573  23.923817          23.846419   \nDFS           0 year                 10.584107  13.992833           6.314428   \n              1 year                 11.483394  14.408964           6.502212   \n              3 year                 24.721855  27.994581          12.632879   \n              5 year                 23.998469  26.896586          12.137396   \nMA            0 year                  7.523925   10.04421          21.000442   \n              1 year                  8.227535  10.207856          21.342594   \n              3 year                 20.252365  22.227497          46.473267   \n              5 year                 19.444777  21.020854          43.950418   \nV             0 year                  7.905417  10.536458          29.195275   \n              1 year                  8.808886  10.957986          30.363282   \n              3 year                 20.488938  22.532752          62.435587   \n              5 year                 19.494625  21.085175          58.424521   \n\n                            TTM PE Ratio                                \n                              Unweighted   Weighted Weighted, Adjusted  \nTarget Ticker Time Averaged                                             \nAXP           0 year           18.096655  19.779798          20.004699  \n              1 year           18.705207  20.515081          20.748342  \n              3 year           25.491555  27.575802          27.889345  \n              5 year           23.906749  26.101859          26.398643  \nDFS           0 year           19.421206  21.488896          11.739439  \n              1 year           19.842443  21.982482          12.009087  \n              3 year            26.63437  29.050401          15.870309  \n              5 year           24.968634  27.472033          15.008043  \nMA            0 year           16.334445  17.505978          41.080422  \n              1 year           16.415168  17.560193          41.207646  \n              3 year           22.560724  23.794084          55.836414  \n              5 year           21.039809  22.402581          52.571042  \nV             0 year           16.537438  17.767904          44.631582  \n              1 year           16.991779  18.304207          45.978731  \n              3 year           22.737219  24.021819          60.340925  \n              5 year            21.19776  22.606389          56.785475  ",
      "text/html": "<div>\n<style scoped>\n    .dataframe tbody tr th:only-of-type {\n        vertical-align: middle;\n    }\n\n    .dataframe tbody tr th {\n        vertical-align: top;\n    }\n\n    .dataframe thead tr th {\n        text-align: left;\n    }\n\n    .dataframe thead tr:last-of-type th {\n        text-align: right;\n    }\n</style>\n<table border=\"1\" class=\"dataframe\">\n  <thead>\n    <tr>\n      <th></th>\n      <th></th>\n      <th colspan=\"3\" halign=\"left\">Quarterly PE Ratio</th>\n      <th colspan=\"3\" halign=\"left\">TTM PE Ratio</th>\n    </tr>\n    <tr>\n      <th></th>\n      <th></th>\n      <th>Unweighted</th>\n      <th>Weighted</th>\n      <th>Weighted, Adjusted</th>\n      <th>Unweighted</th>\n      <th>Weighted</th>\n      <th>Weighted, Adjusted</th>\n    </tr>\n    <tr>\n      <th>Target Ticker</th>\n      <th>Time Averaged</th>\n      <th></th>\n      <th></th>\n      <th></th>\n      <th></th>\n      <th></th>\n      <th></th>\n    </tr>\n  </thead>\n  <tbody>\n    <tr>\n      <th rowspan=\"4\" valign=\"top\">AXP</th>\n      <th>0 year</th>\n      <td>9.163213</td>\n      <td>12.159421</td>\n      <td>12.120083</td>\n      <td>18.096655</td>\n      <td>19.779798</td>\n      <td>20.004699</td>\n    </tr>\n    <tr>\n      <th>1 year</th>\n      <td>10.22503</td>\n      <td>12.785269</td>\n      <td>12.743907</td>\n      <td>18.705207</td>\n      <td>20.515081</td>\n      <td>20.748342</td>\n    </tr>\n    <tr>\n      <th>3 year</th>\n      <td>22.776285</td>\n      <td>25.484168</td>\n      <td>25.401722</td>\n      <td>25.491555</td>\n      <td>27.575802</td>\n      <td>27.889345</td>\n    </tr>\n    <tr>\n      <th>5 year</th>\n      <td>21.694573</td>\n      <td>23.923817</td>\n      <td>23.846419</td>\n      <td>23.906749</td>\n      <td>26.101859</td>\n      <td>26.398643</td>\n    </tr>\n    <tr>\n      <th rowspan=\"4\" valign=\"top\">DFS</th>\n      <th>0 year</th>\n      <td>10.584107</td>\n      <td>13.992833</td>\n      <td>6.314428</td>\n      <td>19.421206</td>\n      <td>21.488896</td>\n      <td>11.739439</td>\n    </tr>\n    <tr>\n      <th>1 year</th>\n      <td>11.483394</td>\n      <td>14.408964</td>\n      <td>6.502212</td>\n      <td>19.842443</td>\n      <td>21.982482</td>\n      <td>12.009087</td>\n    </tr>\n    <tr>\n      <th>3 year</th>\n      <td>24.721855</td>\n      <td>27.994581</td>\n      <td>12.632879</td>\n      <td>26.63437</td>\n      <td>29.050401</td>\n      <td>15.870309</td>\n    </tr>\n    <tr>\n      <th>5 year</th>\n      <td>23.998469</td>\n      <td>26.896586</td>\n      <td>12.137396</td>\n      <td>24.968634</td>\n      <td>27.472033</td>\n      <td>15.008043</td>\n    </tr>\n    <tr>\n      <th rowspan=\"4\" valign=\"top\">MA</th>\n      <th>0 year</th>\n      <td>7.523925</td>\n      <td>10.04421</td>\n      <td>21.000442</td>\n      <td>16.334445</td>\n      <td>17.505978</td>\n      <td>41.080422</td>\n    </tr>\n    <tr>\n      <th>1 year</th>\n      <td>8.227535</td>\n      <td>10.207856</td>\n      <td>21.342594</td>\n      <td>16.415168</td>\n      <td>17.560193</td>\n      <td>41.207646</td>\n    </tr>\n    <tr>\n      <th>3 year</th>\n      <td>20.252365</td>\n      <td>22.227497</td>\n      <td>46.473267</td>\n      <td>22.560724</td>\n      <td>23.794084</td>\n      <td>55.836414</td>\n    </tr>\n    <tr>\n      <th>5 year</th>\n      <td>19.444777</td>\n      <td>21.020854</td>\n      <td>43.950418</td>\n      <td>21.039809</td>\n      <td>22.402581</td>\n      <td>52.571042</td>\n    </tr>\n    <tr>\n      <th rowspan=\"4\" valign=\"top\">V</th>\n      <th>0 year</th>\n      <td>7.905417</td>\n      <td>10.536458</td>\n      <td>29.195275</td>\n      <td>16.537438</td>\n      <td>17.767904</td>\n      <td>44.631582</td>\n    </tr>\n    <tr>\n      <th>1 year</th>\n      <td>8.808886</td>\n      <td>10.957986</td>\n      <td>30.363282</td>\n      <td>16.991779</td>\n      <td>18.304207</td>\n      <td>45.978731</td>\n    </tr>\n    <tr>\n      <th>3 year</th>\n      <td>20.488938</td>\n      <td>22.532752</td>\n      <td>62.435587</td>\n      <td>22.737219</td>\n      <td>24.021819</td>\n      <td>60.340925</td>\n    </tr>\n    <tr>\n      <th>5 year</th>\n      <td>19.494625</td>\n      <td>21.085175</td>\n      <td>58.424521</td>\n      <td>21.19776</td>\n      <td>22.606389</td>\n      <td>56.785475</td>\n    </tr>\n  </tbody>\n</table>\n</div>"
     },
     "execution_count": 5,
     "metadata": {},
     "output_type": "execute_result"
    }
   ],
   "source": [
    "c = pn.Comps(config)\n",
    "c.run()\n",
    "c.comp_ratios"
   ],
   "metadata": {
    "collapsed": false
   }
  },
  {
   "cell_type": "code",
   "execution_count": 7,
   "outputs": [
    {
     "data": {
      "text/plain": "            Quarterly EPS    TTM EPS Quarterly PE Ratio TTM PE Ratio   \nReport Date                                                            \n2013-06-30       1.280766        NaN          13.886682          NaN  \\\n2013-09-30       1.263645        NaN          14.883781          NaN   \n2013-12-31       1.220149        NaN          16.831925          NaN   \n2014-03-31       1.342081    5.10664           16.63978    17.492461   \n2014-06-30       1.446547   5.272421          15.579055    17.097141   \n2014-09-30       1.410697   5.419474          15.954738    16.612169   \n2014-12-31       1.400774   5.600099          15.999436    16.008004   \n2015-03-31       1.490714   5.748732           13.93287    14.451825   \n2015-06-30       1.454097   5.756282          13.639788     13.78221   \n2015-09-30       1.269809   5.615394          15.147419    13.701147   \n2015-12-31       0.918284   5.132904          19.810176    14.176278   \n2016-03-31       1.480789   5.122979           9.821109    11.355105   \n2016-06-30       2.141339   5.810222           7.395854    10.902876   \n2016-09-30        1.23727   5.777682          12.981045    11.119376   \n2016-12-31       0.903614   5.763012          19.153765    12.012897   \n2017-03-31       1.369878   5.652101          14.267515    13.831852   \n2017-06-30       1.520717   5.031479          13.007756    15.725882   \n2017-09-30       1.544318   5.338528          13.913085    16.098994   \n2017-12-31      -1.389401   3.045512         -17.136682     31.27188   \n2018-03-31       1.897793   3.573427          12.759923    27.106411   \n2018-06-30       1.882831   3.935541          13.047468    24.968533   \n2018-09-30       1.923256   4.314479          13.519176    24.105654   \n2018-12-31       2.356389   8.060269          11.100805    12.981114   \n2019-03-31       1.838671   8.001147          14.288114    13.133691   \n2019-06-30       2.108982   8.227298          13.923196    14.276263   \n2019-09-30       2.122128   8.426171          14.446491    14.553374   \n2019-12-31       2.077301   8.147082          14.383469    14.669688   \n2020-03-31       0.454208   6.762619          64.040676     17.20504   \n2020-06-30       0.318859   4.972495           72.18805    18.516078   \n2020-09-30       1.334577   4.184944           18.42821    23.506996   \n2020-12-31       1.784119   3.891763          15.519148    28.458064   \n2021-03-31       2.776398   6.213952          11.897464    21.263176   \n2021-06-30       2.832298   8.727392          13.824547    17.945906   \n2021-09-30       2.291092   9.683906          18.244101    17.265308   \n2021-12-31       2.509489  10.409276          16.988098    16.382098   \n2022-03-31       2.729519  10.362398          16.540564    17.427543   \n2022-06-30       2.591029  10.121129          15.937465    16.320091   \n2022-09-30       2.495352  10.325389          15.164663    14.659466   \n2022-12-31       1.786364   9.602263          20.736459    15.430886   \n2023-03-31       2.298734   9.171479          18.041346     18.08749   \n\n             Mu Quarterly Price  \nReport Date                      \n2013-06-30            71.142344  \n2013-09-30            75.231250  \n2013-12-31            82.149844  \n2014-03-31            89.327705  \n2014-06-30            90.143333  \n2014-09-30            90.029219  \n2014-12-31            89.646406  \n2015-03-31            83.079672  \n2015-06-30            79.334286  \n2015-09-30            76.937344  \n2015-12-31            72.765469  \n2016-03-31            58.171967  \n2016-06-30            63.348125  \n2016-09-30            64.244219  \n2016-12-31            69.230476  \n2017-03-31            78.179032  \n2017-06-30            79.124444  \n2017-09-30            85.944921  \n2017-12-31            95.238889  \n2018-03-31            96.862787  \n2018-06-30            98.264687  \n2018-09-30           104.003333  \n2018-12-31           104.631270  \n2019-03-31           105.084590  \n2019-06-30           117.455079  \n2019-09-30           122.629219  \n2019-12-31           119.515156  \n2020-03-31           116.351129  \n2020-06-30            92.071111  \n2020-09-30            98.375469  \n2020-12-31           110.752031  \n2021-03-31           132.128361  \n2021-06-30           156.620952  \n2021-09-30           167.195625  \n2021-12-31           170.525781  \n2022-03-31           180.591129  \n2022-06-30           165.177742  \n2022-09-30           151.364688  \n2022-12-31           148.171429  \n2023-03-31           165.889032  ",
      "text/html": "<div>\n<style scoped>\n    .dataframe tbody tr th:only-of-type {\n        vertical-align: middle;\n    }\n\n    .dataframe tbody tr th {\n        vertical-align: top;\n    }\n\n    .dataframe thead th {\n        text-align: right;\n    }\n</style>\n<table border=\"1\" class=\"dataframe\">\n  <thead>\n    <tr style=\"text-align: right;\">\n      <th></th>\n      <th>Quarterly EPS</th>\n      <th>TTM EPS</th>\n      <th>Quarterly PE Ratio</th>\n      <th>TTM PE Ratio</th>\n      <th>Mu Quarterly Price</th>\n    </tr>\n    <tr>\n      <th>Report Date</th>\n      <th></th>\n      <th></th>\n      <th></th>\n      <th></th>\n      <th></th>\n    </tr>\n  </thead>\n  <tbody>\n    <tr>\n      <th>2013-06-30</th>\n      <td>1.280766</td>\n      <td>NaN</td>\n      <td>13.886682</td>\n      <td>NaN</td>\n      <td>71.142344</td>\n    </tr>\n    <tr>\n      <th>2013-09-30</th>\n      <td>1.263645</td>\n      <td>NaN</td>\n      <td>14.883781</td>\n      <td>NaN</td>\n      <td>75.231250</td>\n    </tr>\n    <tr>\n      <th>2013-12-31</th>\n      <td>1.220149</td>\n      <td>NaN</td>\n      <td>16.831925</td>\n      <td>NaN</td>\n      <td>82.149844</td>\n    </tr>\n    <tr>\n      <th>2014-03-31</th>\n      <td>1.342081</td>\n      <td>5.10664</td>\n      <td>16.63978</td>\n      <td>17.492461</td>\n      <td>89.327705</td>\n    </tr>\n    <tr>\n      <th>2014-06-30</th>\n      <td>1.446547</td>\n      <td>5.272421</td>\n      <td>15.579055</td>\n      <td>17.097141</td>\n      <td>90.143333</td>\n    </tr>\n    <tr>\n      <th>2014-09-30</th>\n      <td>1.410697</td>\n      <td>5.419474</td>\n      <td>15.954738</td>\n      <td>16.612169</td>\n      <td>90.029219</td>\n    </tr>\n    <tr>\n      <th>2014-12-31</th>\n      <td>1.400774</td>\n      <td>5.600099</td>\n      <td>15.999436</td>\n      <td>16.008004</td>\n      <td>89.646406</td>\n    </tr>\n    <tr>\n      <th>2015-03-31</th>\n      <td>1.490714</td>\n      <td>5.748732</td>\n      <td>13.93287</td>\n      <td>14.451825</td>\n      <td>83.079672</td>\n    </tr>\n    <tr>\n      <th>2015-06-30</th>\n      <td>1.454097</td>\n      <td>5.756282</td>\n      <td>13.639788</td>\n      <td>13.78221</td>\n      <td>79.334286</td>\n    </tr>\n    <tr>\n      <th>2015-09-30</th>\n      <td>1.269809</td>\n      <td>5.615394</td>\n      <td>15.147419</td>\n      <td>13.701147</td>\n      <td>76.937344</td>\n    </tr>\n    <tr>\n      <th>2015-12-31</th>\n      <td>0.918284</td>\n      <td>5.132904</td>\n      <td>19.810176</td>\n      <td>14.176278</td>\n      <td>72.765469</td>\n    </tr>\n    <tr>\n      <th>2016-03-31</th>\n      <td>1.480789</td>\n      <td>5.122979</td>\n      <td>9.821109</td>\n      <td>11.355105</td>\n      <td>58.171967</td>\n    </tr>\n    <tr>\n      <th>2016-06-30</th>\n      <td>2.141339</td>\n      <td>5.810222</td>\n      <td>7.395854</td>\n      <td>10.902876</td>\n      <td>63.348125</td>\n    </tr>\n    <tr>\n      <th>2016-09-30</th>\n      <td>1.23727</td>\n      <td>5.777682</td>\n      <td>12.981045</td>\n      <td>11.119376</td>\n      <td>64.244219</td>\n    </tr>\n    <tr>\n      <th>2016-12-31</th>\n      <td>0.903614</td>\n      <td>5.763012</td>\n      <td>19.153765</td>\n      <td>12.012897</td>\n      <td>69.230476</td>\n    </tr>\n    <tr>\n      <th>2017-03-31</th>\n      <td>1.369878</td>\n      <td>5.652101</td>\n      <td>14.267515</td>\n      <td>13.831852</td>\n      <td>78.179032</td>\n    </tr>\n    <tr>\n      <th>2017-06-30</th>\n      <td>1.520717</td>\n      <td>5.031479</td>\n      <td>13.007756</td>\n      <td>15.725882</td>\n      <td>79.124444</td>\n    </tr>\n    <tr>\n      <th>2017-09-30</th>\n      <td>1.544318</td>\n      <td>5.338528</td>\n      <td>13.913085</td>\n      <td>16.098994</td>\n      <td>85.944921</td>\n    </tr>\n    <tr>\n      <th>2017-12-31</th>\n      <td>-1.389401</td>\n      <td>3.045512</td>\n      <td>-17.136682</td>\n      <td>31.27188</td>\n      <td>95.238889</td>\n    </tr>\n    <tr>\n      <th>2018-03-31</th>\n      <td>1.897793</td>\n      <td>3.573427</td>\n      <td>12.759923</td>\n      <td>27.106411</td>\n      <td>96.862787</td>\n    </tr>\n    <tr>\n      <th>2018-06-30</th>\n      <td>1.882831</td>\n      <td>3.935541</td>\n      <td>13.047468</td>\n      <td>24.968533</td>\n      <td>98.264687</td>\n    </tr>\n    <tr>\n      <th>2018-09-30</th>\n      <td>1.923256</td>\n      <td>4.314479</td>\n      <td>13.519176</td>\n      <td>24.105654</td>\n      <td>104.003333</td>\n    </tr>\n    <tr>\n      <th>2018-12-31</th>\n      <td>2.356389</td>\n      <td>8.060269</td>\n      <td>11.100805</td>\n      <td>12.981114</td>\n      <td>104.631270</td>\n    </tr>\n    <tr>\n      <th>2019-03-31</th>\n      <td>1.838671</td>\n      <td>8.001147</td>\n      <td>14.288114</td>\n      <td>13.133691</td>\n      <td>105.084590</td>\n    </tr>\n    <tr>\n      <th>2019-06-30</th>\n      <td>2.108982</td>\n      <td>8.227298</td>\n      <td>13.923196</td>\n      <td>14.276263</td>\n      <td>117.455079</td>\n    </tr>\n    <tr>\n      <th>2019-09-30</th>\n      <td>2.122128</td>\n      <td>8.426171</td>\n      <td>14.446491</td>\n      <td>14.553374</td>\n      <td>122.629219</td>\n    </tr>\n    <tr>\n      <th>2019-12-31</th>\n      <td>2.077301</td>\n      <td>8.147082</td>\n      <td>14.383469</td>\n      <td>14.669688</td>\n      <td>119.515156</td>\n    </tr>\n    <tr>\n      <th>2020-03-31</th>\n      <td>0.454208</td>\n      <td>6.762619</td>\n      <td>64.040676</td>\n      <td>17.20504</td>\n      <td>116.351129</td>\n    </tr>\n    <tr>\n      <th>2020-06-30</th>\n      <td>0.318859</td>\n      <td>4.972495</td>\n      <td>72.18805</td>\n      <td>18.516078</td>\n      <td>92.071111</td>\n    </tr>\n    <tr>\n      <th>2020-09-30</th>\n      <td>1.334577</td>\n      <td>4.184944</td>\n      <td>18.42821</td>\n      <td>23.506996</td>\n      <td>98.375469</td>\n    </tr>\n    <tr>\n      <th>2020-12-31</th>\n      <td>1.784119</td>\n      <td>3.891763</td>\n      <td>15.519148</td>\n      <td>28.458064</td>\n      <td>110.752031</td>\n    </tr>\n    <tr>\n      <th>2021-03-31</th>\n      <td>2.776398</td>\n      <td>6.213952</td>\n      <td>11.897464</td>\n      <td>21.263176</td>\n      <td>132.128361</td>\n    </tr>\n    <tr>\n      <th>2021-06-30</th>\n      <td>2.832298</td>\n      <td>8.727392</td>\n      <td>13.824547</td>\n      <td>17.945906</td>\n      <td>156.620952</td>\n    </tr>\n    <tr>\n      <th>2021-09-30</th>\n      <td>2.291092</td>\n      <td>9.683906</td>\n      <td>18.244101</td>\n      <td>17.265308</td>\n      <td>167.195625</td>\n    </tr>\n    <tr>\n      <th>2021-12-31</th>\n      <td>2.509489</td>\n      <td>10.409276</td>\n      <td>16.988098</td>\n      <td>16.382098</td>\n      <td>170.525781</td>\n    </tr>\n    <tr>\n      <th>2022-03-31</th>\n      <td>2.729519</td>\n      <td>10.362398</td>\n      <td>16.540564</td>\n      <td>17.427543</td>\n      <td>180.591129</td>\n    </tr>\n    <tr>\n      <th>2022-06-30</th>\n      <td>2.591029</td>\n      <td>10.121129</td>\n      <td>15.937465</td>\n      <td>16.320091</td>\n      <td>165.177742</td>\n    </tr>\n    <tr>\n      <th>2022-09-30</th>\n      <td>2.495352</td>\n      <td>10.325389</td>\n      <td>15.164663</td>\n      <td>14.659466</td>\n      <td>151.364688</td>\n    </tr>\n    <tr>\n      <th>2022-12-31</th>\n      <td>1.786364</td>\n      <td>9.602263</td>\n      <td>20.736459</td>\n      <td>15.430886</td>\n      <td>148.171429</td>\n    </tr>\n    <tr>\n      <th>2023-03-31</th>\n      <td>2.298734</td>\n      <td>9.171479</td>\n      <td>18.041346</td>\n      <td>18.08749</td>\n      <td>165.889032</td>\n    </tr>\n  </tbody>\n</table>\n</div>"
     },
     "execution_count": 7,
     "metadata": {},
     "output_type": "execute_result"
    }
   ],
   "source": [
    "c.multiples.loc['AXP']"
   ],
   "metadata": {
    "collapsed": false
   }
  },
  {
   "cell_type": "code",
   "execution_count": null,
   "outputs": [],
   "source": [
    "temp = c.m.mu_multiples.loc[config.get_peer_list('V')]\n",
    "temp.index.get_level_values(0)\n",
    "s = pd.Series(config.get_peer_weights('V'), index=config.get_peer_list('V'))\n",
    "temp1 = temp.reset_index(level=0)\n",
    "temp1['New Col'] = 4\n",
    "temp1.map(s)"
   ],
   "metadata": {
    "collapsed": false
   }
  },
  {
   "cell_type": "code",
   "execution_count": null,
   "outputs": [],
   "source": [
    "dp = pn.DailyPrices()\n",
    "dp.get_downsampled_share_price_ratios('V')[sf_cols.PE_TTM].tail(70).plot()"
   ],
   "metadata": {
    "collapsed": false
   }
  },
  {
   "cell_type": "code",
   "execution_count": null,
   "outputs": [],
   "source": [
    "c.m.multiples.loc[('AXP',), pn_cols.TTM_PE_RATIO].plot()"
   ],
   "metadata": {
    "collapsed": false
   }
  },
  {
   "cell_type": "code",
   "execution_count": null,
   "outputs": [],
   "source": [
    "c.m.multiples.loc[('V', '2009-12-31:2010-06-30')]"
   ],
   "metadata": {
    "collapsed": false
   }
  }
 ],
 "metadata": {
  "kernelspec": {
   "display_name": "Python 3",
   "language": "python",
   "name": "python3"
  },
  "language_info": {
   "codemirror_mode": {
    "name": "ipython",
    "version": 2
   },
   "file_extension": ".py",
   "mimetype": "text/x-python",
   "name": "python",
   "nbconvert_exporter": "python",
   "pygments_lexer": "ipython2",
   "version": "2.7.6"
  }
 },
 "nbformat": 4,
 "nbformat_minor": 0
}
