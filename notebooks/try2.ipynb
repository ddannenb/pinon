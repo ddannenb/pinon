{
 "cells": [
  {
   "cell_type": "markdown",
   "source": [
    "## Setup\n",
    "Install accompanying pinon library. It is better to install in dev mode in the conda environment with `pip install -e .` Jupyter server must restart to see changes to conda environment.\n",
    "Auto reload the pinon module.  Other imports may be ignored for auto reload e.g.  `%aimport -simfin`. Note use of option 2 for auto reload and excluding other modules, rather than option 1 and including only reloadable modules.  This is because option 1 does not work correctly with aliased imports."
   ],
   "metadata": {
    "collapsed": false
   }
  },
  {
   "cell_type": "code",
   "execution_count": 1,
   "outputs": [
    {
     "name": "stdout",
     "output_type": "stream",
     "text": [
      "Config file found at: /Users/daved/Dev/pinon/config/master.xlsx\n",
      "Simfin data directory: /Users/daved/Dev/pinon/simfin_data\n",
      "Dataset \"us-companies\" on disk (6 days old).\n",
      "- Loading from disk ... Done!\n",
      "Dataset \"us-income-quarterly\" on disk (2 days old).\n"
     ]
    },
    {
     "name": "stderr",
     "output_type": "stream",
     "text": [
      "/Users/daved/opt/anaconda3/envs/py3_10_8_pinon/lib/python3.10/site-packages/simfin/load.py:144: FutureWarning: The argument 'date_parser' is deprecated and will be removed in a future version. Please use 'date_format' instead, or read your data in as 'object' dtype and then call 'to_datetime'.\n",
      "  df = pd.read_csv(path, sep=';', header=0,\n"
     ]
    },
    {
     "name": "stdout",
     "output_type": "stream",
     "text": [
      "- Downloading ... 100.0%\n",
      "- Extracting zip-file ... Done!\n",
      "- Loading from disk ... "
     ]
    },
    {
     "name": "stderr",
     "output_type": "stream",
     "text": [
      "/Users/daved/opt/anaconda3/envs/py3_10_8_pinon/lib/python3.10/site-packages/simfin/load.py:144: FutureWarning: The argument 'date_parser' is deprecated and will be removed in a future version. Please use 'date_format' instead, or read your data in as 'object' dtype and then call 'to_datetime'.\n",
      "  df = pd.read_csv(path, sep=';', header=0,\n"
     ]
    },
    {
     "name": "stdout",
     "output_type": "stream",
     "text": [
      "Done!\n",
      "Dataset \"us-income-banks-quarterly\" on disk (2 days old).\n",
      "- Downloading ... 100.0%\n",
      "- Extracting zip-file ... Done!\n",
      "- Loading from disk ... Done!\n",
      "Dataset \"us-income-insurance-quarterly\" on disk (2 days old).\n"
     ]
    },
    {
     "name": "stderr",
     "output_type": "stream",
     "text": [
      "/Users/daved/opt/anaconda3/envs/py3_10_8_pinon/lib/python3.10/site-packages/simfin/load.py:144: FutureWarning: The argument 'date_parser' is deprecated and will be removed in a future version. Please use 'date_format' instead, or read your data in as 'object' dtype and then call 'to_datetime'.\n",
      "  df = pd.read_csv(path, sep=';', header=0,\n"
     ]
    },
    {
     "name": "stdout",
     "output_type": "stream",
     "text": [
      "- Downloading ... 100.0%\n",
      "- Extracting zip-file ... Done!\n",
      "- Loading from disk ... Done!\n",
      "Dataset \"us-derived-quarterly\" on disk (2 days old).\n"
     ]
    },
    {
     "name": "stderr",
     "output_type": "stream",
     "text": [
      "/Users/daved/opt/anaconda3/envs/py3_10_8_pinon/lib/python3.10/site-packages/simfin/load.py:144: FutureWarning: The argument 'date_parser' is deprecated and will be removed in a future version. Please use 'date_format' instead, or read your data in as 'object' dtype and then call 'to_datetime'.\n",
      "  df = pd.read_csv(path, sep=';', header=0,\n"
     ]
    },
    {
     "name": "stdout",
     "output_type": "stream",
     "text": [
      "- Downloading ... 100.0%\n",
      "- Extracting zip-file ... Done!\n",
      "- Loading from disk ... "
     ]
    },
    {
     "name": "stderr",
     "output_type": "stream",
     "text": [
      "/Users/daved/opt/anaconda3/envs/py3_10_8_pinon/lib/python3.10/site-packages/simfin/load.py:144: FutureWarning: The argument 'date_parser' is deprecated and will be removed in a future version. Please use 'date_format' instead, or read your data in as 'object' dtype and then call 'to_datetime'.\n",
      "  df = pd.read_csv(path, sep=';', header=0,\n"
     ]
    },
    {
     "name": "stdout",
     "output_type": "stream",
     "text": [
      "Done!\n",
      "Dataset \"us-derived-banks-quarterly\" on disk (2 days old).\n",
      "- Downloading ... 100.0%\n",
      "- Extracting zip-file ... Done!\n",
      "- Loading from disk ... Done!\n",
      "Dataset \"us-derived-insurance-quarterly\" on disk (2 days old).\n"
     ]
    },
    {
     "name": "stderr",
     "output_type": "stream",
     "text": [
      "/Users/daved/opt/anaconda3/envs/py3_10_8_pinon/lib/python3.10/site-packages/simfin/load.py:144: FutureWarning: The argument 'date_parser' is deprecated and will be removed in a future version. Please use 'date_format' instead, or read your data in as 'object' dtype and then call 'to_datetime'.\n",
      "  df = pd.read_csv(path, sep=';', header=0,\n"
     ]
    },
    {
     "name": "stdout",
     "output_type": "stream",
     "text": [
      "- Downloading ... 100.0%\n",
      "- Extracting zip-file ... Done!\n",
      "- Loading from disk ... Done!\n",
      "There is an error in the supplied ticker symbol EEFT in Company List of sheet: V of config file: /Users/daved/Dev/pinon/config/master.xlsx. Company uses non stardard quarterly reporting date not currently supported. Company was dropped from the list.\n",
      "There is an error in the supplied ticker symbol PAGS in Company List of sheet: V of config file: /Users/daved/Dev/pinon/config/master.xlsx. Company was not found and was dropped from the list.\n"
     ]
    },
    {
     "name": "stderr",
     "output_type": "stream",
     "text": [
      "/Users/daved/opt/anaconda3/envs/py3_10_8_pinon/lib/python3.10/site-packages/simfin/load.py:144: FutureWarning: The argument 'date_parser' is deprecated and will be removed in a future version. Please use 'date_format' instead, or read your data in as 'object' dtype and then call 'to_datetime'.\n",
      "  df = pd.read_csv(path, sep=';', header=0,\n"
     ]
    }
   ],
   "source": [
    "# !pip install -e ..\n",
    "\n",
    "%load_ext autoreload\n",
    "%autoreload 2\n",
    "%aimport -pandas\n",
    "%aimport -simfin\n",
    "%aimport -os\n",
    "\n",
    "%aimport pinon\n",
    "\n",
    "%matplotlib inline\n",
    "\n",
    "# imports\n",
    "import pandas as pd\n",
    "import seaborn as sns\n",
    "import os\n",
    "\n",
    "import pinon as pn\n",
    "import pinon.names as pn_cols\n",
    "import simfin as sf\n",
    "import simfin.names as sf_cols  # column name shortcuts\n",
    "\n",
    "config = pn.Config('master', 'V', 10)"
   ],
   "metadata": {
    "collapsed": false
   }
  },
  {
   "cell_type": "code",
   "execution_count": 2,
   "outputs": [
    {
     "name": "stdout",
     "output_type": "stream",
     "text": [
      "Dataset \"us-shareprices-daily\" on disk (2 days old).\n",
      "- Downloading ... 100.0%\n",
      "- Extracting zip-file ... Done!\n",
      "- Loading from disk ... "
     ]
    },
    {
     "name": "stderr",
     "output_type": "stream",
     "text": [
      "/Users/daved/opt/anaconda3/envs/py3_10_8_pinon/lib/python3.10/site-packages/simfin/load.py:144: FutureWarning: The argument 'date_parser' is deprecated and will be removed in a future version. Please use 'date_format' instead, or read your data in as 'object' dtype and then call 'to_datetime'.\n",
      "  df = pd.read_csv(path, sep=';', header=0,\n"
     ]
    },
    {
     "name": "stdout",
     "output_type": "stream",
     "text": [
      "Done!\n",
      "Dataset \"us-derived-shareprices-daily\" on disk (2 days old).\n",
      "- Downloading ... 100.0%\n",
      "- Extracting zip-file ... Done!\n",
      "- Loading from disk ... "
     ]
    },
    {
     "name": "stderr",
     "output_type": "stream",
     "text": [
      "/Users/daved/opt/anaconda3/envs/py3_10_8_pinon/lib/python3.10/site-packages/simfin/load.py:144: FutureWarning: The argument 'date_parser' is deprecated and will be removed in a future version. Please use 'date_format' instead, or read your data in as 'object' dtype and then call 'to_datetime'.\n",
      "  df = pd.read_csv(path, sep=';', header=0,\n"
     ]
    },
    {
     "name": "stdout",
     "output_type": "stream",
     "text": [
      "Done!\n",
      "Adding breaking report for ticker V for report date 2023-03-31\n",
      "Adding breaking report for ticker DFS for report date 2023-03-31\n",
      "Here\n",
      "Here\n"
     ]
    }
   ],
   "source": [
    "comps = pn.Comps(config)\n",
    "comps.run_ratios()\n",
    "comps.run_variations()\n",
    "comps.run_target_ks()"
   ],
   "metadata": {
    "collapsed": false
   }
  },
  {
   "cell_type": "code",
   "execution_count": 4,
   "outputs": [
    {
     "name": "stdout",
     "output_type": "stream",
     "text": [
      "Adding breaking report for ticker V for report date 2023-03-31\n",
      "Here\n"
     ]
    },
    {
     "data": {
      "text/plain": "                   Mu Quarterly PE Ratio Mu TTM Quarterly PE Ratio\nMu Number of Years                                                \n0 year                         28.103719                 30.561229\n1 year                         28.799137                 29.831903\n3 year                         39.424618                 40.806618\n5 year                         38.212554                 39.729736",
      "text/html": "<div>\n<style scoped>\n    .dataframe tbody tr th:only-of-type {\n        vertical-align: middle;\n    }\n\n    .dataframe tbody tr th {\n        vertical-align: top;\n    }\n\n    .dataframe thead th {\n        text-align: right;\n    }\n</style>\n<table border=\"1\" class=\"dataframe\">\n  <thead>\n    <tr style=\"text-align: right;\">\n      <th></th>\n      <th>Mu Quarterly PE Ratio</th>\n      <th>Mu TTM Quarterly PE Ratio</th>\n    </tr>\n    <tr>\n      <th>Mu Number of Years</th>\n      <th></th>\n      <th></th>\n    </tr>\n  </thead>\n  <tbody>\n    <tr>\n      <th>0 year</th>\n      <td>28.103719</td>\n      <td>30.561229</td>\n    </tr>\n    <tr>\n      <th>1 year</th>\n      <td>28.799137</td>\n      <td>29.831903</td>\n    </tr>\n    <tr>\n      <th>3 year</th>\n      <td>39.424618</td>\n      <td>40.806618</td>\n    </tr>\n    <tr>\n      <th>5 year</th>\n      <td>38.212554</td>\n      <td>39.729736</td>\n    </tr>\n  </tbody>\n</table>\n</div>"
     },
     "execution_count": 4,
     "metadata": {},
     "output_type": "execute_result"
    }
   ],
   "source": [
    "m = pn.Multiples('V', config)\n",
    "m.run_mu_multiples()\n",
    "m.mu_multiples"
   ],
   "metadata": {
    "collapsed": false
   }
  },
  {
   "cell_type": "code",
   "execution_count": 10,
   "outputs": [
    {
     "name": "stderr",
     "output_type": "stream",
     "text": [
      "/var/folders/9p/f2tvcxd55k125ycs4hyyx6800000gn/T/ipykernel_81839/1445406272.py:1: PerformanceWarning: indexing past lexsort depth may impact performance.\n",
      "  comps.all_ks.loc['V', 'MA'][pn_cols.K_QTR_PE].plot()\n"
     ]
    },
    {
     "data": {
      "text/plain": "<AxesSubplot: xlabel='Report Date'>"
     },
     "execution_count": 10,
     "metadata": {},
     "output_type": "execute_result"
    },
    {
     "data": {
      "text/plain": "<Figure size 640x480 with 1 Axes>",
      "image/png": "[encoded data removed]"
     },
     "metadata": {},
     "output_type": "display_data"
    }
   ],
   "source": [
    "comps.all_ks.loc['V', 'MA'][pn_cols.K_QTR_PE].plot()"
   ],
   "metadata": {
    "collapsed": false
   }
  },
  {
   "cell_type": "code",
   "execution_count": 8,
   "outputs": [
    {
     "data": {
      "text/plain": "<AxesSubplot: xlabel='Target Ticker,Peer Ticker,Report Date'>"
     },
     "execution_count": 8,
     "metadata": {},
     "output_type": "execute_result"
    },
    {
     "data": {
      "text/plain": "<Figure size 640x480 with 1 Axes>",
      "image/png": "[encoded data removed]"
     },
     "metadata": {},
     "output_type": "display_data"
    }
   ],
   "source": [
    "comps.all_ks.loc[:, pn_cols.K_TTM_QTR_PE].plot()"
   ],
   "metadata": {
    "collapsed": false
   }
  },
  {
   "cell_type": "code",
   "execution_count": null,
   "outputs": [],
   "source": [
    "tr = pn.Multiples('V', config)\n",
    "tr.init_dataframe()\n",
    "tr.calc_quarterly_pe()"
   ],
   "metadata": {
    "collapsed": false
   }
  },
  {
   "cell_type": "code",
   "execution_count": null,
   "outputs": [],
   "source": [
    "tr = pn.Multiples('V', config)\n",
    "tr.init_dataframe()\n",
    "ratios = tr.calc_quarterly_pe()\n",
    "temp = pd.concat([ratios], keys=['V'], names=[sf_cols.TICKER])\n",
    "temp1 = temp.join(ratios)"
   ],
   "metadata": {
    "collapsed": false
   }
  },
  {
   "cell_type": "markdown",
   "source": [
    "Various experiments below"
   ],
   "metadata": {
    "collapsed": false
   }
  },
  {
   "cell_type": "code",
   "execution_count": null,
   "outputs": [],
   "source": [
    "dp = pn.DailyPrices()\n",
    "spr = dp.get_downsampled_share_price_ratios('V')\n",
    "pr = dp.get_downsampled_prices('V')\n",
    "p = dp.get_daily_prices('V')\n",
    "ratios = dp.get_daily_share_price_ratios('V')\n",
    "ratios.loc['2022-10-1':'2022-12-30', sf_cols.PE_QUARTERLY]"
   ],
   "metadata": {
    "collapsed": false
   }
  },
  {
   "cell_type": "code",
   "execution_count": null,
   "outputs": [],
   "source": [
    "fund = pn.Fundamentals()\n",
    "dr = fund.get_quarterly_derived_ratios('V')"
   ],
   "metadata": {
    "collapsed": false
   }
  },
  {
   "cell_type": "code",
   "execution_count": null,
   "outputs": [],
   "source": [
    "comp = pd.DataFrame(index = pe.index, columns=['Closing Price', 'Quarterly EPS', 'SimFin Quarterly EPS', 'PE TTM', 'SimFin PE TTM', 'Qtr PE', 'SimFin Qtr PE'])\n",
    "comp['Closing Price'] = pr.loc[:, sf_cols.CLOSE]\n",
    "comp['Quarterly EPS'] = pe.loc[:, 'Quarterly EPS']\n",
    "comp['SimFin Quarterly EPS'] = dr.loc[:, sf_cols.EPS_DILUTED]\n",
    "comp['PE TTM'] = pe.loc[:, 'TTM PE Ratio']\n",
    "comp['SimFin PE TTM'] = spr.loc[:, sf_cols.PE_TTM]\n",
    "comp['Qtr PE'] = pe.loc[:, pn_cols.QTR_PE_RATIO]\n",
    "comp['SimFin Qtr PE'] = spr.loc[:, sf_cols.PE_QUARTERLY]"
   ],
   "metadata": {
    "collapsed": false
   }
  },
  {
   "cell_type": "code",
   "execution_count": null,
   "outputs": [],
   "source": [
    "p = dp.get_daily_prices('V')\n",
    "inc1 = fund.get_quarterly_income_statement('V')\n",
    "re_inc1 = inc1.asfreq(freq='D', method='ffill')\n",
    "pe_x = pd.DataFrame(columns=['QTR_EPS', 'QTR_PE'])\n",
    "# pe = p.loc[:,sf_cols.CLOSE] / re_inc1.loc[:, sf_cols.NET_INCOME] / re_inc1.loc[:, sf_cols.SHARES_DILUTED]\n",
    "pe_x['QTR_EPS'] = re_inc1.loc[:, sf_cols.NET_INCOME] / re_inc1.loc[:, sf_cols.SHARES_DILUTED]\n",
    "pe_x['QTR_PE'] = p[sf_cols.CLOSE] / pe_x['QTR_EPS']\n",
    "pe_x.loc['2022-07-01':'2022-09-30', 'QTR_PE'].mean()\n",
    "# p.loc['2022-10-01':'2022-12-30', sf_cols.CLOSE].mean()"
   ],
   "metadata": {
    "collapsed": false
   }
  }
 ],
 "metadata": {
  "kernelspec": {
   "display_name": "Python 3",
   "language": "python",
   "name": "python3"
  },
  "language_info": {
   "codemirror_mode": {
    "name": "ipython",
    "version": 2
   },
   "file_extension": ".py",
   "mimetype": "text/x-python",
   "name": "python",
   "nbconvert_exporter": "python",
   "pygments_lexer": "ipython2",
   "version": "2.7.6"
  }
 },
 "nbformat": 4,
 "nbformat_minor": 0
}
