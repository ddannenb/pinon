{
 "cells": [
  {
   "cell_type": "markdown",
   "source": [
    "## Setup\n",
    "Install accompanying pinon library. It is better to install in dev mode in the conda environment with `pip install -e .` Jupyter server must restart to see changes to conda environment.\n",
    "Auto reload the pinon module.  Other imports may be ignored for auto reload e.g.  `%aimport -simfin`. Note use of option 2 for auto reload and excluding other modules, rather than option 1 and including only reloadable modules.  This is because option 1 does not work correctly with aliased imports."
   ],
   "metadata": {
    "collapsed": false
   }
  },
  {
   "cell_type": "code",
   "execution_count": 1,
   "metadata": {
    "collapsed": true
   },
   "outputs": [
    {
     "name": "stdout",
     "output_type": "stream",
     "text": [
      "Config file found at: /Users/daved/Dev/pinon/config/master.xlsx\n",
      "Simfin data directory: /Users/daved/Dev/pinon/simfin_data\n"
     ]
    }
   ],
   "source": [
    "# !pip install -e ..\n",
    "\n",
    "%load_ext autoreload\n",
    "%autoreload 2\n",
    "%aimport -pandas\n",
    "%aimport -simfin\n",
    "%aimport -os\n",
    "\n",
    "%aimport pinon\n",
    "\n",
    "%matplotlib inline\n",
    "\n",
    "# imports\n",
    "import pandas as pd\n",
    "import os\n",
    "\n",
    "import pinon as pn\n",
    "import simfin as sf\n",
    "import simfin.names as sf_cols  # column name shortcuts\n",
    "\n",
    "config = pn.Config('master')"
   ]
  },
  {
   "cell_type": "code",
   "execution_count": 4,
   "outputs": [
    {
     "data": {
      "text/plain": "                    EPS Forecast  Revenue Forecast\nTicker Report Date                                \nV      2023-03-31           1.98              7760\n       2023-06-30           2.09              8010\n       2023-09-30           2.24              8590\n       2023-12-31           2.36              8740\n       2024-03-31           2.31              8690\n       2024-06-30           2.44              8950\n       2024-09-30           2.61              9580\n       2024-12-31           2.69              9660\nAXP    2023-03-31           2.69             14010\n       2023-06-30           2.81             15290\n       2023-09-30           2.88             15390\n       2023-12-31           2.81             16030\n       2024-03-31           2.99             15550\n       2024-06-30           3.15             16800\n       2024-09-30           3.25             16780\n       2024-12-31           3.22             17490\nDFS    2023-03-31           3.99              3690\n       2023-06-30           3.53              3810\n       2023-09-30           3.11              3880\n       2023-12-31           2.93              4010\n       2024-03-31           4.37              3830\n       2024-06-30           3.37              3900\n       2024-09-30           3.34              3990\n       2024-12-31           3.40              4140\nMA     2023-03-31           2.70              5630\n       2023-06-30           3.03              6210\n       2023-09-30           3.25              6570\n       2023-12-31           3.23              6680\n       2024-03-31           3.23              6390\n       2024-06-30           3.63              7060\n       2024-09-30           3.88              7470\n       2024-12-31           3.87              7640",
      "text/html": "<div>\n<style scoped>\n    .dataframe tbody tr th:only-of-type {\n        vertical-align: middle;\n    }\n\n    .dataframe tbody tr th {\n        vertical-align: top;\n    }\n\n    .dataframe thead th {\n        text-align: right;\n    }\n</style>\n<table border=\"1\" class=\"dataframe\">\n  <thead>\n    <tr style=\"text-align: right;\">\n      <th></th>\n      <th></th>\n      <th>EPS Forecast</th>\n      <th>Revenue Forecast</th>\n    </tr>\n    <tr>\n      <th>Ticker</th>\n      <th>Report Date</th>\n      <th></th>\n      <th></th>\n    </tr>\n  </thead>\n  <tbody>\n    <tr>\n      <th rowspan=\"8\" valign=\"top\">V</th>\n      <th>2023-03-31</th>\n      <td>1.98</td>\n      <td>7760</td>\n    </tr>\n    <tr>\n      <th>2023-06-30</th>\n      <td>2.09</td>\n      <td>8010</td>\n    </tr>\n    <tr>\n      <th>2023-09-30</th>\n      <td>2.24</td>\n      <td>8590</td>\n    </tr>\n    <tr>\n      <th>2023-12-31</th>\n      <td>2.36</td>\n      <td>8740</td>\n    </tr>\n    <tr>\n      <th>2024-03-31</th>\n      <td>2.31</td>\n      <td>8690</td>\n    </tr>\n    <tr>\n      <th>2024-06-30</th>\n      <td>2.44</td>\n      <td>8950</td>\n    </tr>\n    <tr>\n      <th>2024-09-30</th>\n      <td>2.61</td>\n      <td>9580</td>\n    </tr>\n    <tr>\n      <th>2024-12-31</th>\n      <td>2.69</td>\n      <td>9660</td>\n    </tr>\n    <tr>\n      <th rowspan=\"8\" valign=\"top\">AXP</th>\n      <th>2023-03-31</th>\n      <td>2.69</td>\n      <td>14010</td>\n    </tr>\n    <tr>\n      <th>2023-06-30</th>\n      <td>2.81</td>\n      <td>15290</td>\n    </tr>\n    <tr>\n      <th>2023-09-30</th>\n      <td>2.88</td>\n      <td>15390</td>\n    </tr>\n    <tr>\n      <th>2023-12-31</th>\n      <td>2.81</td>\n      <td>16030</td>\n    </tr>\n    <tr>\n      <th>2024-03-31</th>\n      <td>2.99</td>\n      <td>15550</td>\n    </tr>\n    <tr>\n      <th>2024-06-30</th>\n      <td>3.15</td>\n      <td>16800</td>\n    </tr>\n    <tr>\n      <th>2024-09-30</th>\n      <td>3.25</td>\n      <td>16780</td>\n    </tr>\n    <tr>\n      <th>2024-12-31</th>\n      <td>3.22</td>\n      <td>17490</td>\n    </tr>\n    <tr>\n      <th rowspan=\"8\" valign=\"top\">DFS</th>\n      <th>2023-03-31</th>\n      <td>3.99</td>\n      <td>3690</td>\n    </tr>\n    <tr>\n      <th>2023-06-30</th>\n      <td>3.53</td>\n      <td>3810</td>\n    </tr>\n    <tr>\n      <th>2023-09-30</th>\n      <td>3.11</td>\n      <td>3880</td>\n    </tr>\n    <tr>\n      <th>2023-12-31</th>\n      <td>2.93</td>\n      <td>4010</td>\n    </tr>\n    <tr>\n      <th>2024-03-31</th>\n      <td>4.37</td>\n      <td>3830</td>\n    </tr>\n    <tr>\n      <th>2024-06-30</th>\n      <td>3.37</td>\n      <td>3900</td>\n    </tr>\n    <tr>\n      <th>2024-09-30</th>\n      <td>3.34</td>\n      <td>3990</td>\n    </tr>\n    <tr>\n      <th>2024-12-31</th>\n      <td>3.40</td>\n      <td>4140</td>\n    </tr>\n    <tr>\n      <th rowspan=\"8\" valign=\"top\">MA</th>\n      <th>2023-03-31</th>\n      <td>2.70</td>\n      <td>5630</td>\n    </tr>\n    <tr>\n      <th>2023-06-30</th>\n      <td>3.03</td>\n      <td>6210</td>\n    </tr>\n    <tr>\n      <th>2023-09-30</th>\n      <td>3.25</td>\n      <td>6570</td>\n    </tr>\n    <tr>\n      <th>2023-12-31</th>\n      <td>3.23</td>\n      <td>6680</td>\n    </tr>\n    <tr>\n      <th>2024-03-31</th>\n      <td>3.23</td>\n      <td>6390</td>\n    </tr>\n    <tr>\n      <th>2024-06-30</th>\n      <td>3.63</td>\n      <td>7060</td>\n    </tr>\n    <tr>\n      <th>2024-09-30</th>\n      <td>3.88</td>\n      <td>7470</td>\n    </tr>\n    <tr>\n      <th>2024-12-31</th>\n      <td>3.87</td>\n      <td>7640</td>\n    </tr>\n  </tbody>\n</table>\n</div>"
     },
     "execution_count": 4,
     "metadata": {},
     "output_type": "execute_result"
    }
   ],
   "source": [
    "pf = config.parse_forecasts('V')\n",
    "pf"
   ],
   "metadata": {
    "collapsed": false
   }
  },
  {
   "cell_type": "code",
   "execution_count": 7,
   "outputs": [
    {
     "data": {
      "text/plain": "DatetimeIndex(['2023-03-31', '2023-06-30', '2023-09-30', '2023-12-31',\n               '2024-03-31', '2024-06-30', '2024-09-30', '2024-12-31'],\n              dtype='datetime64[ns]', name='Report Date', freq=None)"
     },
     "execution_count": 7,
     "metadata": {},
     "output_type": "execute_result"
    }
   ],
   "source": [
    "pf.loc['AXP'].index"
   ],
   "metadata": {
    "collapsed": false
   }
  },
  {
   "cell_type": "code",
   "execution_count": 53,
   "outputs": [
    {
     "data": {
      "text/plain": "                    EPS Breaking  Revenue Breaking\nTicker Report Date                                \nV      2023-03-31           1.98              7760\n       2022-12-31           1.79              6643\nAXP    2022-12-31           2.70             14010\nDFS    2023-03-31           4.01              3690",
      "text/html": "<div>\n<style scoped>\n    .dataframe tbody tr th:only-of-type {\n        vertical-align: middle;\n    }\n\n    .dataframe tbody tr th {\n        vertical-align: top;\n    }\n\n    .dataframe thead th {\n        text-align: right;\n    }\n</style>\n<table border=\"1\" class=\"dataframe\">\n  <thead>\n    <tr style=\"text-align: right;\">\n      <th></th>\n      <th></th>\n      <th>EPS Breaking</th>\n      <th>Revenue Breaking</th>\n    </tr>\n    <tr>\n      <th>Ticker</th>\n      <th>Report Date</th>\n      <th></th>\n      <th></th>\n    </tr>\n  </thead>\n  <tbody>\n    <tr>\n      <th rowspan=\"2\" valign=\"top\">V</th>\n      <th>2023-03-31</th>\n      <td>1.98</td>\n      <td>7760</td>\n    </tr>\n    <tr>\n      <th>2022-12-31</th>\n      <td>1.79</td>\n      <td>6643</td>\n    </tr>\n    <tr>\n      <th>AXP</th>\n      <th>2022-12-31</th>\n      <td>2.70</td>\n      <td>14010</td>\n    </tr>\n    <tr>\n      <th>DFS</th>\n      <th>2023-03-31</th>\n      <td>4.01</td>\n      <td>3690</td>\n    </tr>\n  </tbody>\n</table>\n</div>"
     },
     "execution_count": 53,
     "metadata": {},
     "output_type": "execute_result"
    }
   ],
   "source": [
    "br = config.parse_breaking_reports('V')\n",
    "br"
   ],
   "metadata": {
    "collapsed": false
   }
  },
  {
   "cell_type": "code",
   "execution_count": 62,
   "outputs": [],
   "source": [
    "one = br.loc['V']"
   ],
   "metadata": {
    "collapsed": false
   }
  },
  {
   "cell_type": "code",
   "execution_count": 63,
   "outputs": [
    {
     "data": {
      "text/plain": "DatetimeIndex(['2023-03-31', '2022-12-31'], dtype='datetime64[ns]', name='Report Date', freq=None)"
     },
     "execution_count": 63,
     "metadata": {},
     "output_type": "execute_result"
    }
   ],
   "source": [
    "one.index"
   ],
   "metadata": {
    "collapsed": false
   }
  },
  {
   "cell_type": "code",
   "execution_count": 56,
   "outputs": [
    {
     "name": "stdout",
     "output_type": "stream",
     "text": [
      "There is an error in the supplied ticker symbol EEFT in Company List of sheet: V of config file: /Users/daved/Dev/pinon/config/master.xlsx. Company uses non stardard quarterly reporting date not currently supported. Company was dropped from the list.\n",
      "There is an error in the supplied ticker symbol PAGS in Company List of sheet: V of config file: /Users/daved/Dev/pinon/config/master.xlsx. Company was not found and was dropped from the list.\n",
      "There is an error in the supplied ticker symbol INTC in Company List of sheet: V of config file: /Users/daved/Dev/pinon/config/master.xlsx. Financials are not available, company was dropped from the list.\n"
     ]
    },
    {
     "data": {
      "text/plain": "                       Company Name IndustryId Simfin Schema   \nTicker                                                         \nV                         VISA INC.   104007.0        normal  \\\nAXP             AMERICAN EXPRESS CO   104007.0          bank   \nDFS     Discover Financial Services   104007.0          bank   \nMA                   Mastercard Inc   104007.0        normal   \nPYPL          PayPal Holdings, Inc.   104007.0        normal   \nCOF           Capital One Financial   104007.0          bank   \nWU                 Western Union Co   104007.0        normal   \nBAC       BANK OF AMERICA CORP /DE/   104002.0          bank   \n\n       Past Years Requested Peer Weight Evaluate   \nTicker                                             \nV                        10         100     True  \\\nAXP                      10         100     True   \nDFS                      10         100     True   \nMA                       10         100     True   \nPYPL                     10          80    False   \nCOF                      10          60    False   \nWU                       10          60    False   \nBAC                      10          60    False   \n\n                                 Peer List First Report Date Last Report Date  \nTicker                                                                         \nV       [AXP, DFS, MA, PYPL, COF, WU, BAC]        2007-09-30       2022-12-31  \nAXP       [V, DFS, MA, PYPL, COF, WU, BAC]        2009-06-30       2022-12-31  \nDFS       [V, AXP, MA, PYPL, COF, WU, BAC]        2009-09-30       2022-12-31  \nMA       [V, AXP, DFS, PYPL, COF, WU, BAC]        2009-06-30       2022-12-31  \nPYPL                                  None        2015-06-30       2022-12-31  \nCOF                                   None        2009-06-30       2022-12-31  \nWU                                    None        2008-12-31       2022-12-31  \nBAC                                   None        2011-09-30       2022-12-31  ",
      "text/html": "<div>\n<style scoped>\n    .dataframe tbody tr th:only-of-type {\n        vertical-align: middle;\n    }\n\n    .dataframe tbody tr th {\n        vertical-align: top;\n    }\n\n    .dataframe thead th {\n        text-align: right;\n    }\n</style>\n<table border=\"1\" class=\"dataframe\">\n  <thead>\n    <tr style=\"text-align: right;\">\n      <th></th>\n      <th>Company Name</th>\n      <th>IndustryId</th>\n      <th>Simfin Schema</th>\n      <th>Past Years Requested</th>\n      <th>Peer Weight</th>\n      <th>Evaluate</th>\n      <th>Peer List</th>\n      <th>First Report Date</th>\n      <th>Last Report Date</th>\n    </tr>\n    <tr>\n      <th>Ticker</th>\n      <th></th>\n      <th></th>\n      <th></th>\n      <th></th>\n      <th></th>\n      <th></th>\n      <th></th>\n      <th></th>\n      <th></th>\n    </tr>\n  </thead>\n  <tbody>\n    <tr>\n      <th>V</th>\n      <td>VISA INC.</td>\n      <td>104007.0</td>\n      <td>normal</td>\n      <td>10</td>\n      <td>100</td>\n      <td>True</td>\n      <td>[AXP, DFS, MA, PYPL, COF, WU, BAC]</td>\n      <td>2007-09-30</td>\n      <td>2022-12-31</td>\n    </tr>\n    <tr>\n      <th>AXP</th>\n      <td>AMERICAN EXPRESS CO</td>\n      <td>104007.0</td>\n      <td>bank</td>\n      <td>10</td>\n      <td>100</td>\n      <td>True</td>\n      <td>[V, DFS, MA, PYPL, COF, WU, BAC]</td>\n      <td>2009-06-30</td>\n      <td>2022-12-31</td>\n    </tr>\n    <tr>\n      <th>DFS</th>\n      <td>Discover Financial Services</td>\n      <td>104007.0</td>\n      <td>bank</td>\n      <td>10</td>\n      <td>100</td>\n      <td>True</td>\n      <td>[V, AXP, MA, PYPL, COF, WU, BAC]</td>\n      <td>2009-09-30</td>\n      <td>2022-12-31</td>\n    </tr>\n    <tr>\n      <th>MA</th>\n      <td>Mastercard Inc</td>\n      <td>104007.0</td>\n      <td>normal</td>\n      <td>10</td>\n      <td>100</td>\n      <td>True</td>\n      <td>[V, AXP, DFS, PYPL, COF, WU, BAC]</td>\n      <td>2009-06-30</td>\n      <td>2022-12-31</td>\n    </tr>\n    <tr>\n      <th>PYPL</th>\n      <td>PayPal Holdings, Inc.</td>\n      <td>104007.0</td>\n      <td>normal</td>\n      <td>10</td>\n      <td>80</td>\n      <td>False</td>\n      <td>None</td>\n      <td>2015-06-30</td>\n      <td>2022-12-31</td>\n    </tr>\n    <tr>\n      <th>COF</th>\n      <td>Capital One Financial</td>\n      <td>104007.0</td>\n      <td>bank</td>\n      <td>10</td>\n      <td>60</td>\n      <td>False</td>\n      <td>None</td>\n      <td>2009-06-30</td>\n      <td>2022-12-31</td>\n    </tr>\n    <tr>\n      <th>WU</th>\n      <td>Western Union Co</td>\n      <td>104007.0</td>\n      <td>normal</td>\n      <td>10</td>\n      <td>60</td>\n      <td>False</td>\n      <td>None</td>\n      <td>2008-12-31</td>\n      <td>2022-12-31</td>\n    </tr>\n    <tr>\n      <th>BAC</th>\n      <td>BANK OF AMERICA CORP /DE/</td>\n      <td>104002.0</td>\n      <td>bank</td>\n      <td>10</td>\n      <td>60</td>\n      <td>False</td>\n      <td>None</td>\n      <td>2011-09-30</td>\n      <td>2022-12-31</td>\n    </tr>\n  </tbody>\n</table>\n</div>"
     },
     "execution_count": 56,
     "metadata": {},
     "output_type": "execute_result"
    }
   ],
   "source": [
    "ts = config.parse_target_sheet('V', 10)\n",
    "ts"
   ],
   "metadata": {
    "collapsed": false
   }
  },
  {
   "cell_type": "code",
   "execution_count": 59,
   "outputs": [],
   "source": [
    "fund = pn.Fundamentals()\n",
    "inc1 = fund.get_quarterly_income_statement('XOM')"
   ],
   "metadata": {
    "collapsed": false
   }
  },
  {
   "cell_type": "code",
   "execution_count": 61,
   "outputs": [
    {
     "data": {
      "text/plain": "DatetimeIndex(['2005-12-31', '2006-03-31', '2006-06-30', '2006-09-30',\n               '2006-12-31', '2007-03-31', '2007-06-30', '2007-09-30',\n               '2007-12-31', '2008-03-31', '2008-06-30', '2008-09-30',\n               '2008-12-31', '2009-03-31', '2009-06-30', '2009-09-30',\n               '2009-12-31', '2010-03-31', '2010-06-30', '2010-09-30',\n               '2010-12-31', '2011-03-31', '2011-06-30', '2011-09-30',\n               '2011-12-31', '2012-03-31', '2012-06-30', '2012-09-30',\n               '2012-12-31', '2013-03-31', '2013-06-30', '2013-09-30',\n               '2013-12-31', '2014-03-31', '2014-06-30', '2014-09-30',\n               '2014-12-31', '2015-03-31', '2015-06-30', '2015-09-30',\n               '2015-12-31', '2016-03-31', '2016-06-30', '2016-09-30',\n               '2016-12-31', '2017-03-31', '2017-06-30', '2017-09-30',\n               '2017-12-31', '2018-03-31', '2018-06-30', '2018-09-30',\n               '2018-12-31', '2019-03-31', '2019-06-30', '2019-09-30',\n               '2019-12-31', '2020-03-31', '2020-06-30', '2020-09-30',\n               '2020-12-31', '2021-03-31', '2021-06-30', '2021-09-30',\n               '2021-12-31', '2022-03-31', '2022-06-30', '2022-09-30',\n               '2022-12-31'],\n              dtype='datetime64[ns]', name='Report Date', freq=None)"
     },
     "execution_count": 61,
     "metadata": {},
     "output_type": "execute_result"
    }
   ],
   "source": [
    "inc1.index"
   ],
   "metadata": {
    "collapsed": false
   }
  }
 ],
 "metadata": {
  "kernelspec": {
   "display_name": "Python 3",
   "language": "python",
   "name": "python3"
  },
  "language_info": {
   "codemirror_mode": {
    "name": "ipython",
    "version": 2
   },
   "file_extension": ".py",
   "mimetype": "text/x-python",
   "name": "python",
   "nbconvert_exporter": "python",
   "pygments_lexer": "ipython2",
   "version": "2.7.6"
  }
 },
 "nbformat": 4,
 "nbformat_minor": 0
}
