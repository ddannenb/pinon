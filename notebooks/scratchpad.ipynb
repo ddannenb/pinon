{
 "cells": [
  {
   "cell_type": "code",
   "execution_count": 2,
   "outputs": [],
   "source": [
    "%matplotlib inline\n",
    "\n",
    "import pandas as pd\n",
    "import numpy as np\n",
    "from pandas import IndexSlice as idx"
   ],
   "metadata": {
    "collapsed": false
   }
  },
  {
   "cell_type": "code",
   "execution_count": 3,
   "outputs": [],
   "source": [
    "df = pd.read_csv('dataset.csv', index_col=[0,1], header=[0,1])"
   ],
   "metadata": {
    "collapsed": false
   }
  },
  {
   "cell_type": "code",
   "execution_count": 32,
   "outputs": [
    {
     "data": {
      "text/plain": "                                 Day                                 \n                     Max Temperature            Weather       Wind   \nCity      Date                                                       \nCambridge 2019-07-01              24             Shower  SW 16 mph  \\\n          2019-07-02              21  Scattered showers   E 20 mph   \n          2019-07-03              22  Scattered showers  SE 10 mph   \n          2019-07-04              22             Shower   S 25 mph   \nLondon    2019-07-01              28             Shower  SW 16 mph   \n          2019-07-02              29             Shower  SW 16 mph   \n          2019-07-03              29  Scattered showers  SW 16 mph   \n          2019-07-04              31      Mostly cloudy  SW 16 mph   \nOxford    2019-07-01              25             Shower  SW 13 mph   \n          2019-07-02              26             Shower  SW 16 mph   \n          2019-07-03              28  Scattered showers  SW 16 mph   \n          2019-07-04              25             Shower  SW 14 mph   \n\n                               Night                                \n                     Max Temperature            Weather       Wind  \nCity      Date                                                      \nCambridge 2019-07-01              17             Shower  SW 16 mph  \n          2019-07-02              16  Scattered showers   E 20 mph  \n          2019-07-03              16  Scattered showers  SE 10 mph  \n          2019-07-04              16      Mostly cloudy   S 25 mph  \nLondon    2019-07-01              18             Shower  SW 16 mph  \n          2019-07-02              17         Heavy rain  SW 16 mph  \n          2019-07-03              19         Heavy rain  SW 16 mph  \n          2019-07-04              23      Mostly cloudy  SW 16 mph  \nOxford    2019-07-01              19             Shower  SW 16 mph  \n          2019-07-02              19             Shower  SW 16 mph  \n          2019-07-03              22  Scattered showers  SW 16 mph  \n          2019-07-04              21             Shower  SW 16 mph  ",
      "text/html": "<div>\n<style scoped>\n    .dataframe tbody tr th:only-of-type {\n        vertical-align: middle;\n    }\n\n    .dataframe tbody tr th {\n        vertical-align: top;\n    }\n\n    .dataframe thead tr th {\n        text-align: left;\n    }\n\n    .dataframe thead tr:last-of-type th {\n        text-align: right;\n    }\n</style>\n<table border=\"1\" class=\"dataframe\">\n  <thead>\n    <tr>\n      <th></th>\n      <th></th>\n      <th colspan=\"3\" halign=\"left\">Day</th>\n      <th colspan=\"3\" halign=\"left\">Night</th>\n    </tr>\n    <tr>\n      <th></th>\n      <th></th>\n      <th>Max Temperature</th>\n      <th>Weather</th>\n      <th>Wind</th>\n      <th>Max Temperature</th>\n      <th>Weather</th>\n      <th>Wind</th>\n    </tr>\n    <tr>\n      <th>City</th>\n      <th>Date</th>\n      <th></th>\n      <th></th>\n      <th></th>\n      <th></th>\n      <th></th>\n      <th></th>\n    </tr>\n  </thead>\n  <tbody>\n    <tr>\n      <th rowspan=\"4\" valign=\"top\">Cambridge</th>\n      <th>2019-07-01</th>\n      <td>24</td>\n      <td>Shower</td>\n      <td>SW 16 mph</td>\n      <td>17</td>\n      <td>Shower</td>\n      <td>SW 16 mph</td>\n    </tr>\n    <tr>\n      <th>2019-07-02</th>\n      <td>21</td>\n      <td>Scattered showers</td>\n      <td>E 20 mph</td>\n      <td>16</td>\n      <td>Scattered showers</td>\n      <td>E 20 mph</td>\n    </tr>\n    <tr>\n      <th>2019-07-03</th>\n      <td>22</td>\n      <td>Scattered showers</td>\n      <td>SE 10 mph</td>\n      <td>16</td>\n      <td>Scattered showers</td>\n      <td>SE 10 mph</td>\n    </tr>\n    <tr>\n      <th>2019-07-04</th>\n      <td>22</td>\n      <td>Shower</td>\n      <td>S 25 mph</td>\n      <td>16</td>\n      <td>Mostly cloudy</td>\n      <td>S 25 mph</td>\n    </tr>\n    <tr>\n      <th rowspan=\"4\" valign=\"top\">London</th>\n      <th>2019-07-01</th>\n      <td>28</td>\n      <td>Shower</td>\n      <td>SW 16 mph</td>\n      <td>18</td>\n      <td>Shower</td>\n      <td>SW 16 mph</td>\n    </tr>\n    <tr>\n      <th>2019-07-02</th>\n      <td>29</td>\n      <td>Shower</td>\n      <td>SW 16 mph</td>\n      <td>17</td>\n      <td>Heavy rain</td>\n      <td>SW 16 mph</td>\n    </tr>\n    <tr>\n      <th>2019-07-03</th>\n      <td>29</td>\n      <td>Scattered showers</td>\n      <td>SW 16 mph</td>\n      <td>19</td>\n      <td>Heavy rain</td>\n      <td>SW 16 mph</td>\n    </tr>\n    <tr>\n      <th>2019-07-04</th>\n      <td>31</td>\n      <td>Mostly cloudy</td>\n      <td>SW 16 mph</td>\n      <td>23</td>\n      <td>Mostly cloudy</td>\n      <td>SW 16 mph</td>\n    </tr>\n    <tr>\n      <th rowspan=\"4\" valign=\"top\">Oxford</th>\n      <th>2019-07-01</th>\n      <td>25</td>\n      <td>Shower</td>\n      <td>SW 13 mph</td>\n      <td>19</td>\n      <td>Shower</td>\n      <td>SW 16 mph</td>\n    </tr>\n    <tr>\n      <th>2019-07-02</th>\n      <td>26</td>\n      <td>Shower</td>\n      <td>SW 16 mph</td>\n      <td>19</td>\n      <td>Shower</td>\n      <td>SW 16 mph</td>\n    </tr>\n    <tr>\n      <th>2019-07-03</th>\n      <td>28</td>\n      <td>Scattered showers</td>\n      <td>SW 16 mph</td>\n      <td>22</td>\n      <td>Scattered showers</td>\n      <td>SW 16 mph</td>\n    </tr>\n    <tr>\n      <th>2019-07-04</th>\n      <td>25</td>\n      <td>Shower</td>\n      <td>SW 14 mph</td>\n      <td>21</td>\n      <td>Shower</td>\n      <td>SW 16 mph</td>\n    </tr>\n  </tbody>\n</table>\n</div>"
     },
     "execution_count": 32,
     "metadata": {},
     "output_type": "execute_result"
    }
   ],
   "source": [
    "df = df.sort_index(axis=1)\n",
    "df"
   ],
   "metadata": {
    "collapsed": false
   }
  },
  {
   "cell_type": "code",
   "execution_count": 23,
   "outputs": [
    {
     "data": {
      "text/plain": "MultiIndex([(  'Day', 'Max Temperature'),\n            (  'Day',         'Weather'),\n            (  'Day',            'Wind'),\n            ('Night', 'Max Temperature'),\n            ('Night',         'Weather'),\n            ('Night',            'Wind')],\n           )"
     },
     "execution_count": 23,
     "metadata": {},
     "output_type": "execute_result"
    }
   ],
   "source": [
    "df.columns"
   ],
   "metadata": {
    "collapsed": false
   }
  },
  {
   "cell_type": "code",
   "execution_count": 21,
   "outputs": [
    {
     "data": {
      "text/plain": "City       Date      \nLondon     2019-07-03    Scattered showers\nCambridge  2019-07-03    Scattered showers\nName: (Day, Weather), dtype: object"
     },
     "execution_count": 21,
     "metadata": {},
     "output_type": "execute_result"
    }
   ],
   "source": [
    "df.loc[(['London', 'Cambridge'], '2019-07-03'), ('Day', 'Weather')]"
   ],
   "metadata": {
    "collapsed": false
   }
  },
  {
   "cell_type": "code",
   "execution_count": 45,
   "outputs": [
    {
     "data": {
      "text/plain": "        Cat1                          Cat2                    \n           A         B         C         A         B         C\nAi  0.651760  0.474303  0.699982  0.180668  0.264980  0.958998\nBi  0.534056  0.928352  0.743391  0.385460  0.206628  0.068672",
      "text/html": "<div>\n<style scoped>\n    .dataframe tbody tr th:only-of-type {\n        vertical-align: middle;\n    }\n\n    .dataframe tbody tr th {\n        vertical-align: top;\n    }\n\n    .dataframe thead tr th {\n        text-align: left;\n    }\n</style>\n<table border=\"1\" class=\"dataframe\">\n  <thead>\n    <tr>\n      <th></th>\n      <th colspan=\"3\" halign=\"left\">Cat1</th>\n      <th colspan=\"3\" halign=\"left\">Cat2</th>\n    </tr>\n    <tr>\n      <th></th>\n      <th>A</th>\n      <th>B</th>\n      <th>C</th>\n      <th>A</th>\n      <th>B</th>\n      <th>C</th>\n    </tr>\n  </thead>\n  <tbody>\n    <tr>\n      <th>Ai</th>\n      <td>0.651760</td>\n      <td>0.474303</td>\n      <td>0.699982</td>\n      <td>0.180668</td>\n      <td>0.264980</td>\n      <td>0.958998</td>\n    </tr>\n    <tr>\n      <th>Bi</th>\n      <td>0.534056</td>\n      <td>0.928352</td>\n      <td>0.743391</td>\n      <td>0.385460</td>\n      <td>0.206628</td>\n      <td>0.068672</td>\n    </tr>\n  </tbody>\n</table>\n</div>"
     },
     "execution_count": 45,
     "metadata": {},
     "output_type": "execute_result"
    }
   ],
   "source": [
    "df1 = pd.DataFrame(index=pd.Index(['Ai', 'Bi']), data=np.random.random((2, 6)))\n",
    "df1.columns = pd.MultiIndex.from_product([['Cat1', 'Cat2'], ['A', 'B', 'C']])\n",
    "df1"
   ],
   "metadata": {
    "collapsed": false
   }
  }
 ],
 "metadata": {
  "kernelspec": {
   "display_name": "Python 3",
   "language": "python",
   "name": "python3"
  },
  "language_info": {
   "codemirror_mode": {
    "name": "ipython",
    "version": 2
   },
   "file_extension": ".py",
   "mimetype": "text/x-python",
   "name": "python",
   "nbconvert_exporter": "python",
   "pygments_lexer": "ipython2",
   "version": "2.7.6"
  }
 },
 "nbformat": 4,
 "nbformat_minor": 0
}
