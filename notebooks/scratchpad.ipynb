{
 "cells": [
  {
   "cell_type": "code",
   "execution_count": 1,
   "outputs": [],
   "source": [
    "%matplotlib inline\n",
    "\n",
    "import pandas as pd"
   ],
   "metadata": {
    "collapsed": false
   }
  },
  {
   "cell_type": "code",
   "execution_count": 4,
   "metadata": {
    "collapsed": true
   },
   "outputs": [
    {
     "data": {
      "text/plain": "     name  age     sex\n0  Olivia   32  female\n1    Dean   23    male\n2    Alex   45    male\n3     Jon   35    male\n4     Tom   20    male\n5    Jane   28  female\n6    Kate   55  female",
      "text/html": "<div>\n<style scoped>\n    .dataframe tbody tr th:only-of-type {\n        vertical-align: middle;\n    }\n\n    .dataframe tbody tr th {\n        vertical-align: top;\n    }\n\n    .dataframe thead th {\n        text-align: right;\n    }\n</style>\n<table border=\"1\" class=\"dataframe\">\n  <thead>\n    <tr style=\"text-align: right;\">\n      <th></th>\n      <th>name</th>\n      <th>age</th>\n      <th>sex</th>\n    </tr>\n  </thead>\n  <tbody>\n    <tr>\n      <th>0</th>\n      <td>Olivia</td>\n      <td>32</td>\n      <td>female</td>\n    </tr>\n    <tr>\n      <th>1</th>\n      <td>Dean</td>\n      <td>23</td>\n      <td>male</td>\n    </tr>\n    <tr>\n      <th>2</th>\n      <td>Alex</td>\n      <td>45</td>\n      <td>male</td>\n    </tr>\n    <tr>\n      <th>3</th>\n      <td>Jon</td>\n      <td>35</td>\n      <td>male</td>\n    </tr>\n    <tr>\n      <th>4</th>\n      <td>Tom</td>\n      <td>20</td>\n      <td>male</td>\n    </tr>\n    <tr>\n      <th>5</th>\n      <td>Jane</td>\n      <td>28</td>\n      <td>female</td>\n    </tr>\n    <tr>\n      <th>6</th>\n      <td>Kate</td>\n      <td>55</td>\n      <td>female</td>\n    </tr>\n  </tbody>\n</table>\n</div>"
     },
     "execution_count": 4,
     "metadata": {},
     "output_type": "execute_result"
    }
   ],
   "source": [
    "df = pd.DataFrame({'name': ['Olivia','Dean','Alex','Jon','Tom','Jane','Kate'], \\\n",
    "                   'age': [32,23,45,35,20,28,55], \\\n",
    "                   'sex':['female', 'male','male','male','male','female','female']})\n",
    "\n",
    "df"
   ]
  },
  {
   "cell_type": "code",
   "execution_count": 8,
   "outputs": [
    {
     "data": {
      "text/plain": "     name  age     sex\n0  Olivia   32  female\n1    Dean   23    male\n2    Alex   46    male\n3     Jon   35    male\n4     Tom   20    male\n5    Jane   28  female\n6    Kate   55  female",
      "text/html": "<div>\n<style scoped>\n    .dataframe tbody tr th:only-of-type {\n        vertical-align: middle;\n    }\n\n    .dataframe tbody tr th {\n        vertical-align: top;\n    }\n\n    .dataframe thead th {\n        text-align: right;\n    }\n</style>\n<table border=\"1\" class=\"dataframe\">\n  <thead>\n    <tr style=\"text-align: right;\">\n      <th></th>\n      <th>name</th>\n      <th>age</th>\n      <th>sex</th>\n    </tr>\n  </thead>\n  <tbody>\n    <tr>\n      <th>0</th>\n      <td>Olivia</td>\n      <td>32</td>\n      <td>female</td>\n    </tr>\n    <tr>\n      <th>1</th>\n      <td>Dean</td>\n      <td>23</td>\n      <td>male</td>\n    </tr>\n    <tr>\n      <th>2</th>\n      <td>Alex</td>\n      <td>46</td>\n      <td>male</td>\n    </tr>\n    <tr>\n      <th>3</th>\n      <td>Jon</td>\n      <td>35</td>\n      <td>male</td>\n    </tr>\n    <tr>\n      <th>4</th>\n      <td>Tom</td>\n      <td>20</td>\n      <td>male</td>\n    </tr>\n    <tr>\n      <th>5</th>\n      <td>Jane</td>\n      <td>28</td>\n      <td>female</td>\n    </tr>\n    <tr>\n      <th>6</th>\n      <td>Kate</td>\n      <td>55</td>\n      <td>female</td>\n    </tr>\n  </tbody>\n</table>\n</div>"
     },
     "execution_count": 8,
     "metadata": {},
     "output_type": "execute_result"
    }
   ],
   "source": [
    "df.at[2, 'age'] = 46\n",
    "df"
   ],
   "metadata": {
    "collapsed": false
   }
  }
 ],
 "metadata": {
  "kernelspec": {
   "display_name": "Python 3",
   "language": "python",
   "name": "python3"
  },
  "language_info": {
   "codemirror_mode": {
    "name": "ipython",
    "version": 2
   },
   "file_extension": ".py",
   "mimetype": "text/x-python",
   "name": "python",
   "nbconvert_exporter": "python",
   "pygments_lexer": "ipython2",
   "version": "2.7.6"
  }
 },
 "nbformat": 4,
 "nbformat_minor": 0
}
